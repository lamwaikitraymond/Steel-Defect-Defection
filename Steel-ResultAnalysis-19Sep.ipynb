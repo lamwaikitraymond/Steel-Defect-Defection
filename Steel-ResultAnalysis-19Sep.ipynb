{
 "cells": [
  {
   "cell_type": "code",
   "execution_count": 1,
   "metadata": {},
   "outputs": [],
   "source": [
    "import numpy as np\n",
    "import pandas as pd\n",
    "import matplotlib.pyplot as plt\n",
    "import seaborn as sns\n",
    "import os\n",
    "import cv2\n",
    "\n",
    "import warnings\n",
    "warnings.filterwarnings('ignore')"
   ]
  },
  {
   "cell_type": "markdown",
   "metadata": {},
   "source": [
    "# df_train"
   ]
  },
  {
   "cell_type": "code",
   "execution_count": 11,
   "metadata": {},
   "outputs": [
    {
     "name": "stdout",
     "output_type": "stream",
     "text": [
      "train.shape: (50272, 2)\n"
     ]
    },
    {
     "data": {
      "text/html": [
       "<div>\n",
       "<style scoped>\n",
       "    .dataframe tbody tr th:only-of-type {\n",
       "        vertical-align: middle;\n",
       "    }\n",
       "\n",
       "    .dataframe tbody tr th {\n",
       "        vertical-align: top;\n",
       "    }\n",
       "\n",
       "    .dataframe thead th {\n",
       "        text-align: right;\n",
       "    }\n",
       "</style>\n",
       "<table border=\"1\" class=\"dataframe\">\n",
       "  <thead>\n",
       "    <tr style=\"text-align: right;\">\n",
       "      <th></th>\n",
       "      <th>ImageId_ClassId</th>\n",
       "      <th>EncodedPixels</th>\n",
       "    </tr>\n",
       "  </thead>\n",
       "  <tbody>\n",
       "    <tr>\n",
       "      <th>0</th>\n",
       "      <td>0002cc93b.jpg_1</td>\n",
       "      <td>29102 12 29346 24 29602 24 29858 24 30114 24 3...</td>\n",
       "    </tr>\n",
       "    <tr>\n",
       "      <th>1</th>\n",
       "      <td>0002cc93b.jpg_2</td>\n",
       "      <td>NaN</td>\n",
       "    </tr>\n",
       "    <tr>\n",
       "      <th>2</th>\n",
       "      <td>0002cc93b.jpg_3</td>\n",
       "      <td>NaN</td>\n",
       "    </tr>\n",
       "    <tr>\n",
       "      <th>3</th>\n",
       "      <td>0002cc93b.jpg_4</td>\n",
       "      <td>NaN</td>\n",
       "    </tr>\n",
       "    <tr>\n",
       "      <th>4</th>\n",
       "      <td>00031f466.jpg_1</td>\n",
       "      <td>NaN</td>\n",
       "    </tr>\n",
       "  </tbody>\n",
       "</table>\n",
       "</div>"
      ],
      "text/plain": [
       "   ImageId_ClassId                                      EncodedPixels\n",
       "0  0002cc93b.jpg_1  29102 12 29346 24 29602 24 29858 24 30114 24 3...\n",
       "1  0002cc93b.jpg_2                                                NaN\n",
       "2  0002cc93b.jpg_3                                                NaN\n",
       "3  0002cc93b.jpg_4                                                NaN\n",
       "4  00031f466.jpg_1                                                NaN"
      ]
     },
     "execution_count": 11,
     "metadata": {},
     "output_type": "execute_result"
    }
   ],
   "source": [
    "train = pd.read_csv('./input/train.csv')\n",
    "print(\"train.shape:\", train.shape)\n",
    "train.head()"
   ]
  },
  {
   "cell_type": "code",
   "execution_count": 12,
   "metadata": {},
   "outputs": [
    {
     "data": {
      "text/html": [
       "<div>\n",
       "<style scoped>\n",
       "    .dataframe tbody tr th:only-of-type {\n",
       "        vertical-align: middle;\n",
       "    }\n",
       "\n",
       "    .dataframe tbody tr th {\n",
       "        vertical-align: top;\n",
       "    }\n",
       "\n",
       "    .dataframe thead th {\n",
       "        text-align: right;\n",
       "    }\n",
       "</style>\n",
       "<table border=\"1\" class=\"dataframe\">\n",
       "  <thead>\n",
       "    <tr style=\"text-align: right;\">\n",
       "      <th></th>\n",
       "      <th>ImageId</th>\n",
       "      <th>ClassId</th>\n",
       "      <th>defect</th>\n",
       "      <th>EncodedPixels</th>\n",
       "    </tr>\n",
       "  </thead>\n",
       "  <tbody>\n",
       "    <tr>\n",
       "      <th>0</th>\n",
       "      <td>0002cc93b.jpg</td>\n",
       "      <td>1</td>\n",
       "      <td>True</td>\n",
       "      <td>29102 12 29346 24 29602 24 29858 24 30114 24 3...</td>\n",
       "    </tr>\n",
       "    <tr>\n",
       "      <th>1</th>\n",
       "      <td>0002cc93b.jpg</td>\n",
       "      <td>2</td>\n",
       "      <td>False</td>\n",
       "      <td>NaN</td>\n",
       "    </tr>\n",
       "    <tr>\n",
       "      <th>2</th>\n",
       "      <td>0002cc93b.jpg</td>\n",
       "      <td>3</td>\n",
       "      <td>False</td>\n",
       "      <td>NaN</td>\n",
       "    </tr>\n",
       "    <tr>\n",
       "      <th>3</th>\n",
       "      <td>0002cc93b.jpg</td>\n",
       "      <td>4</td>\n",
       "      <td>False</td>\n",
       "      <td>NaN</td>\n",
       "    </tr>\n",
       "    <tr>\n",
       "      <th>4</th>\n",
       "      <td>00031f466.jpg</td>\n",
       "      <td>1</td>\n",
       "      <td>False</td>\n",
       "      <td>NaN</td>\n",
       "    </tr>\n",
       "  </tbody>\n",
       "</table>\n",
       "</div>"
      ],
      "text/plain": [
       "         ImageId ClassId  defect  \\\n",
       "0  0002cc93b.jpg       1    True   \n",
       "1  0002cc93b.jpg       2   False   \n",
       "2  0002cc93b.jpg       3   False   \n",
       "3  0002cc93b.jpg       4   False   \n",
       "4  00031f466.jpg       1   False   \n",
       "\n",
       "                                       EncodedPixels  \n",
       "0  29102 12 29346 24 29602 24 29858 24 30114 24 3...  \n",
       "1                                                NaN  \n",
       "2                                                NaN  \n",
       "3                                                NaN  \n",
       "4                                                NaN  "
      ]
     },
     "execution_count": 12,
     "metadata": {},
     "output_type": "execute_result"
    }
   ],
   "source": [
    "train['ImageId'] = train['ImageId_ClassId'].str[:-2]\n",
    "train['ClassId'] = train['ImageId_ClassId'].str[-1:]\n",
    "train['defect'] = train['EncodedPixels'].notnull()\n",
    "\n",
    "train = train[['ImageId','ClassId','defect','EncodedPixels']]\n",
    "train.head()"
   ]
  },
  {
   "cell_type": "markdown",
   "metadata": {},
   "source": [
    "## 1) Masks Distribution"
   ]
  },
  {
   "cell_type": "code",
   "execution_count": 30,
   "metadata": {},
   "outputs": [
    {
     "name": "stdout",
     "output_type": "stream",
     "text": [
      "True     43177\n",
      "False     7095\n",
      "Name: EncodedPixels, dtype: int64\n",
      "Ratio (hasMask/Total): 0.14113224061107574\n"
     ]
    },
    {
     "data": {
      "text/plain": [
       "Text(0, 0.5, 'No. of masks')"
      ]
     },
     "execution_count": 30,
     "metadata": {},
     "output_type": "execute_result"
    },
    {
     "data": {
      "image/png": "[encoded data removed]",
      "text/plain": [
       "<Figure size 432x288 with 1 Axes>"
      ]
     },
     "metadata": {
      "needs_background": "light"
     },
     "output_type": "display_data"
    }
   ],
   "source": [
    "print(train['EncodedPixels'].isnull().value_counts())\n",
    "print('Ratio (hasMask/Total):', train['EncodedPixels'].count()/train['EncodedPixels'].isnull().count())\n",
    "\n",
    "train['EncodedPixels'].isnull().value_counts().plot(kind='bar')\n",
    "plt.xlabel(\"no mask / has mask\")\n",
    "plt.ylabel(\"No. of masks\")"
   ]
  },
  {
   "cell_type": "markdown",
   "metadata": {},
   "source": [
    "-----------------------------------------------------------------------------------------------------"
   ]
  },
  {
   "cell_type": "code",
   "execution_count": 35,
   "metadata": {},
   "outputs": [
    {
     "name": "stdout",
     "output_type": "stream",
     "text": [
      "There are 12568 train_images in total\n",
      "train1.shape: (12568, 1)\n"
     ]
    },
    {
     "data": {
      "text/html": [
       "<div>\n",
       "<style scoped>\n",
       "    .dataframe tbody tr th:only-of-type {\n",
       "        vertical-align: middle;\n",
       "    }\n",
       "\n",
       "    .dataframe tbody tr th {\n",
       "        vertical-align: top;\n",
       "    }\n",
       "\n",
       "    .dataframe thead th {\n",
       "        text-align: right;\n",
       "    }\n",
       "</style>\n",
       "<table border=\"1\" class=\"dataframe\">\n",
       "  <thead>\n",
       "    <tr style=\"text-align: right;\">\n",
       "      <th></th>\n",
       "      <th>num_defects</th>\n",
       "    </tr>\n",
       "    <tr>\n",
       "      <th>ImageId</th>\n",
       "      <th></th>\n",
       "    </tr>\n",
       "  </thead>\n",
       "  <tbody>\n",
       "    <tr>\n",
       "      <th>0002cc93b.jpg</th>\n",
       "      <td>1</td>\n",
       "    </tr>\n",
       "    <tr>\n",
       "      <th>00031f466.jpg</th>\n",
       "      <td>0</td>\n",
       "    </tr>\n",
       "    <tr>\n",
       "      <th>000418bfc.jpg</th>\n",
       "      <td>0</td>\n",
       "    </tr>\n",
       "    <tr>\n",
       "      <th>000789191.jpg</th>\n",
       "      <td>0</td>\n",
       "    </tr>\n",
       "    <tr>\n",
       "      <th>0007a71bf.jpg</th>\n",
       "      <td>1</td>\n",
       "    </tr>\n",
       "  </tbody>\n",
       "</table>\n",
       "</div>"
      ],
      "text/plain": [
       "               num_defects\n",
       "ImageId                   \n",
       "0002cc93b.jpg            1\n",
       "00031f466.jpg            0\n",
       "000418bfc.jpg            0\n",
       "000789191.jpg            0\n",
       "0007a71bf.jpg            1"
      ]
     },
     "execution_count": 35,
     "metadata": {},
     "output_type": "execute_result"
    }
   ],
   "source": [
    "train1 = train.groupby(by='ImageId', axis=0).agg({'defect':'sum'})\n",
    "train1.rename(columns={'defect': 'num_defects'}, inplace=True)\n",
    "train1['num_defects'] = train1['num_defects'].astype(np.int32)\n",
    "\n",
    "print('There are {} train_images in total'.format(train1.shape[0]))\n",
    "print('train1.shape:', train1.shape)\n",
    "train1.head()"
   ]
  },
  {
   "cell_type": "markdown",
   "metadata": {},
   "source": [
    "## 2) No. of image with 0/1/2/3/4 masks (Masks Distribution)"
   ]
  },
  {
   "cell_type": "code",
   "execution_count": 69,
   "metadata": {},
   "outputs": [
    {
     "name": "stdout",
     "output_type": "stream",
     "text": [
      "1    6239\n",
      "0    5902\n",
      "2     425\n",
      "3       2\n",
      "Name: num_defects, dtype: int64\n",
      "Ratio (has0Mask/Total): 0.4696053469127944\n",
      "Ratio (has1Mask/Total): 0.4964194780394653\n",
      "Ratio (has2Mask/Total): 0.03381604073838319\n"
     ]
    },
    {
     "data": {
      "text/plain": [
       "Text(0, 0.5, 'No. of images')"
      ]
     },
     "execution_count": 69,
     "metadata": {},
     "output_type": "execute_result"
    },
    {
     "data": {
      "image/png": "[encoded data removed]",
      "text/plain": [
       "<Figure size 432x288 with 1 Axes>"
      ]
     },
     "metadata": {
      "needs_background": "light"
     },
     "output_type": "display_data"
    }
   ],
   "source": [
    "print(train1['num_defects'].value_counts())\n",
    "print('Ratio (has0Mask/Total):', train1['num_defects'].value_counts()[0]/train1['num_defects'].count())\n",
    "print('Ratio (has1Mask/Total):', train1['num_defects'].value_counts()[1]/train1['num_defects'].count())\n",
    "print('Ratio (has2Mask/Total):', train1['num_defects'].value_counts()[2]/train1['num_defects'].count())\n",
    "\n",
    "train1['num_defects'].value_counts().plot(kind='bar')\n",
    "plt.xlabel(\"No. of defects\")\n",
    "plt.ylabel(\"No. of images\")"
   ]
  },
  {
   "cell_type": "markdown",
   "metadata": {},
   "source": [
    "-----------------------------------------------------------------------------------------------------"
   ]
  },
  {
   "cell_type": "code",
   "execution_count": 54,
   "metadata": {},
   "outputs": [],
   "source": [
    "train2 = train[train['defect']==True]"
   ]
  },
  {
   "cell_type": "code",
   "execution_count": 55,
   "metadata": {},
   "outputs": [
    {
     "name": "stdout",
     "output_type": "stream",
     "text": [
      "There are 7095 defects in total.\n",
      "train.shape: (7095, 4)\n"
     ]
    },
    {
     "data": {
      "text/html": [
       "<div>\n",
       "<style scoped>\n",
       "    .dataframe tbody tr th:only-of-type {\n",
       "        vertical-align: middle;\n",
       "    }\n",
       "\n",
       "    .dataframe tbody tr th {\n",
       "        vertical-align: top;\n",
       "    }\n",
       "\n",
       "    .dataframe thead th {\n",
       "        text-align: right;\n",
       "    }\n",
       "</style>\n",
       "<table border=\"1\" class=\"dataframe\">\n",
       "  <thead>\n",
       "    <tr style=\"text-align: right;\">\n",
       "      <th></th>\n",
       "      <th>ImageId</th>\n",
       "      <th>ClassId</th>\n",
       "      <th>defect</th>\n",
       "      <th>EncodedPixels</th>\n",
       "    </tr>\n",
       "  </thead>\n",
       "  <tbody>\n",
       "    <tr>\n",
       "      <th>0</th>\n",
       "      <td>0002cc93b.jpg</td>\n",
       "      <td>1</td>\n",
       "      <td>True</td>\n",
       "      <td>29102 12 29346 24 29602 24 29858 24 30114 24 3...</td>\n",
       "    </tr>\n",
       "    <tr>\n",
       "      <th>18</th>\n",
       "      <td>0007a71bf.jpg</td>\n",
       "      <td>3</td>\n",
       "      <td>True</td>\n",
       "      <td>18661 28 18863 82 19091 110 19347 110 19603 11...</td>\n",
       "    </tr>\n",
       "    <tr>\n",
       "      <th>20</th>\n",
       "      <td>000a4bcdd.jpg</td>\n",
       "      <td>1</td>\n",
       "      <td>True</td>\n",
       "      <td>37607 3 37858 8 38108 14 38359 20 38610 25 388...</td>\n",
       "    </tr>\n",
       "    <tr>\n",
       "      <th>27</th>\n",
       "      <td>000f6bf48.jpg</td>\n",
       "      <td>4</td>\n",
       "      <td>True</td>\n",
       "      <td>131973 1 132228 4 132483 6 132738 8 132993 11 ...</td>\n",
       "    </tr>\n",
       "    <tr>\n",
       "      <th>30</th>\n",
       "      <td>0014fce06.jpg</td>\n",
       "      <td>3</td>\n",
       "      <td>True</td>\n",
       "      <td>229501 11 229741 33 229981 55 230221 77 230468...</td>\n",
       "    </tr>\n",
       "  </tbody>\n",
       "</table>\n",
       "</div>"
      ],
      "text/plain": [
       "          ImageId ClassId  defect  \\\n",
       "0   0002cc93b.jpg       1    True   \n",
       "18  0007a71bf.jpg       3    True   \n",
       "20  000a4bcdd.jpg       1    True   \n",
       "27  000f6bf48.jpg       4    True   \n",
       "30  0014fce06.jpg       3    True   \n",
       "\n",
       "                                        EncodedPixels  \n",
       "0   29102 12 29346 24 29602 24 29858 24 30114 24 3...  \n",
       "18  18661 28 18863 82 19091 110 19347 110 19603 11...  \n",
       "20  37607 3 37858 8 38108 14 38359 20 38610 25 388...  \n",
       "27  131973 1 132228 4 132483 6 132738 8 132993 11 ...  \n",
       "30  229501 11 229741 33 229981 55 230221 77 230468...  "
      ]
     },
     "execution_count": 55,
     "metadata": {},
     "output_type": "execute_result"
    }
   ],
   "source": [
    "print('There are {} defects in total.'.format(train2.shape[0]))\n",
    "print('train.shape:', train2.shape)\n",
    "train2.head()"
   ]
  },
  {
   "cell_type": "markdown",
   "metadata": {},
   "source": [
    "## 3) No. of images for each Class (Class Distribution with masks)"
   ]
  },
  {
   "cell_type": "code",
   "execution_count": 66,
   "metadata": {},
   "outputs": [
    {
     "name": "stdout",
     "output_type": "stream",
     "text": [
      "3    5150\n",
      "1     897\n",
      "4     801\n",
      "2     247\n",
      "Name: ClassId, dtype: int64\n",
      "Ratio (Class3/Total): 0.7258632840028189\n",
      "Ratio (Class1/Total): 0.12642706131078224\n",
      "Ratio (Class4/Total): 0.11289640591966173\n",
      "Ratio (Class2/Total): 0.03481324876673714\n"
     ]
    },
    {
     "data": {
      "text/plain": [
       "Text(0, 0.5, 'No. of images')"
      ]
     },
     "execution_count": 66,
     "metadata": {},
     "output_type": "execute_result"
    },
    {
     "data": {
      "image/png": "[encoded data removed]",
      "text/plain": [
       "<Figure size 432x288 with 1 Axes>"
      ]
     },
     "metadata": {
      "needs_background": "light"
     },
     "output_type": "display_data"
    }
   ],
   "source": [
    "print(train2['ClassId'].value_counts())\n",
    "print('Ratio (Class3/Total):', train2['ClassId'].value_counts()[0]/train2['ClassId'].count())\n",
    "print('Ratio (Class1/Total):', train2['ClassId'].value_counts()[1]/train2['ClassId'].count())\n",
    "print('Ratio (Class4/Total):', train2['ClassId'].value_counts()[2]/train2['ClassId'].count())\n",
    "print('Ratio (Class2/Total):', train2['ClassId'].value_counts()[3]/train2['ClassId'].count())\n",
    "\n",
    "train2['ClassId'].value_counts().plot(kind='bar')\n",
    "plt.xlabel(\"Class\")\n",
    "plt.ylabel(\"No. of images\")"
   ]
  },
  {
   "cell_type": "markdown",
   "metadata": {},
   "source": [
    "# df_result"
   ]
  },
  {
   "cell_type": "code",
   "execution_count": 2,
   "metadata": {},
   "outputs": [
    {
     "name": "stdout",
     "output_type": "stream",
     "text": [
      "submission.shape: (7204, 2)\n"
     ]
    },
    {
     "data": {
      "text/html": [
       "<div>\n",
       "<style scoped>\n",
       "    .dataframe tbody tr th:only-of-type {\n",
       "        vertical-align: middle;\n",
       "    }\n",
       "\n",
       "    .dataframe tbody tr th {\n",
       "        vertical-align: top;\n",
       "    }\n",
       "\n",
       "    .dataframe thead th {\n",
       "        text-align: right;\n",
       "    }\n",
       "</style>\n",
       "<table border=\"1\" class=\"dataframe\">\n",
       "  <thead>\n",
       "    <tr style=\"text-align: right;\">\n",
       "      <th></th>\n",
       "      <th>ImageId_ClassId</th>\n",
       "      <th>EncodedPixels</th>\n",
       "    </tr>\n",
       "  </thead>\n",
       "  <tbody>\n",
       "    <tr>\n",
       "      <th>0</th>\n",
       "      <td>004f40c73.jpg_1</td>\n",
       "      <td>NaN</td>\n",
       "    </tr>\n",
       "    <tr>\n",
       "      <th>1</th>\n",
       "      <td>004f40c73.jpg_2</td>\n",
       "      <td>NaN</td>\n",
       "    </tr>\n",
       "    <tr>\n",
       "      <th>2</th>\n",
       "      <td>004f40c73.jpg_3</td>\n",
       "      <td>NaN</td>\n",
       "    </tr>\n",
       "    <tr>\n",
       "      <th>3</th>\n",
       "      <td>004f40c73.jpg_4</td>\n",
       "      <td>NaN</td>\n",
       "    </tr>\n",
       "    <tr>\n",
       "      <th>4</th>\n",
       "      <td>006f39c41.jpg_1</td>\n",
       "      <td>NaN</td>\n",
       "    </tr>\n",
       "    <tr>\n",
       "      <th>5</th>\n",
       "      <td>006f39c41.jpg_2</td>\n",
       "      <td>NaN</td>\n",
       "    </tr>\n",
       "    <tr>\n",
       "      <th>6</th>\n",
       "      <td>006f39c41.jpg_3</td>\n",
       "      <td>NaN</td>\n",
       "    </tr>\n",
       "    <tr>\n",
       "      <th>7</th>\n",
       "      <td>006f39c41.jpg_4</td>\n",
       "      <td>NaN</td>\n",
       "    </tr>\n",
       "    <tr>\n",
       "      <th>8</th>\n",
       "      <td>00b7fb703.jpg_1</td>\n",
       "      <td>NaN</td>\n",
       "    </tr>\n",
       "    <tr>\n",
       "      <th>9</th>\n",
       "      <td>00b7fb703.jpg_2</td>\n",
       "      <td>NaN</td>\n",
       "    </tr>\n",
       "    <tr>\n",
       "      <th>10</th>\n",
       "      <td>00b7fb703.jpg_3</td>\n",
       "      <td>3341 63 3405 1 3592 146 3739 11 3848 172 4105 ...</td>\n",
       "    </tr>\n",
       "    <tr>\n",
       "      <th>11</th>\n",
       "      <td>00b7fb703.jpg_4</td>\n",
       "      <td>NaN</td>\n",
       "    </tr>\n",
       "    <tr>\n",
       "      <th>12</th>\n",
       "      <td>00bbcd9af.jpg_1</td>\n",
       "      <td>NaN</td>\n",
       "    </tr>\n",
       "    <tr>\n",
       "      <th>13</th>\n",
       "      <td>00bbcd9af.jpg_2</td>\n",
       "      <td>NaN</td>\n",
       "    </tr>\n",
       "    <tr>\n",
       "      <th>14</th>\n",
       "      <td>00bbcd9af.jpg_3</td>\n",
       "      <td>24956 3 24961 1 24963 125 25189 155 25431 169 ...</td>\n",
       "    </tr>\n",
       "    <tr>\n",
       "      <th>15</th>\n",
       "      <td>00bbcd9af.jpg_4</td>\n",
       "      <td>48597 2 48851 4 48864 4 48869 3 48873 1 49106 ...</td>\n",
       "    </tr>\n",
       "  </tbody>\n",
       "</table>\n",
       "</div>"
      ],
      "text/plain": [
       "    ImageId_ClassId                                      EncodedPixels\n",
       "0   004f40c73.jpg_1                                                NaN\n",
       "1   004f40c73.jpg_2                                                NaN\n",
       "2   004f40c73.jpg_3                                                NaN\n",
       "3   004f40c73.jpg_4                                                NaN\n",
       "4   006f39c41.jpg_1                                                NaN\n",
       "5   006f39c41.jpg_2                                                NaN\n",
       "6   006f39c41.jpg_3                                                NaN\n",
       "7   006f39c41.jpg_4                                                NaN\n",
       "8   00b7fb703.jpg_1                                                NaN\n",
       "9   00b7fb703.jpg_2                                                NaN\n",
       "10  00b7fb703.jpg_3  3341 63 3405 1 3592 146 3739 11 3848 172 4105 ...\n",
       "11  00b7fb703.jpg_4                                                NaN\n",
       "12  00bbcd9af.jpg_1                                                NaN\n",
       "13  00bbcd9af.jpg_2                                                NaN\n",
       "14  00bbcd9af.jpg_3  24956 3 24961 1 24963 125 25189 155 25431 169 ...\n",
       "15  00bbcd9af.jpg_4  48597 2 48851 4 48864 4 48869 3 48873 1 49106 ..."
      ]
     },
     "execution_count": 2,
     "metadata": {},
     "output_type": "execute_result"
    }
   ],
   "source": [
    "submission = pd.read_csv('./output/submission_step2_gray.csv')\n",
    "\n",
    "print(\"submission.shape:\", submission.shape)\n",
    "submission.head(16)"
   ]
  },
  {
   "cell_type": "code",
   "execution_count": 14,
   "metadata": {},
   "outputs": [
    {
     "data": {
      "text/html": [
       "<div>\n",
       "<style scoped>\n",
       "    .dataframe tbody tr th:only-of-type {\n",
       "        vertical-align: middle;\n",
       "    }\n",
       "\n",
       "    .dataframe tbody tr th {\n",
       "        vertical-align: top;\n",
       "    }\n",
       "\n",
       "    .dataframe thead th {\n",
       "        text-align: right;\n",
       "    }\n",
       "</style>\n",
       "<table border=\"1\" class=\"dataframe\">\n",
       "  <thead>\n",
       "    <tr style=\"text-align: right;\">\n",
       "      <th></th>\n",
       "      <th>ImageId_ClassId</th>\n",
       "      <th>ImageId</th>\n",
       "      <th>ClassId</th>\n",
       "      <th>defect</th>\n",
       "      <th>EncodedPixels</th>\n",
       "    </tr>\n",
       "  </thead>\n",
       "  <tbody>\n",
       "    <tr>\n",
       "      <th>0</th>\n",
       "      <td>004f40c73.jpg_1</td>\n",
       "      <td>004f40c73.jpg</td>\n",
       "      <td>1</td>\n",
       "      <td>False</td>\n",
       "      <td>NaN</td>\n",
       "    </tr>\n",
       "    <tr>\n",
       "      <th>1</th>\n",
       "      <td>004f40c73.jpg_2</td>\n",
       "      <td>004f40c73.jpg</td>\n",
       "      <td>2</td>\n",
       "      <td>False</td>\n",
       "      <td>NaN</td>\n",
       "    </tr>\n",
       "    <tr>\n",
       "      <th>2</th>\n",
       "      <td>004f40c73.jpg_3</td>\n",
       "      <td>004f40c73.jpg</td>\n",
       "      <td>3</td>\n",
       "      <td>False</td>\n",
       "      <td>NaN</td>\n",
       "    </tr>\n",
       "    <tr>\n",
       "      <th>3</th>\n",
       "      <td>004f40c73.jpg_4</td>\n",
       "      <td>004f40c73.jpg</td>\n",
       "      <td>4</td>\n",
       "      <td>False</td>\n",
       "      <td>NaN</td>\n",
       "    </tr>\n",
       "    <tr>\n",
       "      <th>4</th>\n",
       "      <td>006f39c41.jpg_1</td>\n",
       "      <td>006f39c41.jpg</td>\n",
       "      <td>1</td>\n",
       "      <td>False</td>\n",
       "      <td>NaN</td>\n",
       "    </tr>\n",
       "    <tr>\n",
       "      <th>5</th>\n",
       "      <td>006f39c41.jpg_2</td>\n",
       "      <td>006f39c41.jpg</td>\n",
       "      <td>2</td>\n",
       "      <td>False</td>\n",
       "      <td>NaN</td>\n",
       "    </tr>\n",
       "    <tr>\n",
       "      <th>6</th>\n",
       "      <td>006f39c41.jpg_3</td>\n",
       "      <td>006f39c41.jpg</td>\n",
       "      <td>3</td>\n",
       "      <td>False</td>\n",
       "      <td>NaN</td>\n",
       "    </tr>\n",
       "    <tr>\n",
       "      <th>7</th>\n",
       "      <td>006f39c41.jpg_4</td>\n",
       "      <td>006f39c41.jpg</td>\n",
       "      <td>4</td>\n",
       "      <td>False</td>\n",
       "      <td>NaN</td>\n",
       "    </tr>\n",
       "    <tr>\n",
       "      <th>8</th>\n",
       "      <td>00b7fb703.jpg_1</td>\n",
       "      <td>00b7fb703.jpg</td>\n",
       "      <td>1</td>\n",
       "      <td>False</td>\n",
       "      <td>NaN</td>\n",
       "    </tr>\n",
       "    <tr>\n",
       "      <th>9</th>\n",
       "      <td>00b7fb703.jpg_2</td>\n",
       "      <td>00b7fb703.jpg</td>\n",
       "      <td>2</td>\n",
       "      <td>False</td>\n",
       "      <td>NaN</td>\n",
       "    </tr>\n",
       "    <tr>\n",
       "      <th>10</th>\n",
       "      <td>00b7fb703.jpg_3</td>\n",
       "      <td>00b7fb703.jpg</td>\n",
       "      <td>3</td>\n",
       "      <td>True</td>\n",
       "      <td>3341 63 3405 1 3592 146 3739 11 3848 172 4105 ...</td>\n",
       "    </tr>\n",
       "    <tr>\n",
       "      <th>11</th>\n",
       "      <td>00b7fb703.jpg_4</td>\n",
       "      <td>00b7fb703.jpg</td>\n",
       "      <td>4</td>\n",
       "      <td>False</td>\n",
       "      <td>NaN</td>\n",
       "    </tr>\n",
       "    <tr>\n",
       "      <th>12</th>\n",
       "      <td>00bbcd9af.jpg_1</td>\n",
       "      <td>00bbcd9af.jpg</td>\n",
       "      <td>1</td>\n",
       "      <td>False</td>\n",
       "      <td>NaN</td>\n",
       "    </tr>\n",
       "    <tr>\n",
       "      <th>13</th>\n",
       "      <td>00bbcd9af.jpg_2</td>\n",
       "      <td>00bbcd9af.jpg</td>\n",
       "      <td>2</td>\n",
       "      <td>False</td>\n",
       "      <td>NaN</td>\n",
       "    </tr>\n",
       "    <tr>\n",
       "      <th>14</th>\n",
       "      <td>00bbcd9af.jpg_3</td>\n",
       "      <td>00bbcd9af.jpg</td>\n",
       "      <td>3</td>\n",
       "      <td>True</td>\n",
       "      <td>24956 3 24961 1 24963 125 25189 155 25431 169 ...</td>\n",
       "    </tr>\n",
       "    <tr>\n",
       "      <th>15</th>\n",
       "      <td>00bbcd9af.jpg_4</td>\n",
       "      <td>00bbcd9af.jpg</td>\n",
       "      <td>4</td>\n",
       "      <td>True</td>\n",
       "      <td>48597 2 48851 4 48864 4 48869 3 48873 1 49106 ...</td>\n",
       "    </tr>\n",
       "  </tbody>\n",
       "</table>\n",
       "</div>"
      ],
      "text/plain": [
       "    ImageId_ClassId        ImageId ClassId  defect  \\\n",
       "0   004f40c73.jpg_1  004f40c73.jpg       1   False   \n",
       "1   004f40c73.jpg_2  004f40c73.jpg       2   False   \n",
       "2   004f40c73.jpg_3  004f40c73.jpg       3   False   \n",
       "3   004f40c73.jpg_4  004f40c73.jpg       4   False   \n",
       "4   006f39c41.jpg_1  006f39c41.jpg       1   False   \n",
       "5   006f39c41.jpg_2  006f39c41.jpg       2   False   \n",
       "6   006f39c41.jpg_3  006f39c41.jpg       3   False   \n",
       "7   006f39c41.jpg_4  006f39c41.jpg       4   False   \n",
       "8   00b7fb703.jpg_1  00b7fb703.jpg       1   False   \n",
       "9   00b7fb703.jpg_2  00b7fb703.jpg       2   False   \n",
       "10  00b7fb703.jpg_3  00b7fb703.jpg       3    True   \n",
       "11  00b7fb703.jpg_4  00b7fb703.jpg       4   False   \n",
       "12  00bbcd9af.jpg_1  00bbcd9af.jpg       1   False   \n",
       "13  00bbcd9af.jpg_2  00bbcd9af.jpg       2   False   \n",
       "14  00bbcd9af.jpg_3  00bbcd9af.jpg       3    True   \n",
       "15  00bbcd9af.jpg_4  00bbcd9af.jpg       4    True   \n",
       "\n",
       "                                        EncodedPixels  \n",
       "0                                                 NaN  \n",
       "1                                                 NaN  \n",
       "2                                                 NaN  \n",
       "3                                                 NaN  \n",
       "4                                                 NaN  \n",
       "5                                                 NaN  \n",
       "6                                                 NaN  \n",
       "7                                                 NaN  \n",
       "8                                                 NaN  \n",
       "9                                                 NaN  \n",
       "10  3341 63 3405 1 3592 146 3739 11 3848 172 4105 ...  \n",
       "11                                                NaN  \n",
       "12                                                NaN  \n",
       "13                                                NaN  \n",
       "14  24956 3 24961 1 24963 125 25189 155 25431 169 ...  \n",
       "15  48597 2 48851 4 48864 4 48869 3 48873 1 49106 ...  "
      ]
     },
     "execution_count": 14,
     "metadata": {},
     "output_type": "execute_result"
    }
   ],
   "source": [
    "submission['ImageId'] = submission['ImageId_ClassId'].str[:-2]\n",
    "submission['ClassId'] = submission['ImageId_ClassId'].str[-1:]\n",
    "submission['defect'] =submission['EncodedPixels'].notnull()\n",
    "\n",
    "submission = submission[['ImageId_ClassId','ImageId','ClassId','defect','EncodedPixels']]\n",
    "submission.head(16)"
   ]
  },
  {
   "cell_type": "markdown",
   "metadata": {},
   "source": [
    "## 1) Masks Distribution"
   ]
  },
  {
   "cell_type": "code",
   "execution_count": 31,
   "metadata": {},
   "outputs": [
    {
     "name": "stdout",
     "output_type": "stream",
     "text": [
      "True     6244\n",
      "False     960\n",
      "Name: EncodedPixels, dtype: int64\n",
      "Ratio (hasMask/Total): 0.13325930038867295\n"
     ]
    },
    {
     "data": {
      "text/plain": [
       "Text(0, 0.5, 'No. of masks')"
      ]
     },
     "execution_count": 31,
     "metadata": {},
     "output_type": "execute_result"
    },
    {
     "data": {
      "image/png": "[encoded data removed]",
      "text/plain": [
       "<Figure size 432x288 with 1 Axes>"
      ]
     },
     "metadata": {
      "needs_background": "light"
     },
     "output_type": "display_data"
    }
   ],
   "source": [
    "print(submission['EncodedPixels'].isnull().value_counts())\n",
    "print('Ratio (hasMask/Total):', submission['EncodedPixels'].count()/submission['EncodedPixels'].isnull().count())\n",
    "\n",
    "submission['EncodedPixels'].isnull().value_counts().plot(kind='bar')\n",
    "plt.xlabel(\"no mask / has mask\")\n",
    "plt.ylabel(\"No. of masks\")"
   ]
  },
  {
   "cell_type": "markdown",
   "metadata": {},
   "source": [
    "Quite similar. Look good."
   ]
  },
  {
   "cell_type": "markdown",
   "metadata": {},
   "source": [
    "-----------------------------------------------------------------------------------------------------"
   ]
  },
  {
   "cell_type": "code",
   "execution_count": 42,
   "metadata": {},
   "outputs": [
    {
     "name": "stdout",
     "output_type": "stream",
     "text": [
      "There are 1801 submission_images in total\n",
      "submission1.shape: (1801, 1)\n"
     ]
    },
    {
     "data": {
      "text/html": [
       "<div>\n",
       "<style scoped>\n",
       "    .dataframe tbody tr th:only-of-type {\n",
       "        vertical-align: middle;\n",
       "    }\n",
       "\n",
       "    .dataframe tbody tr th {\n",
       "        vertical-align: top;\n",
       "    }\n",
       "\n",
       "    .dataframe thead th {\n",
       "        text-align: right;\n",
       "    }\n",
       "</style>\n",
       "<table border=\"1\" class=\"dataframe\">\n",
       "  <thead>\n",
       "    <tr style=\"text-align: right;\">\n",
       "      <th></th>\n",
       "      <th>num_defects</th>\n",
       "    </tr>\n",
       "    <tr>\n",
       "      <th>ImageId</th>\n",
       "      <th></th>\n",
       "    </tr>\n",
       "  </thead>\n",
       "  <tbody>\n",
       "    <tr>\n",
       "      <th>004f40c73.jpg</th>\n",
       "      <td>0</td>\n",
       "    </tr>\n",
       "    <tr>\n",
       "      <th>006f39c41.jpg</th>\n",
       "      <td>0</td>\n",
       "    </tr>\n",
       "    <tr>\n",
       "      <th>00b7fb703.jpg</th>\n",
       "      <td>1</td>\n",
       "    </tr>\n",
       "    <tr>\n",
       "      <th>00bbcd9af.jpg</th>\n",
       "      <td>2</td>\n",
       "    </tr>\n",
       "    <tr>\n",
       "      <th>0108ce457.jpg</th>\n",
       "      <td>0</td>\n",
       "    </tr>\n",
       "  </tbody>\n",
       "</table>\n",
       "</div>"
      ],
      "text/plain": [
       "               num_defects\n",
       "ImageId                   \n",
       "004f40c73.jpg            0\n",
       "006f39c41.jpg            0\n",
       "00b7fb703.jpg            1\n",
       "00bbcd9af.jpg            2\n",
       "0108ce457.jpg            0"
      ]
     },
     "execution_count": 42,
     "metadata": {},
     "output_type": "execute_result"
    }
   ],
   "source": [
    "submission1 = submission.groupby(by='ImageId', axis=0).agg({'defect':'sum'})\n",
    "submission1.rename(columns={'defect': 'num_defects'}, inplace=True)\n",
    "submission1['num_defects'] = submission1['num_defects'].astype(np.int32)\n",
    "\n",
    "print('There are {} submission_images in total'.format(submission1.shape[0]))\n",
    "print('submission1.shape:', submission1.shape)\n",
    "submission1.head()"
   ]
  },
  {
   "cell_type": "markdown",
   "metadata": {},
   "source": [
    "## 2) No. of image with 0/1/2/3/4 masks"
   ]
  },
  {
   "cell_type": "code",
   "execution_count": 68,
   "metadata": {},
   "outputs": [
    {
     "name": "stdout",
     "output_type": "stream",
     "text": [
      "0    1040\n",
      "1     566\n",
      "2     191\n",
      "3       4\n",
      "Name: num_defects, dtype: int64\n",
      "Ratio (has0Mask/Total): 0.5774569683509162\n",
      "Ratio (has1Mask/Total): 0.31426985008328706\n",
      "Ratio (has2Mask/Total): 0.10605219322598557\n"
     ]
    },
    {
     "data": {
      "text/plain": [
       "Text(0, 0.5, 'No. of images')"
      ]
     },
     "execution_count": 68,
     "metadata": {},
     "output_type": "execute_result"
    },
    {
     "data": {
      "image/png": "[encoded data removed]",
      "text/plain": [
       "<Figure size 432x288 with 1 Axes>"
      ]
     },
     "metadata": {
      "needs_background": "light"
     },
     "output_type": "display_data"
    }
   ],
   "source": [
    "print(submission1['num_defects'].value_counts())\n",
    "print('Ratio (has0Mask/Total):', submission1['num_defects'].value_counts()[0]/submission1['num_defects'].count())\n",
    "print('Ratio (has1Mask/Total):', submission1['num_defects'].value_counts()[1]/submission1['num_defects'].count())\n",
    "print('Ratio (has2Mask/Total):', submission1['num_defects'].value_counts()[2]/submission1['num_defects'].count())\n",
    "\n",
    "submission1['num_defects'].value_counts().plot(kind='bar')\n",
    "plt.xlabel(\"No. of defects\")\n",
    "plt.ylabel(\"No. of images\")"
   ]
  },
  {
   "cell_type": "markdown",
   "metadata": {},
   "source": [
    "Not good. Images with 1 mask are fewer while images with 0&2 mask are more.\n",
    "#### It shows that there is a huge error in step1 (binary classification - hasmask/nomask)"
   ]
  },
  {
   "cell_type": "markdown",
   "metadata": {},
   "source": [
    "-----------------------------------------------------------------------------------------------------"
   ]
  },
  {
   "cell_type": "code",
   "execution_count": 62,
   "metadata": {},
   "outputs": [],
   "source": [
    "submission2 = submission[submission['defect']==True]"
   ]
  },
  {
   "cell_type": "code",
   "execution_count": 64,
   "metadata": {},
   "outputs": [
    {
     "name": "stdout",
     "output_type": "stream",
     "text": [
      "There are 960 masks in total.\n",
      "submission.shape: (960, 5)\n"
     ]
    },
    {
     "data": {
      "text/html": [
       "<div>\n",
       "<style scoped>\n",
       "    .dataframe tbody tr th:only-of-type {\n",
       "        vertical-align: middle;\n",
       "    }\n",
       "\n",
       "    .dataframe tbody tr th {\n",
       "        vertical-align: top;\n",
       "    }\n",
       "\n",
       "    .dataframe thead th {\n",
       "        text-align: right;\n",
       "    }\n",
       "</style>\n",
       "<table border=\"1\" class=\"dataframe\">\n",
       "  <thead>\n",
       "    <tr style=\"text-align: right;\">\n",
       "      <th></th>\n",
       "      <th>ImageId_ClassId</th>\n",
       "      <th>ImageId</th>\n",
       "      <th>ClassId</th>\n",
       "      <th>defect</th>\n",
       "      <th>EncodedPixels</th>\n",
       "    </tr>\n",
       "  </thead>\n",
       "  <tbody>\n",
       "    <tr>\n",
       "      <th>10</th>\n",
       "      <td>00b7fb703.jpg_3</td>\n",
       "      <td>00b7fb703.jpg</td>\n",
       "      <td>3</td>\n",
       "      <td>True</td>\n",
       "      <td>3341 63 3405 1 3592 146 3739 11 3848 172 4105 ...</td>\n",
       "    </tr>\n",
       "    <tr>\n",
       "      <th>14</th>\n",
       "      <td>00bbcd9af.jpg_3</td>\n",
       "      <td>00bbcd9af.jpg</td>\n",
       "      <td>3</td>\n",
       "      <td>True</td>\n",
       "      <td>24956 3 24961 1 24963 125 25189 155 25431 169 ...</td>\n",
       "    </tr>\n",
       "    <tr>\n",
       "      <th>15</th>\n",
       "      <td>00bbcd9af.jpg_4</td>\n",
       "      <td>00bbcd9af.jpg</td>\n",
       "      <td>4</td>\n",
       "      <td>True</td>\n",
       "      <td>48597 2 48851 4 48864 4 48869 3 48873 1 49106 ...</td>\n",
       "    </tr>\n",
       "    <tr>\n",
       "      <th>22</th>\n",
       "      <td>0109b68ec.jpg_3</td>\n",
       "      <td>0109b68ec.jpg</td>\n",
       "      <td>3</td>\n",
       "      <td>True</td>\n",
       "      <td>5978 1 5980 1 5982 1 5990 3 5994 1 6231 4 6236...</td>\n",
       "    </tr>\n",
       "    <tr>\n",
       "      <th>23</th>\n",
       "      <td>0109b68ec.jpg_4</td>\n",
       "      <td>0109b68ec.jpg</td>\n",
       "      <td>4</td>\n",
       "      <td>True</td>\n",
       "      <td>24012 11 24252 41 24505 1 24507 59 24759 73 25...</td>\n",
       "    </tr>\n",
       "  </tbody>\n",
       "</table>\n",
       "</div>"
      ],
      "text/plain": [
       "    ImageId_ClassId        ImageId ClassId  defect  \\\n",
       "10  00b7fb703.jpg_3  00b7fb703.jpg       3    True   \n",
       "14  00bbcd9af.jpg_3  00bbcd9af.jpg       3    True   \n",
       "15  00bbcd9af.jpg_4  00bbcd9af.jpg       4    True   \n",
       "22  0109b68ec.jpg_3  0109b68ec.jpg       3    True   \n",
       "23  0109b68ec.jpg_4  0109b68ec.jpg       4    True   \n",
       "\n",
       "                                        EncodedPixels  \n",
       "10  3341 63 3405 1 3592 146 3739 11 3848 172 4105 ...  \n",
       "14  24956 3 24961 1 24963 125 25189 155 25431 169 ...  \n",
       "15  48597 2 48851 4 48864 4 48869 3 48873 1 49106 ...  \n",
       "22  5978 1 5980 1 5982 1 5990 3 5994 1 6231 4 6236...  \n",
       "23  24012 11 24252 41 24505 1 24507 59 24759 73 25...  "
      ]
     },
     "execution_count": 64,
     "metadata": {},
     "output_type": "execute_result"
    }
   ],
   "source": [
    "print('There are {} masks in total.'.format(submission2.shape[0]))\n",
    "print('submission.shape:', submission2.shape)\n",
    "submission2.head()"
   ]
  },
  {
   "cell_type": "markdown",
   "metadata": {},
   "source": [
    "## 3) No. of images for each Class (Class Distribution with masks)"
   ]
  },
  {
   "cell_type": "code",
   "execution_count": 67,
   "metadata": {},
   "outputs": [
    {
     "name": "stdout",
     "output_type": "stream",
     "text": [
      "3    639\n",
      "1    201\n",
      "4    120\n",
      "Name: ClassId, dtype: int64\n",
      "Ratio (Class3/Total): 0.665625\n",
      "Ratio (Class1/Total): 0.209375\n",
      "Ratio (Class4/Total): 0.125\n"
     ]
    },
    {
     "data": {
      "text/plain": [
       "Text(0, 0.5, 'No. of images')"
      ]
     },
     "execution_count": 67,
     "metadata": {},
     "output_type": "execute_result"
    },
    {
     "data": {
      "image/png": "[encoded data removed]",
      "text/plain": [
       "<Figure size 432x288 with 1 Axes>"
      ]
     },
     "metadata": {
      "needs_background": "light"
     },
     "output_type": "display_data"
    }
   ],
   "source": [
    "print(submission2['ClassId'].value_counts())\n",
    "print('Ratio (Class3/Total):', submission2['ClassId'].value_counts()[0]/submission2['ClassId'].count())\n",
    "print('Ratio (Class1/Total):', submission2['ClassId'].value_counts()[1]/submission2['ClassId'].count())\n",
    "print('Ratio (Class4/Total):', submission2['ClassId'].value_counts()[2]/submission2['ClassId'].count())\n",
    "\n",
    "submission2['ClassId'].value_counts().plot(kind='bar')\n",
    "plt.xlabel(\"Class\")\n",
    "plt.ylabel(\"No. of images\")"
   ]
  },
  {
   "cell_type": "markdown",
   "metadata": {},
   "source": [
    "Not quite good. Class1 is more while Class3 is fewer here.\n",
    "\n",
    "Class4 is fine. No Class2 because there are too few class2 masks in training set. So it is acceptable.\n",
    "    \n",
    "#### It shows that there is an error (Class mispredict problem) in step2"
   ]
  },
  {
   "cell_type": "code",
   "execution_count": null,
   "metadata": {},
   "outputs": [],
   "source": []
  }
 ],
 "metadata": {
  "kernelspec": {
   "display_name": "Python 3",
   "language": "python",
   "name": "python3"
  },
  "language_info": {
   "codemirror_mode": {
    "name": "ipython",
    "version": 3
   },
   "file_extension": ".py",
   "mimetype": "text/x-python",
   "name": "python",
   "nbconvert_exporter": "python",
   "pygments_lexer": "ipython3",
   "version": "3.6.8"
  }
 },
 "nbformat": 4,
 "nbformat_minor": 2
}
