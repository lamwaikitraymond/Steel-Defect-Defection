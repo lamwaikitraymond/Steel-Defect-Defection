{
 "cells": [
  {
   "cell_type": "markdown",
   "metadata": {},
   "source": [
    "# About this kernel\n",
    "\n",
    "The goal is to:\n",
    "* Investigate the problem of null masks by exploring the distribution of NaN per image.\n",
    "* Reduce image size to 224x224 for simpler models.\n",
    "* Create a lightweight CNN to predict if a certain image has no defect (i.e., it has 4 missing masks). This will be useful in order to reduce the computation power needed to train a segmentation model (e.g. Mask R-CNN), since we can immediately discard the image with 4 missing masks.\n",
    "\n",
    "This is a work in progress, and I will update the kernel in the next few days. I'll work hard on this if you show some support :)\n",
    "\n",
    "### Updates\n",
    "* V9: Changed model from MobileNet to DenseNet."
   ]
  },
  {
   "cell_type": "code",
   "execution_count": 1,
   "metadata": {
    "_cell_guid": "b1076dfc-b9ad-4769-8c92-a6c4dae69d19",
    "_uuid": "8f2839f25d086af736a60e9eeb907d3b93b6e0e5"
   },
   "outputs": [
    {
     "name": "stderr",
     "output_type": "stream",
     "text": [
      "Using TensorFlow backend.\n",
      "C:\\Users\\Lam Family\\AppData\\Roaming\\Python\\Python36\\site-packages\\tensorflow\\python\\framework\\dtypes.py:516: FutureWarning: Passing (type, 1) or '1type' as a synonym of type is deprecated; in a future version of numpy, it will be understood as (type, (1,)) / '(1,)type'.\n",
      "  _np_qint8 = np.dtype([(\"qint8\", np.int8, 1)])\n",
      "C:\\Users\\Lam Family\\AppData\\Roaming\\Python\\Python36\\site-packages\\tensorflow\\python\\framework\\dtypes.py:517: FutureWarning: Passing (type, 1) or '1type' as a synonym of type is deprecated; in a future version of numpy, it will be understood as (type, (1,)) / '(1,)type'.\n",
      "  _np_quint8 = np.dtype([(\"quint8\", np.uint8, 1)])\n",
      "C:\\Users\\Lam Family\\AppData\\Roaming\\Python\\Python36\\site-packages\\tensorflow\\python\\framework\\dtypes.py:518: FutureWarning: Passing (type, 1) or '1type' as a synonym of type is deprecated; in a future version of numpy, it will be understood as (type, (1,)) / '(1,)type'.\n",
      "  _np_qint16 = np.dtype([(\"qint16\", np.int16, 1)])\n",
      "C:\\Users\\Lam Family\\AppData\\Roaming\\Python\\Python36\\site-packages\\tensorflow\\python\\framework\\dtypes.py:519: FutureWarning: Passing (type, 1) or '1type' as a synonym of type is deprecated; in a future version of numpy, it will be understood as (type, (1,)) / '(1,)type'.\n",
      "  _np_quint16 = np.dtype([(\"quint16\", np.uint16, 1)])\n",
      "C:\\Users\\Lam Family\\AppData\\Roaming\\Python\\Python36\\site-packages\\tensorflow\\python\\framework\\dtypes.py:520: FutureWarning: Passing (type, 1) or '1type' as a synonym of type is deprecated; in a future version of numpy, it will be understood as (type, (1,)) / '(1,)type'.\n",
      "  _np_qint32 = np.dtype([(\"qint32\", np.int32, 1)])\n",
      "C:\\Users\\Lam Family\\AppData\\Roaming\\Python\\Python36\\site-packages\\tensorflow\\python\\framework\\dtypes.py:525: FutureWarning: Passing (type, 1) or '1type' as a synonym of type is deprecated; in a future version of numpy, it will be understood as (type, (1,)) / '(1,)type'.\n",
      "  np_resource = np.dtype([(\"resource\", np.ubyte, 1)])\n",
      "C:\\Users\\Lam Family\\AppData\\Roaming\\Python\\Python36\\site-packages\\tensorboard\\compat\\tensorflow_stub\\dtypes.py:541: FutureWarning: Passing (type, 1) or '1type' as a synonym of type is deprecated; in a future version of numpy, it will be understood as (type, (1,)) / '(1,)type'.\n",
      "  _np_qint8 = np.dtype([(\"qint8\", np.int8, 1)])\n",
      "C:\\Users\\Lam Family\\AppData\\Roaming\\Python\\Python36\\site-packages\\tensorboard\\compat\\tensorflow_stub\\dtypes.py:542: FutureWarning: Passing (type, 1) or '1type' as a synonym of type is deprecated; in a future version of numpy, it will be understood as (type, (1,)) / '(1,)type'.\n",
      "  _np_quint8 = np.dtype([(\"quint8\", np.uint8, 1)])\n",
      "C:\\Users\\Lam Family\\AppData\\Roaming\\Python\\Python36\\site-packages\\tensorboard\\compat\\tensorflow_stub\\dtypes.py:543: FutureWarning: Passing (type, 1) or '1type' as a synonym of type is deprecated; in a future version of numpy, it will be understood as (type, (1,)) / '(1,)type'.\n",
      "  _np_qint16 = np.dtype([(\"qint16\", np.int16, 1)])\n",
      "C:\\Users\\Lam Family\\AppData\\Roaming\\Python\\Python36\\site-packages\\tensorboard\\compat\\tensorflow_stub\\dtypes.py:544: FutureWarning: Passing (type, 1) or '1type' as a synonym of type is deprecated; in a future version of numpy, it will be understood as (type, (1,)) / '(1,)type'.\n",
      "  _np_quint16 = np.dtype([(\"quint16\", np.uint16, 1)])\n",
      "C:\\Users\\Lam Family\\AppData\\Roaming\\Python\\Python36\\site-packages\\tensorboard\\compat\\tensorflow_stub\\dtypes.py:545: FutureWarning: Passing (type, 1) or '1type' as a synonym of type is deprecated; in a future version of numpy, it will be understood as (type, (1,)) / '(1,)type'.\n",
      "  _np_qint32 = np.dtype([(\"qint32\", np.int32, 1)])\n",
      "C:\\Users\\Lam Family\\AppData\\Roaming\\Python\\Python36\\site-packages\\tensorboard\\compat\\tensorflow_stub\\dtypes.py:550: FutureWarning: Passing (type, 1) or '1type' as a synonym of type is deprecated; in a future version of numpy, it will be understood as (type, (1,)) / '(1,)type'.\n",
      "  np_resource = np.dtype([(\"resource\", np.ubyte, 1)])\n"
     ]
    }
   ],
   "source": [
    "import os\n",
    "import json\n",
    "\n",
    "import cv2\n",
    "import numpy as np\n",
    "import pandas as pd\n",
    "import keras\n",
    "from keras import layers\n",
    "from keras.applications import DenseNet121\n",
    "from keras.callbacks import Callback, ModelCheckpoint, ReduceLROnPlateau\n",
    "from keras.preprocessing.image import ImageDataGenerator\n",
    "from keras.models import Sequential\n",
    "from keras.optimizers import Adam\n",
    "import tensorflow as tf\n",
    "from tqdm import tqdm"
   ]
  },
  {
   "cell_type": "code",
   "execution_count": 3,
   "metadata": {
    "_cell_guid": "79c7e3d0-c299-4dcb-8224-4455121ee9b0",
    "_uuid": "d629ff2d2480ee46fbb7e2d37f6b5fab8052498a"
   },
   "outputs": [
    {
     "name": "stdout",
     "output_type": "stream",
     "text": [
      "(50272, 2)\n"
     ]
    },
    {
     "data": {
      "text/html": [
       "<div>\n",
       "<style scoped>\n",
       "    .dataframe tbody tr th:only-of-type {\n",
       "        vertical-align: middle;\n",
       "    }\n",
       "\n",
       "    .dataframe tbody tr th {\n",
       "        vertical-align: top;\n",
       "    }\n",
       "\n",
       "    .dataframe thead th {\n",
       "        text-align: right;\n",
       "    }\n",
       "</style>\n",
       "<table border=\"1\" class=\"dataframe\">\n",
       "  <thead>\n",
       "    <tr style=\"text-align: right;\">\n",
       "      <th></th>\n",
       "      <th>ImageId_ClassId</th>\n",
       "      <th>EncodedPixels</th>\n",
       "    </tr>\n",
       "  </thead>\n",
       "  <tbody>\n",
       "    <tr>\n",
       "      <th>0</th>\n",
       "      <td>0002cc93b.jpg_1</td>\n",
       "      <td>29102 12 29346 24 29602 24 29858 24 30114 24 3...</td>\n",
       "    </tr>\n",
       "    <tr>\n",
       "      <th>1</th>\n",
       "      <td>0002cc93b.jpg_2</td>\n",
       "      <td>NaN</td>\n",
       "    </tr>\n",
       "    <tr>\n",
       "      <th>2</th>\n",
       "      <td>0002cc93b.jpg_3</td>\n",
       "      <td>NaN</td>\n",
       "    </tr>\n",
       "    <tr>\n",
       "      <th>3</th>\n",
       "      <td>0002cc93b.jpg_4</td>\n",
       "      <td>NaN</td>\n",
       "    </tr>\n",
       "    <tr>\n",
       "      <th>4</th>\n",
       "      <td>00031f466.jpg_1</td>\n",
       "      <td>NaN</td>\n",
       "    </tr>\n",
       "  </tbody>\n",
       "</table>\n",
       "</div>"
      ],
      "text/plain": [
       "   ImageId_ClassId                                      EncodedPixels\n",
       "0  0002cc93b.jpg_1  29102 12 29346 24 29602 24 29858 24 30114 24 3...\n",
       "1  0002cc93b.jpg_2                                                NaN\n",
       "2  0002cc93b.jpg_3                                                NaN\n",
       "3  0002cc93b.jpg_4                                                NaN\n",
       "4  00031f466.jpg_1                                                NaN"
      ]
     },
     "execution_count": 3,
     "metadata": {},
     "output_type": "execute_result"
    }
   ],
   "source": [
    "train_df = pd.read_csv('./input/train.csv')\n",
    "\n",
    "print(train_df.shape)\n",
    "train_df.head()"
   ]
  },
  {
   "cell_type": "code",
   "execution_count": 4,
   "metadata": {},
   "outputs": [
    {
     "name": "stdout",
     "output_type": "stream",
     "text": [
      "(7204, 2)\n"
     ]
    },
    {
     "data": {
      "text/html": [
       "<div>\n",
       "<style scoped>\n",
       "    .dataframe tbody tr th:only-of-type {\n",
       "        vertical-align: middle;\n",
       "    }\n",
       "\n",
       "    .dataframe tbody tr th {\n",
       "        vertical-align: top;\n",
       "    }\n",
       "\n",
       "    .dataframe thead th {\n",
       "        text-align: right;\n",
       "    }\n",
       "</style>\n",
       "<table border=\"1\" class=\"dataframe\">\n",
       "  <thead>\n",
       "    <tr style=\"text-align: right;\">\n",
       "      <th></th>\n",
       "      <th>ImageId_ClassId</th>\n",
       "      <th>EncodedPixels</th>\n",
       "    </tr>\n",
       "  </thead>\n",
       "  <tbody>\n",
       "    <tr>\n",
       "      <th>0</th>\n",
       "      <td>004f40c73.jpg_1</td>\n",
       "      <td>1 1</td>\n",
       "    </tr>\n",
       "    <tr>\n",
       "      <th>1</th>\n",
       "      <td>004f40c73.jpg_2</td>\n",
       "      <td>1 1</td>\n",
       "    </tr>\n",
       "    <tr>\n",
       "      <th>2</th>\n",
       "      <td>004f40c73.jpg_3</td>\n",
       "      <td>1 1</td>\n",
       "    </tr>\n",
       "    <tr>\n",
       "      <th>3</th>\n",
       "      <td>004f40c73.jpg_4</td>\n",
       "      <td>1 1</td>\n",
       "    </tr>\n",
       "    <tr>\n",
       "      <th>4</th>\n",
       "      <td>006f39c41.jpg_1</td>\n",
       "      <td>1 1</td>\n",
       "    </tr>\n",
       "  </tbody>\n",
       "</table>\n",
       "</div>"
      ],
      "text/plain": [
       "   ImageId_ClassId EncodedPixels\n",
       "0  004f40c73.jpg_1           1 1\n",
       "1  004f40c73.jpg_2           1 1\n",
       "2  004f40c73.jpg_3           1 1\n",
       "3  004f40c73.jpg_4           1 1\n",
       "4  006f39c41.jpg_1           1 1"
      ]
     },
     "execution_count": 4,
     "metadata": {},
     "output_type": "execute_result"
    }
   ],
   "source": [
    "submission_df = pd.read_csv('./input/sample_submission.csv')\n",
    "print(submission_df.shape)\n",
    "submission_df.head()"
   ]
  },
  {
   "cell_type": "code",
   "execution_count": 5,
   "metadata": {},
   "outputs": [
    {
     "data": {
      "text/plain": [
       "array(['004f40c73.jpg', '006f39c41.jpg', '00b7fb703.jpg', ...,\n",
       "       'ffbf79783.jpg', 'ffc9a6187.jpg', 'ffdb60677.jpg'], dtype=object)"
      ]
     },
     "execution_count": 5,
     "metadata": {},
     "output_type": "execute_result"
    }
   ],
   "source": [
    "unique_test_images = submission_df['ImageId_ClassId'].apply(\n",
    "    lambda x: x.split('_')[0]\n",
    ").unique()\n",
    "\n",
    "unique_test_images"
   ]
  },
  {
   "cell_type": "markdown",
   "metadata": {},
   "source": [
    "# EDA\n",
    "\n",
    "This EDA will mainly focus on detecting how the null masks are distributed. We will group all the `ImageId_ClassId` by their respective ImageId, and keep track of the number of missing masks for each image."
   ]
  },
  {
   "cell_type": "code",
   "execution_count": 6,
   "metadata": {},
   "outputs": [
    {
     "data": {
      "text/html": [
       "<div>\n",
       "<style scoped>\n",
       "    .dataframe tbody tr th:only-of-type {\n",
       "        vertical-align: middle;\n",
       "    }\n",
       "\n",
       "    .dataframe tbody tr th {\n",
       "        vertical-align: top;\n",
       "    }\n",
       "\n",
       "    .dataframe thead th {\n",
       "        text-align: right;\n",
       "    }\n",
       "</style>\n",
       "<table border=\"1\" class=\"dataframe\">\n",
       "  <thead>\n",
       "    <tr style=\"text-align: right;\">\n",
       "      <th></th>\n",
       "      <th>ImageId_ClassId</th>\n",
       "      <th>EncodedPixels</th>\n",
       "      <th>isNan</th>\n",
       "      <th>ImageId</th>\n",
       "    </tr>\n",
       "  </thead>\n",
       "  <tbody>\n",
       "    <tr>\n",
       "      <th>0</th>\n",
       "      <td>0002cc93b.jpg_1</td>\n",
       "      <td>29102 12 29346 24 29602 24 29858 24 30114 24 3...</td>\n",
       "      <td>False</td>\n",
       "      <td>0002cc93b.jpg</td>\n",
       "    </tr>\n",
       "    <tr>\n",
       "      <th>1</th>\n",
       "      <td>0002cc93b.jpg_2</td>\n",
       "      <td>NaN</td>\n",
       "      <td>True</td>\n",
       "      <td>0002cc93b.jpg</td>\n",
       "    </tr>\n",
       "    <tr>\n",
       "      <th>2</th>\n",
       "      <td>0002cc93b.jpg_3</td>\n",
       "      <td>NaN</td>\n",
       "      <td>True</td>\n",
       "      <td>0002cc93b.jpg</td>\n",
       "    </tr>\n",
       "    <tr>\n",
       "      <th>3</th>\n",
       "      <td>0002cc93b.jpg_4</td>\n",
       "      <td>NaN</td>\n",
       "      <td>True</td>\n",
       "      <td>0002cc93b.jpg</td>\n",
       "    </tr>\n",
       "    <tr>\n",
       "      <th>4</th>\n",
       "      <td>00031f466.jpg_1</td>\n",
       "      <td>NaN</td>\n",
       "      <td>True</td>\n",
       "      <td>00031f466.jpg</td>\n",
       "    </tr>\n",
       "  </tbody>\n",
       "</table>\n",
       "</div>"
      ],
      "text/plain": [
       "   ImageId_ClassId                                      EncodedPixels  isNan  \\\n",
       "0  0002cc93b.jpg_1  29102 12 29346 24 29602 24 29858 24 30114 24 3...  False   \n",
       "1  0002cc93b.jpg_2                                                NaN   True   \n",
       "2  0002cc93b.jpg_3                                                NaN   True   \n",
       "3  0002cc93b.jpg_4                                                NaN   True   \n",
       "4  00031f466.jpg_1                                                NaN   True   \n",
       "\n",
       "         ImageId  \n",
       "0  0002cc93b.jpg  \n",
       "1  0002cc93b.jpg  \n",
       "2  0002cc93b.jpg  \n",
       "3  0002cc93b.jpg  \n",
       "4  00031f466.jpg  "
      ]
     },
     "execution_count": 6,
     "metadata": {},
     "output_type": "execute_result"
    }
   ],
   "source": [
    "train_df['isNan'] = pd.isna(train_df['EncodedPixels'])\n",
    "train_df['ImageId'] = train_df['ImageId_ClassId'].apply(\n",
    "    lambda x: x.split('_')[0]\n",
    ")\n",
    "train_df.head()"
   ]
  },
  {
   "cell_type": "code",
   "execution_count": 7,
   "metadata": {},
   "outputs": [
    {
     "data": {
      "text/html": [
       "<div>\n",
       "<style scoped>\n",
       "    .dataframe tbody tr th:only-of-type {\n",
       "        vertical-align: middle;\n",
       "    }\n",
       "\n",
       "    .dataframe tbody tr th {\n",
       "        vertical-align: top;\n",
       "    }\n",
       "\n",
       "    .dataframe thead th {\n",
       "        text-align: right;\n",
       "    }\n",
       "</style>\n",
       "<table border=\"1\" class=\"dataframe\">\n",
       "  <thead>\n",
       "    <tr style=\"text-align: right;\">\n",
       "      <th></th>\n",
       "      <th>ImageId</th>\n",
       "      <th>missingCount</th>\n",
       "      <th>allMissing</th>\n",
       "    </tr>\n",
       "  </thead>\n",
       "  <tbody>\n",
       "    <tr>\n",
       "      <th>0</th>\n",
       "      <td>0002cc93b.jpg</td>\n",
       "      <td>3</td>\n",
       "      <td>0</td>\n",
       "    </tr>\n",
       "    <tr>\n",
       "      <th>1</th>\n",
       "      <td>00031f466.jpg</td>\n",
       "      <td>4</td>\n",
       "      <td>1</td>\n",
       "    </tr>\n",
       "    <tr>\n",
       "      <th>2</th>\n",
       "      <td>000418bfc.jpg</td>\n",
       "      <td>4</td>\n",
       "      <td>1</td>\n",
       "    </tr>\n",
       "    <tr>\n",
       "      <th>3</th>\n",
       "      <td>000789191.jpg</td>\n",
       "      <td>4</td>\n",
       "      <td>1</td>\n",
       "    </tr>\n",
       "    <tr>\n",
       "      <th>4</th>\n",
       "      <td>0007a71bf.jpg</td>\n",
       "      <td>3</td>\n",
       "      <td>0</td>\n",
       "    </tr>\n",
       "  </tbody>\n",
       "</table>\n",
       "</div>"
      ],
      "text/plain": [
       "         ImageId  missingCount  allMissing\n",
       "0  0002cc93b.jpg             3           0\n",
       "1  00031f466.jpg             4           1\n",
       "2  000418bfc.jpg             4           1\n",
       "3  000789191.jpg             4           1\n",
       "4  0007a71bf.jpg             3           0"
      ]
     },
     "execution_count": 7,
     "metadata": {},
     "output_type": "execute_result"
    }
   ],
   "source": [
    "train_nan_df = train_df.groupby(by='ImageId', axis=0).agg('sum')\n",
    "train_nan_df.reset_index(inplace=True)\n",
    "train_nan_df.rename(columns={'isNan': 'missingCount'}, inplace=True)\n",
    "train_nan_df['missingCount'] = train_nan_df['missingCount'].astype(np.int32)\n",
    "train_nan_df['allMissing'] = (train_nan_df['missingCount'] == 4).astype(int)\n",
    "\n",
    "train_nan_df.head()"
   ]
  },
  {
   "cell_type": "code",
   "execution_count": 8,
   "metadata": {},
   "outputs": [
    {
     "name": "stdout",
     "output_type": "stream",
     "text": [
      "(1801, 1)\n"
     ]
    },
    {
     "data": {
      "text/html": [
       "<div>\n",
       "<style scoped>\n",
       "    .dataframe tbody tr th:only-of-type {\n",
       "        vertical-align: middle;\n",
       "    }\n",
       "\n",
       "    .dataframe tbody tr th {\n",
       "        vertical-align: top;\n",
       "    }\n",
       "\n",
       "    .dataframe thead th {\n",
       "        text-align: right;\n",
       "    }\n",
       "</style>\n",
       "<table border=\"1\" class=\"dataframe\">\n",
       "  <thead>\n",
       "    <tr style=\"text-align: right;\">\n",
       "      <th></th>\n",
       "      <th>ImageId</th>\n",
       "    </tr>\n",
       "  </thead>\n",
       "  <tbody>\n",
       "    <tr>\n",
       "      <th>0</th>\n",
       "      <td>004f40c73.jpg</td>\n",
       "    </tr>\n",
       "    <tr>\n",
       "      <th>1</th>\n",
       "      <td>006f39c41.jpg</td>\n",
       "    </tr>\n",
       "    <tr>\n",
       "      <th>2</th>\n",
       "      <td>00b7fb703.jpg</td>\n",
       "    </tr>\n",
       "    <tr>\n",
       "      <th>3</th>\n",
       "      <td>00bbcd9af.jpg</td>\n",
       "    </tr>\n",
       "    <tr>\n",
       "      <th>4</th>\n",
       "      <td>0108ce457.jpg</td>\n",
       "    </tr>\n",
       "  </tbody>\n",
       "</table>\n",
       "</div>"
      ],
      "text/plain": [
       "         ImageId\n",
       "0  004f40c73.jpg\n",
       "1  006f39c41.jpg\n",
       "2  00b7fb703.jpg\n",
       "3  00bbcd9af.jpg\n",
       "4  0108ce457.jpg"
      ]
     },
     "execution_count": 8,
     "metadata": {},
     "output_type": "execute_result"
    }
   ],
   "source": [
    "test_nan_df = pd.DataFrame(unique_test_images, columns=['ImageId'])\n",
    "print(test_nan_df.shape)\n",
    "test_nan_df.head()"
   ]
  },
  {
   "cell_type": "code",
   "execution_count": 9,
   "metadata": {},
   "outputs": [
    {
     "data": {
      "text/plain": [
       "3    6239\n",
       "4    5902\n",
       "2     425\n",
       "1       2\n",
       "Name: missingCount, dtype: int64"
      ]
     },
     "execution_count": 9,
     "metadata": {},
     "output_type": "execute_result"
    }
   ],
   "source": [
    "train_nan_df['missingCount'].hist()\n",
    "train_nan_df['missingCount'].value_counts()"
   ]
  },
  {
   "cell_type": "markdown",
   "metadata": {},
   "source": [
    "We notice that an overwhelming number of images have 3 to 4 missing masks. In fact, all except 2 images have 2+ missing masks. This means that we would basically need to train the final segmentation model on less than half of the data points."
   ]
  },
  {
   "cell_type": "markdown",
   "metadata": {},
   "source": [
    "# Reducing Image Size"
   ]
  },
  {
   "cell_type": "code",
   "execution_count": 10,
   "metadata": {},
   "outputs": [],
   "source": [
    "def load_img(code, base, resize=True):\n",
    "    path = f'{base}/{code}'\n",
    "    img = cv2.imread(path)\n",
    "    img = cv2.cvtColor(img, cv2.COLOR_BGR2RGB)\n",
    "    if resize:\n",
    "        img = cv2.resize(img, (256, 256))\n",
    "    \n",
    "    return img\n",
    "\n",
    "def validate_path(path):\n",
    "    if not os.path.exists(path):\n",
    "        os.makedirs(path)"
   ]
  },
  {
   "cell_type": "code",
   "execution_count": 11,
   "metadata": {},
   "outputs": [
    {
     "name": "stderr",
     "output_type": "stream",
     "text": [
      "  0%|                                                | 0/12568 [00:00<?, ?it/s]\n"
     ]
    },
    {
     "ename": "error",
     "evalue": "OpenCV(4.1.1) C:\\projects\\opencv-python\\opencv\\modules\\imgproc\\src\\color.cpp:182: error: (-215:Assertion failed) !_src.empty() in function 'cv::cvtColor'\n",
     "output_type": "error",
     "traceback": [
      "\u001b[1;31m---------------------------------------------------------------------------\u001b[0m",
      "\u001b[1;31merror\u001b[0m                                     Traceback (most recent call last)",
      "\u001b[1;32m<ipython-input-11-022aed234cd5>\u001b[0m in \u001b[0;36m<module>\u001b[1;34m\u001b[0m\n\u001b[0;32m      5\u001b[0m     img = load_img(\n\u001b[0;32m      6\u001b[0m         \u001b[0mcode\u001b[0m\u001b[1;33m,\u001b[0m\u001b[1;33m\u001b[0m\u001b[1;33m\u001b[0m\u001b[0m\n\u001b[1;32m----> 7\u001b[1;33m         \u001b[0mbase\u001b[0m\u001b[1;33m=\u001b[0m\u001b[1;34m'../input/severstal-steel-defect-detection/train_images'\u001b[0m\u001b[1;33m\u001b[0m\u001b[1;33m\u001b[0m\u001b[0m\n\u001b[0m\u001b[0;32m      8\u001b[0m     )\n\u001b[0;32m      9\u001b[0m     \u001b[0mpath\u001b[0m \u001b[1;33m=\u001b[0m \u001b[0mcode\u001b[0m\u001b[1;33m.\u001b[0m\u001b[0mreplace\u001b[0m\u001b[1;33m(\u001b[0m\u001b[1;34m'.jpg'\u001b[0m\u001b[1;33m,\u001b[0m \u001b[1;34m''\u001b[0m\u001b[1;33m)\u001b[0m\u001b[1;33m\u001b[0m\u001b[1;33m\u001b[0m\u001b[0m\n",
      "\u001b[1;32m<ipython-input-10-5bb90110230c>\u001b[0m in \u001b[0;36mload_img\u001b[1;34m(code, base, resize)\u001b[0m\n\u001b[0;32m      2\u001b[0m     \u001b[0mpath\u001b[0m \u001b[1;33m=\u001b[0m \u001b[1;34mf'{base}/{code}'\u001b[0m\u001b[1;33m\u001b[0m\u001b[1;33m\u001b[0m\u001b[0m\n\u001b[0;32m      3\u001b[0m     \u001b[0mimg\u001b[0m \u001b[1;33m=\u001b[0m \u001b[0mcv2\u001b[0m\u001b[1;33m.\u001b[0m\u001b[0mimread\u001b[0m\u001b[1;33m(\u001b[0m\u001b[0mpath\u001b[0m\u001b[1;33m)\u001b[0m\u001b[1;33m\u001b[0m\u001b[1;33m\u001b[0m\u001b[0m\n\u001b[1;32m----> 4\u001b[1;33m     \u001b[0mimg\u001b[0m \u001b[1;33m=\u001b[0m \u001b[0mcv2\u001b[0m\u001b[1;33m.\u001b[0m\u001b[0mcvtColor\u001b[0m\u001b[1;33m(\u001b[0m\u001b[0mimg\u001b[0m\u001b[1;33m,\u001b[0m \u001b[0mcv2\u001b[0m\u001b[1;33m.\u001b[0m\u001b[0mCOLOR_BGR2RGB\u001b[0m\u001b[1;33m)\u001b[0m\u001b[1;33m\u001b[0m\u001b[1;33m\u001b[0m\u001b[0m\n\u001b[0m\u001b[0;32m      5\u001b[0m     \u001b[1;32mif\u001b[0m \u001b[0mresize\u001b[0m\u001b[1;33m:\u001b[0m\u001b[1;33m\u001b[0m\u001b[1;33m\u001b[0m\u001b[0m\n\u001b[0;32m      6\u001b[0m         \u001b[0mimg\u001b[0m \u001b[1;33m=\u001b[0m \u001b[0mcv2\u001b[0m\u001b[1;33m.\u001b[0m\u001b[0mresize\u001b[0m\u001b[1;33m(\u001b[0m\u001b[0mimg\u001b[0m\u001b[1;33m,\u001b[0m \u001b[1;33m(\u001b[0m\u001b[1;36m256\u001b[0m\u001b[1;33m,\u001b[0m \u001b[1;36m256\u001b[0m\u001b[1;33m)\u001b[0m\u001b[1;33m)\u001b[0m\u001b[1;33m\u001b[0m\u001b[1;33m\u001b[0m\u001b[0m\n",
      "\u001b[1;31merror\u001b[0m: OpenCV(4.1.1) C:\\projects\\opencv-python\\opencv\\modules\\imgproc\\src\\color.cpp:182: error: (-215:Assertion failed) !_src.empty() in function 'cv::cvtColor'\n"
     ]
    }
   ],
   "source": [
    "train_path = '../tmp/train'\n",
    "validate_path(train_path)\n",
    "\n",
    "for code in tqdm(train_nan_df['ImageId']):\n",
    "    img = load_img(\n",
    "        code,\n",
    "        base='../input/severstal-steel-defect-detection/train_images'\n",
    "    )\n",
    "    path = code.replace('.jpg', '')\n",
    "    cv2.imwrite(f'{train_path}/{path}.png', img)"
   ]
  },
  {
   "cell_type": "code",
   "execution_count": 11,
   "metadata": {},
   "outputs": [],
   "source": [
    "train_nan_df['ImageId'] = train_nan_df['ImageId'].apply(\n",
    "    lambda x: x.replace('.jpg', '.png')\n",
    ")"
   ]
  },
  {
   "cell_type": "markdown",
   "metadata": {},
   "source": [
    "# Modelling"
   ]
  },
  {
   "cell_type": "code",
   "execution_count": 12,
   "metadata": {},
   "outputs": [
    {
     "name": "stdout",
     "output_type": "stream",
     "text": [
      "Found 10683 validated image filenames.\n",
      "Found 1885 validated image filenames.\n",
      "Found 1801 validated image filenames.\n"
     ]
    }
   ],
   "source": [
    "BATCH_SIZE = 32\n",
    "\n",
    "def create_datagen():\n",
    "    return ImageDataGenerator(\n",
    "        zoom_range=0.1,  # set range for random zoom\n",
    "        # set mode for filling points outside the input boundaries\n",
    "        fill_mode='constant',\n",
    "        cval=0.,\n",
    "        rotation_range=10,\n",
    "        height_shift_range=0.1,\n",
    "        width_shift_range=0.1,\n",
    "        horizontal_flip=True,\n",
    "        vertical_flip=True,\n",
    "        rescale=1/255.,\n",
    "        validation_split=0.15\n",
    "    )\n",
    "\n",
    "def create_test_gen():\n",
    "    return ImageDataGenerator(rescale=1/255.).flow_from_dataframe(\n",
    "        test_nan_df,\n",
    "        directory='../input/severstal-steel-defect-detection/test_images/',\n",
    "        x_col='ImageId',\n",
    "        class_mode=None,\n",
    "        target_size=(256, 256),\n",
    "        batch_size=BATCH_SIZE,\n",
    "        shuffle=False\n",
    "    )\n",
    "\n",
    "def create_flow(datagen, subset):\n",
    "    return datagen.flow_from_dataframe(\n",
    "        train_nan_df, \n",
    "        directory='../tmp/train',\n",
    "        x_col='ImageId', \n",
    "        y_col='allMissing', \n",
    "        class_mode='other',\n",
    "        target_size=(256, 256),\n",
    "        batch_size=BATCH_SIZE,\n",
    "        subset=subset\n",
    "    )\n",
    "\n",
    "# Using original generator\n",
    "data_generator = create_datagen()\n",
    "train_gen = create_flow(data_generator, 'training')   #train set  10683\n",
    "val_gen = create_flow(data_generator, 'validation')   #val set    1885\n",
    "test_gen = create_test_gen()                          #test set   1801"
   ]
  },
  {
   "cell_type": "code",
   "execution_count": 13,
   "metadata": {},
   "outputs": [],
   "source": [
    "def build_model():\n",
    "    densenet = DenseNet121(\n",
    "        include_top=False,\n",
    "        input_shape=(256,256,3),\n",
    "        weights='../input/densenet-keras/DenseNet-BC-121-32-no-top.h5'\n",
    "    )\n",
    "    \n",
    "    model = Sequential()\n",
    "    model.add(densenet)\n",
    "    model.add(layers.GlobalAveragePooling2D())\n",
    "    model.add(layers.BatchNormalization())\n",
    "    model.add(layers.Dropout(0.5))\n",
    "    model.add(layers.Dense(512, activation='relu'))\n",
    "    model.add(layers.BatchNormalization())\n",
    "    model.add(layers.Dropout(0.5))\n",
    "    model.add(layers.Dense(1, activation='sigmoid'))\n",
    "    \n",
    "    model.compile(\n",
    "        loss='binary_crossentropy',\n",
    "        optimizer=Adam(5e-5),\n",
    "        metrics=['accuracy']\n",
    "    )\n",
    "    \n",
    "    return model"
   ]
  },
  {
   "cell_type": "code",
   "execution_count": 14,
   "metadata": {},
   "outputs": [
    {
     "name": "stdout",
     "output_type": "stream",
     "text": [
      "_________________________________________________________________\n",
      "Layer (type)                 Output Shape              Param #   \n",
      "=================================================================\n",
      "densenet121 (Model)          (None, 8, 8, 1024)        7037504   \n",
      "_________________________________________________________________\n",
      "global_average_pooling2d_1 ( (None, 1024)              0         \n",
      "_________________________________________________________________\n",
      "batch_normalization_1 (Batch (None, 1024)              4096      \n",
      "_________________________________________________________________\n",
      "dropout_1 (Dropout)          (None, 1024)              0         \n",
      "_________________________________________________________________\n",
      "dense_1 (Dense)              (None, 512)               524800    \n",
      "_________________________________________________________________\n",
      "batch_normalization_2 (Batch (None, 512)               2048      \n",
      "_________________________________________________________________\n",
      "dropout_2 (Dropout)          (None, 512)               0         \n",
      "_________________________________________________________________\n",
      "dense_2 (Dense)              (None, 1)                 513       \n",
      "=================================================================\n",
      "Total params: 7,568,961\n",
      "Trainable params: 7,482,241\n",
      "Non-trainable params: 86,720\n",
      "_________________________________________________________________\n"
     ]
    }
   ],
   "source": [
    "model = build_model()\n",
    "model.summary()"
   ]
  },
  {
   "cell_type": "code",
   "execution_count": 15,
   "metadata": {},
   "outputs": [
    {
     "name": "stdout",
     "output_type": "stream",
     "text": [
      "Epoch 1/40\n",
      "334/333 [==============================] - 254s 761ms/step - loss: 0.5646 - acc: 0.7541 - val_loss: 0.3469 - val_acc: 0.8462\n",
      "\n",
      "Epoch 00001: val_acc improved from -inf to 0.84615, saving model to model.h5\n",
      "Epoch 2/40\n",
      "334/333 [==============================] - 205s 615ms/step - loss: 0.3461 - acc: 0.8598 - val_loss: 0.2417 - val_acc: 0.8950\n",
      "\n",
      "Epoch 00002: val_acc improved from 0.84615 to 0.89496, saving model to model.h5\n",
      "Epoch 3/40\n",
      "334/333 [==============================] - 207s 620ms/step - loss: 0.2931 - acc: 0.8848 - val_loss: 0.2882 - val_acc: 0.8748\n",
      "\n",
      "Epoch 00003: val_acc did not improve from 0.89496\n",
      "Epoch 4/40\n",
      "334/333 [==============================] - 209s 626ms/step - loss: 0.2564 - acc: 0.8978 - val_loss: 0.2263 - val_acc: 0.9114\n",
      "\n",
      "Epoch 00004: val_acc improved from 0.89496 to 0.91141, saving model to model.h5\n",
      "Epoch 5/40\n",
      "334/333 [==============================] - 210s 629ms/step - loss: 0.2283 - acc: 0.9105 - val_loss: 0.2061 - val_acc: 0.9172\n",
      "\n",
      "Epoch 00005: val_acc improved from 0.91141 to 0.91724, saving model to model.h5\n",
      "Epoch 6/40\n",
      "334/333 [==============================] - 210s 630ms/step - loss: 0.2135 - acc: 0.9155 - val_loss: 0.1788 - val_acc: 0.9268\n",
      "\n",
      "Epoch 00006: val_acc improved from 0.91724 to 0.92679, saving model to model.h5\n",
      "Epoch 7/40\n",
      "334/333 [==============================] - 211s 632ms/step - loss: 0.1856 - acc: 0.9283 - val_loss: 0.1704 - val_acc: 0.9337\n",
      "\n",
      "Epoch 00007: val_acc improved from 0.92679 to 0.93369, saving model to model.h5\n",
      "Epoch 8/40\n",
      "334/333 [==============================] - 211s 631ms/step - loss: 0.1780 - acc: 0.9312 - val_loss: 0.1556 - val_acc: 0.9438\n",
      "\n",
      "Epoch 00008: val_acc improved from 0.93369 to 0.94377, saving model to model.h5\n",
      "Epoch 9/40\n",
      "334/333 [==============================] - 211s 633ms/step - loss: 0.1710 - acc: 0.9347 - val_loss: 0.1497 - val_acc: 0.9459\n",
      "\n",
      "Epoch 00009: val_acc improved from 0.94377 to 0.94589, saving model to model.h5\n",
      "Epoch 10/40\n",
      "334/333 [==============================] - 211s 631ms/step - loss: 0.1670 - acc: 0.9376 - val_loss: 0.1985 - val_acc: 0.9268\n",
      "\n",
      "Epoch 00010: val_acc did not improve from 0.94589\n",
      "Epoch 11/40\n",
      "334/333 [==============================] - 211s 633ms/step - loss: 0.1565 - acc: 0.9405 - val_loss: 0.1462 - val_acc: 0.9432\n",
      "\n",
      "Epoch 00011: val_acc did not improve from 0.94589\n",
      "Epoch 12/40\n",
      "334/333 [==============================] - 211s 632ms/step - loss: 0.1470 - acc: 0.9437 - val_loss: 0.1492 - val_acc: 0.9374\n",
      "\n",
      "Epoch 00012: val_acc did not improve from 0.94589\n",
      "Epoch 13/40\n",
      "334/333 [==============================] - 211s 631ms/step - loss: 0.1492 - acc: 0.9444 - val_loss: 0.2297 - val_acc: 0.9167\n",
      "\n",
      "Epoch 00013: val_acc did not improve from 0.94589\n",
      "Epoch 14/40\n",
      "334/333 [==============================] - 211s 631ms/step - loss: 0.1388 - acc: 0.9476 - val_loss: 0.3339 - val_acc: 0.8891\n",
      "\n",
      "Epoch 00014: val_acc did not improve from 0.94589\n",
      "Epoch 15/40\n",
      "334/333 [==============================] - 211s 632ms/step - loss: 0.1350 - acc: 0.9461 - val_loss: 0.2003 - val_acc: 0.9225\n",
      "\n",
      "Epoch 00015: val_acc did not improve from 0.94589\n",
      "Epoch 16/40\n",
      "334/333 [==============================] - 210s 629ms/step - loss: 0.1275 - acc: 0.9501 - val_loss: 0.1607 - val_acc: 0.9416\n",
      "\n",
      "Epoch 00016: val_acc did not improve from 0.94589\n",
      "\n",
      "Epoch 00016: ReduceLROnPlateau reducing learning rate to 4.999999873689376e-06.\n",
      "Epoch 17/40\n",
      "334/333 [==============================] - 207s 620ms/step - loss: 0.1031 - acc: 0.9603 - val_loss: 0.1089 - val_acc: 0.9597\n",
      "\n",
      "Epoch 00017: val_acc improved from 0.94589 to 0.95968, saving model to model.h5\n",
      "Epoch 18/40\n",
      "334/333 [==============================] - 202s 605ms/step - loss: 0.0983 - acc: 0.9615 - val_loss: 0.1106 - val_acc: 0.9576\n",
      "\n",
      "Epoch 00018: val_acc did not improve from 0.95968\n",
      "Epoch 19/40\n",
      "334/333 [==============================] - 204s 611ms/step - loss: 0.0933 - acc: 0.9653 - val_loss: 0.1070 - val_acc: 0.9607\n",
      "\n",
      "Epoch 00019: val_acc improved from 0.95968 to 0.96074, saving model to model.h5\n",
      "Epoch 20/40\n",
      "334/333 [==============================] - 202s 605ms/step - loss: 0.0881 - acc: 0.9666 - val_loss: 0.1126 - val_acc: 0.9576\n",
      "\n",
      "Epoch 00020: val_acc did not improve from 0.96074\n",
      "Epoch 21/40\n",
      "334/333 [==============================] - 204s 610ms/step - loss: 0.0850 - acc: 0.9673 - val_loss: 0.1016 - val_acc: 0.9671\n",
      "\n",
      "Epoch 00021: val_acc improved from 0.96074 to 0.96711, saving model to model.h5\n",
      "Epoch 22/40\n",
      "334/333 [==============================] - 201s 603ms/step - loss: 0.0908 - acc: 0.9659 - val_loss: 0.1160 - val_acc: 0.9581\n",
      "\n",
      "Epoch 00022: val_acc did not improve from 0.96711\n",
      "Epoch 23/40\n",
      "334/333 [==============================] - 202s 604ms/step - loss: 0.0855 - acc: 0.9656 - val_loss: 0.1081 - val_acc: 0.9602\n",
      "\n",
      "Epoch 00023: val_acc did not improve from 0.96711\n",
      "Epoch 24/40\n",
      "334/333 [==============================] - 200s 599ms/step - loss: 0.0869 - acc: 0.9672 - val_loss: 0.1023 - val_acc: 0.9639\n",
      "\n",
      "Epoch 00024: val_acc did not improve from 0.96711\n",
      "Epoch 25/40\n",
      "334/333 [==============================] - 200s 598ms/step - loss: 0.0809 - acc: 0.9696 - val_loss: 0.1076 - val_acc: 0.9650\n",
      "\n",
      "Epoch 00025: val_acc did not improve from 0.96711\n",
      "Epoch 26/40\n",
      "334/333 [==============================] - 200s 599ms/step - loss: 0.0813 - acc: 0.9694 - val_loss: 0.1110 - val_acc: 0.9639\n",
      "\n",
      "Epoch 00026: val_acc did not improve from 0.96711\n",
      "\n",
      "Epoch 00026: ReduceLROnPlateau reducing learning rate to 1e-06.\n",
      "Epoch 27/40\n",
      "334/333 [==============================] - 200s 599ms/step - loss: 0.0819 - acc: 0.9677 - val_loss: 0.1086 - val_acc: 0.9634\n",
      "\n",
      "Epoch 00027: val_acc did not improve from 0.96711\n",
      "Epoch 28/40\n",
      "334/333 [==============================] - 201s 603ms/step - loss: 0.0861 - acc: 0.9681 - val_loss: 0.1017 - val_acc: 0.9613\n",
      "\n",
      "Epoch 00028: val_acc did not improve from 0.96711\n",
      "Epoch 29/40\n",
      "334/333 [==============================] - 200s 597ms/step - loss: 0.0813 - acc: 0.9684 - val_loss: 0.0944 - val_acc: 0.9639\n",
      "\n",
      "Epoch 00029: val_acc did not improve from 0.96711\n",
      "Epoch 30/40\n",
      "334/333 [==============================] - 201s 601ms/step - loss: 0.0746 - acc: 0.9715 - val_loss: 0.0994 - val_acc: 0.9666\n",
      "\n",
      "Epoch 00030: val_acc did not improve from 0.96711\n",
      "Epoch 31/40\n",
      "334/333 [==============================] - 199s 595ms/step - loss: 0.0765 - acc: 0.9716 - val_loss: 0.1037 - val_acc: 0.9666\n",
      "\n",
      "Epoch 00031: val_acc did not improve from 0.96711\n",
      "Epoch 32/40\n",
      "334/333 [==============================] - 199s 597ms/step - loss: 0.0750 - acc: 0.9727 - val_loss: 0.1097 - val_acc: 0.9655\n",
      "\n",
      "Epoch 00032: val_acc did not improve from 0.96711\n",
      "Epoch 33/40\n",
      "334/333 [==============================] - 200s 600ms/step - loss: 0.0742 - acc: 0.9712 - val_loss: 0.1048 - val_acc: 0.9676\n",
      "\n",
      "Epoch 00033: val_acc improved from 0.96711 to 0.96764, saving model to model.h5\n",
      "Epoch 34/40\n",
      "334/333 [==============================] - 200s 599ms/step - loss: 0.0735 - acc: 0.9714 - val_loss: 0.0985 - val_acc: 0.9660\n",
      "\n",
      "Epoch 00034: val_acc did not improve from 0.96764\n",
      "Epoch 35/40\n",
      "219/333 [==================>...........] - ETA: 1:00 - loss: 0.0714 - acc: 0.9729"
     ]
    }
   ],
   "source": [
    "total_steps = train_nan_df.shape[0] / BATCH_SIZE\n",
    "\n",
    "checkpoint = ModelCheckpoint(\n",
    "    'model.h5', \n",
    "    monitor='val_acc', \n",
    "    verbose=1, \n",
    "    save_best_only=True, \n",
    "    save_weights_only=False,\n",
    "    mode='auto'\n",
    ")\n",
    "\n",
    "reduce_lr = ReduceLROnPlateau(\n",
    "    monitor='val_loss',\n",
    "    patience=5,\n",
    "    verbose=1,\n",
    "    min_lr=1e-6\n",
    ")\n",
    "\n",
    "history = model.fit_generator(\n",
    "    train_gen,\n",
    "    steps_per_epoch=total_steps * 0.85,\n",
    "    validation_data=val_gen,\n",
    "    validation_steps=total_steps * 0.15,\n",
    "    epochs=40,\n",
    "    callbacks=[checkpoint, reduce_lr]\n",
    ")"
   ]
  },
  {
   "cell_type": "code",
   "execution_count": 16,
   "metadata": {},
   "outputs": [
    {
     "data": {
      "text/plain": [
       "<matplotlib.axes._subplots.AxesSubplot at 0x7ef87534f748>"
      ]
     },
     "execution_count": 16,
     "metadata": {},
     "output_type": "execute_result"
    },
    {
     "data": {
      "image/png": "[encoded data removed]",
      "text/plain": [
       "<Figure size 432x288 with 1 Axes>"
      ]
     },
     "metadata": {
      "needs_background": "light"
     },
     "output_type": "display_data"
    },
    {
     "data": {
      "image/png": "[encoded data removed]",
      "text/plain": [
       "<Figure size 432x288 with 1 Axes>"
      ]
     },
     "metadata": {
      "needs_background": "light"
     },
     "output_type": "display_data"
    }
   ],
   "source": [
    "history_df = pd.DataFrame(history.history)\n",
    "history_df[['loss', 'val_loss']].plot()\n",
    "history_df[['acc', 'val_acc']].plot()"
   ]
  },
  {
   "cell_type": "markdown",
   "metadata": {},
   "source": [
    "## Save results as CSV files"
   ]
  },
  {
   "cell_type": "code",
   "execution_count": 17,
   "metadata": {},
   "outputs": [
    {
     "name": "stdout",
     "output_type": "stream",
     "text": [
      "57/57 [==============================] - 18s 320ms/step\n"
     ]
    }
   ],
   "source": [
    "model.load_weights('model.h5')\n",
    "y_test = model.predict_generator(\n",
    "    test_gen,\n",
    "    steps=len(test_gen),\n",
    "    verbose=1\n",
    ")"
   ]
  },
  {
   "cell_type": "code",
   "execution_count": 18,
   "metadata": {},
   "outputs": [],
   "source": [
    "test_nan_df['allMissing'] = y_test\n",
    "\n",
    "history_df.to_csv('history.csv', index=False)\n",
    "train_nan_df.to_csv('train_missing_count.csv', index=False)\n",
    "test_nan_df.to_csv('test_missing_count.csv', index=False)"
   ]
  }
 ],
 "metadata": {
  "kernelspec": {
   "display_name": "Python 3",
   "language": "python",
   "name": "python3"
  },
  "language_info": {
   "codemirror_mode": {
    "name": "ipython",
    "version": 3
   },
   "file_extension": ".py",
   "mimetype": "text/x-python",
   "name": "python",
   "nbconvert_exporter": "python",
   "pygments_lexer": "ipython3",
   "version": "3.6.8"
  }
 },
 "nbformat": 4,
 "nbformat_minor": 1
}
