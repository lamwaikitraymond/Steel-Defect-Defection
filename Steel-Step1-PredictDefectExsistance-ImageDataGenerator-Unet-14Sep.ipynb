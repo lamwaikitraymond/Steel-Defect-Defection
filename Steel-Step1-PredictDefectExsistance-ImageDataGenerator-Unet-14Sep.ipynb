{
 "cells": [
  {
   "cell_type": "markdown",
   "metadata": {},
   "source": [
    "# Objective\n",
    "    1) Predict images with/without defect(s)"
   ]
  },
  {
   "cell_type": "code",
   "execution_count": 176,
   "metadata": {},
   "outputs": [],
   "source": [
    "import numpy as np\n",
    "import pandas as pd\n",
    "import matplotlib.pyplot as plt\n",
    "import seaborn as sns\n",
    "import os\n",
    "import cv2\n",
    "\n",
    "import warnings\n",
    "warnings.filterwarnings('ignore')"
   ]
  },
  {
   "cell_type": "code",
   "execution_count": 177,
   "metadata": {
    "scrolled": false
   },
   "outputs": [
    {
     "name": "stdout",
     "output_type": "stream",
     "text": [
      "train.shape: (50272, 2)\n"
     ]
    },
    {
     "data": {
      "text/html": [
       "<div>\n",
       "<style scoped>\n",
       "    .dataframe tbody tr th:only-of-type {\n",
       "        vertical-align: middle;\n",
       "    }\n",
       "\n",
       "    .dataframe tbody tr th {\n",
       "        vertical-align: top;\n",
       "    }\n",
       "\n",
       "    .dataframe thead th {\n",
       "        text-align: right;\n",
       "    }\n",
       "</style>\n",
       "<table border=\"1\" class=\"dataframe\">\n",
       "  <thead>\n",
       "    <tr style=\"text-align: right;\">\n",
       "      <th></th>\n",
       "      <th>ImageId_ClassId</th>\n",
       "      <th>EncodedPixels</th>\n",
       "    </tr>\n",
       "  </thead>\n",
       "  <tbody>\n",
       "    <tr>\n",
       "      <th>0</th>\n",
       "      <td>0002cc93b.jpg_1</td>\n",
       "      <td>29102 12 29346 24 29602 24 29858 24 30114 24 3...</td>\n",
       "    </tr>\n",
       "    <tr>\n",
       "      <th>1</th>\n",
       "      <td>0002cc93b.jpg_2</td>\n",
       "      <td>NaN</td>\n",
       "    </tr>\n",
       "    <tr>\n",
       "      <th>2</th>\n",
       "      <td>0002cc93b.jpg_3</td>\n",
       "      <td>NaN</td>\n",
       "    </tr>\n",
       "    <tr>\n",
       "      <th>3</th>\n",
       "      <td>0002cc93b.jpg_4</td>\n",
       "      <td>NaN</td>\n",
       "    </tr>\n",
       "    <tr>\n",
       "      <th>4</th>\n",
       "      <td>00031f466.jpg_1</td>\n",
       "      <td>NaN</td>\n",
       "    </tr>\n",
       "  </tbody>\n",
       "</table>\n",
       "</div>"
      ],
      "text/plain": [
       "   ImageId_ClassId                                      EncodedPixels\n",
       "0  0002cc93b.jpg_1  29102 12 29346 24 29602 24 29858 24 30114 24 3...\n",
       "1  0002cc93b.jpg_2                                                NaN\n",
       "2  0002cc93b.jpg_3                                                NaN\n",
       "3  0002cc93b.jpg_4                                                NaN\n",
       "4  00031f466.jpg_1                                                NaN"
      ]
     },
     "execution_count": 177,
     "metadata": {},
     "output_type": "execute_result"
    }
   ],
   "source": [
    "train = pd.read_csv('./input/train.csv')\n",
    "print(\"train.shape:\", train.shape)\n",
    "train.head()"
   ]
  },
  {
   "cell_type": "markdown",
   "metadata": {},
   "source": [
    "# Preprocessing"
   ]
  },
  {
   "cell_type": "markdown",
   "metadata": {},
   "source": [
    "## 1) Split into ImageId, ClassId"
   ]
  },
  {
   "cell_type": "code",
   "execution_count": 178,
   "metadata": {},
   "outputs": [],
   "source": [
    "train['ImageId'] = train['ImageId_ClassId'].str[:-2]\n",
    "train['ClassId'] = train['ImageId_ClassId'].str[-1:]\n",
    "train['defect'] = train['EncodedPixels'].notnull()\n",
    "\n",
    "train = train[['ImageId','ClassId','defect','EncodedPixels']]"
   ]
  },
  {
   "cell_type": "code",
   "execution_count": 179,
   "metadata": {
    "scrolled": true
   },
   "outputs": [
    {
     "name": "stdout",
     "output_type": "stream",
     "text": [
      "50272 = no. of train_images * 4\n",
      "train.shape: (50272, 4)\n"
     ]
    },
    {
     "data": {
      "text/html": [
       "<div>\n",
       "<style scoped>\n",
       "    .dataframe tbody tr th:only-of-type {\n",
       "        vertical-align: middle;\n",
       "    }\n",
       "\n",
       "    .dataframe tbody tr th {\n",
       "        vertical-align: top;\n",
       "    }\n",
       "\n",
       "    .dataframe thead th {\n",
       "        text-align: right;\n",
       "    }\n",
       "</style>\n",
       "<table border=\"1\" class=\"dataframe\">\n",
       "  <thead>\n",
       "    <tr style=\"text-align: right;\">\n",
       "      <th></th>\n",
       "      <th>ImageId</th>\n",
       "      <th>ClassId</th>\n",
       "      <th>defect</th>\n",
       "      <th>EncodedPixels</th>\n",
       "    </tr>\n",
       "  </thead>\n",
       "  <tbody>\n",
       "    <tr>\n",
       "      <th>0</th>\n",
       "      <td>0002cc93b.jpg</td>\n",
       "      <td>1</td>\n",
       "      <td>True</td>\n",
       "      <td>29102 12 29346 24 29602 24 29858 24 30114 24 3...</td>\n",
       "    </tr>\n",
       "    <tr>\n",
       "      <th>1</th>\n",
       "      <td>0002cc93b.jpg</td>\n",
       "      <td>2</td>\n",
       "      <td>False</td>\n",
       "      <td>NaN</td>\n",
       "    </tr>\n",
       "    <tr>\n",
       "      <th>2</th>\n",
       "      <td>0002cc93b.jpg</td>\n",
       "      <td>3</td>\n",
       "      <td>False</td>\n",
       "      <td>NaN</td>\n",
       "    </tr>\n",
       "    <tr>\n",
       "      <th>3</th>\n",
       "      <td>0002cc93b.jpg</td>\n",
       "      <td>4</td>\n",
       "      <td>False</td>\n",
       "      <td>NaN</td>\n",
       "    </tr>\n",
       "    <tr>\n",
       "      <th>4</th>\n",
       "      <td>00031f466.jpg</td>\n",
       "      <td>1</td>\n",
       "      <td>False</td>\n",
       "      <td>NaN</td>\n",
       "    </tr>\n",
       "  </tbody>\n",
       "</table>\n",
       "</div>"
      ],
      "text/plain": [
       "         ImageId ClassId  defect  \\\n",
       "0  0002cc93b.jpg       1    True   \n",
       "1  0002cc93b.jpg       2   False   \n",
       "2  0002cc93b.jpg       3   False   \n",
       "3  0002cc93b.jpg       4   False   \n",
       "4  00031f466.jpg       1   False   \n",
       "\n",
       "                                       EncodedPixels  \n",
       "0  29102 12 29346 24 29602 24 29858 24 30114 24 3...  \n",
       "1                                                NaN  \n",
       "2                                                NaN  \n",
       "3                                                NaN  \n",
       "4                                                NaN  "
      ]
     },
     "execution_count": 179,
     "metadata": {},
     "output_type": "execute_result"
    }
   ],
   "source": [
    "print('{} = no. of train_images * 4'.format(train.shape[0]))\n",
    "print('train.shape:', train.shape)\n",
    "train.head()"
   ]
  },
  {
   "cell_type": "markdown",
   "metadata": {},
   "source": [
    "# y_train (image with/without defect(s))"
   ]
  },
  {
   "cell_type": "code",
   "execution_count": 180,
   "metadata": {},
   "outputs": [],
   "source": [
    "y_train = train.groupby(by='ImageId', axis=0, as_index=False).agg({'defect':'max'})"
   ]
  },
  {
   "cell_type": "code",
   "execution_count": 181,
   "metadata": {},
   "outputs": [],
   "source": [
    "# for train_datagen.flow_from_dataframe.class_mode='binary' -> y_col has to be str\n",
    "\n",
    "y_train['defect'] = y_train['defect'].astype(str)"
   ]
  },
  {
   "cell_type": "code",
   "execution_count": 182,
   "metadata": {},
   "outputs": [
    {
     "name": "stdout",
     "output_type": "stream",
     "text": [
      "There are 12568 train_images in total\n",
      "train.shape: (12568, 2)\n"
     ]
    },
    {
     "data": {
      "text/html": [
       "<div>\n",
       "<style scoped>\n",
       "    .dataframe tbody tr th:only-of-type {\n",
       "        vertical-align: middle;\n",
       "    }\n",
       "\n",
       "    .dataframe tbody tr th {\n",
       "        vertical-align: top;\n",
       "    }\n",
       "\n",
       "    .dataframe thead th {\n",
       "        text-align: right;\n",
       "    }\n",
       "</style>\n",
       "<table border=\"1\" class=\"dataframe\">\n",
       "  <thead>\n",
       "    <tr style=\"text-align: right;\">\n",
       "      <th></th>\n",
       "      <th>ImageId</th>\n",
       "      <th>defect</th>\n",
       "    </tr>\n",
       "  </thead>\n",
       "  <tbody>\n",
       "    <tr>\n",
       "      <th>0</th>\n",
       "      <td>0002cc93b.jpg</td>\n",
       "      <td>True</td>\n",
       "    </tr>\n",
       "    <tr>\n",
       "      <th>1</th>\n",
       "      <td>00031f466.jpg</td>\n",
       "      <td>False</td>\n",
       "    </tr>\n",
       "    <tr>\n",
       "      <th>2</th>\n",
       "      <td>000418bfc.jpg</td>\n",
       "      <td>False</td>\n",
       "    </tr>\n",
       "    <tr>\n",
       "      <th>3</th>\n",
       "      <td>000789191.jpg</td>\n",
       "      <td>False</td>\n",
       "    </tr>\n",
       "    <tr>\n",
       "      <th>4</th>\n",
       "      <td>0007a71bf.jpg</td>\n",
       "      <td>True</td>\n",
       "    </tr>\n",
       "  </tbody>\n",
       "</table>\n",
       "</div>"
      ],
      "text/plain": [
       "         ImageId defect\n",
       "0  0002cc93b.jpg   True\n",
       "1  00031f466.jpg  False\n",
       "2  000418bfc.jpg  False\n",
       "3  000789191.jpg  False\n",
       "4  0007a71bf.jpg   True"
      ]
     },
     "execution_count": 182,
     "metadata": {},
     "output_type": "execute_result"
    }
   ],
   "source": [
    "print('There are {} train_images in total'.format(y_train.shape[0]))\n",
    "print('train.shape:', y_train.shape)\n",
    "y_train.head()"
   ]
  },
  {
   "cell_type": "code",
   "execution_count": 186,
   "metadata": {},
   "outputs": [
    {
     "name": "stdout",
     "output_type": "stream",
     "text": [
      "True     6666\n",
      "False    5902\n",
      "Name: defect, dtype: int64\n",
      "True/False Ratio: 1.129448\n"
     ]
    },
    {
     "data": {
      "text/plain": [
       "Text(0, 0.5, 'No. of images')"
      ]
     },
     "execution_count": 186,
     "metadata": {},
     "output_type": "execute_result"
    },
    {
     "data": {
      "image/png": "[encoded data removed]",
      "text/plain": [
       "<Figure size 432x288 with 1 Axes>"
      ]
     },
     "metadata": {
      "needs_background": "light"
     },
     "output_type": "display_data"
    }
   ],
   "source": [
    "print(y_train['defect'].value_counts())\n",
    "print('True/False Ratio: {:f}'.format(y_train['defect'].value_counts()[0]/y_train['defect'].value_counts()[1]))\n",
    "\n",
    "y_train['defect'].value_counts().plot(kind='bar')\n",
    "plt.title(\"No. of images with/without defect(s)\")\n",
    "plt.ylabel(\"No. of images\")"
   ]
  },
  {
   "cell_type": "markdown",
   "metadata": {},
   "source": [
    "# Split y_train into y_train, y_val "
   ]
  },
  {
   "cell_type": "code",
   "execution_count": 187,
   "metadata": {},
   "outputs": [],
   "source": [
    "VALIDATION_SPLIT = 0.1"
   ]
  },
  {
   "cell_type": "code",
   "execution_count": 188,
   "metadata": {},
   "outputs": [],
   "source": [
    "from sklearn.model_selection import train_test_split\n",
    "\n",
    "y_train, y_val = train_test_split(y_train, test_size=VALIDATION_SPLIT, random_state=42)"
   ]
  },
  {
   "cell_type": "code",
   "execution_count": 189,
   "metadata": {},
   "outputs": [
    {
     "name": "stdout",
     "output_type": "stream",
     "text": [
      "y_train.shape: (11311, 2)\n"
     ]
    },
    {
     "data": {
      "text/html": [
       "<div>\n",
       "<style scoped>\n",
       "    .dataframe tbody tr th:only-of-type {\n",
       "        vertical-align: middle;\n",
       "    }\n",
       "\n",
       "    .dataframe tbody tr th {\n",
       "        vertical-align: top;\n",
       "    }\n",
       "\n",
       "    .dataframe thead th {\n",
       "        text-align: right;\n",
       "    }\n",
       "</style>\n",
       "<table border=\"1\" class=\"dataframe\">\n",
       "  <thead>\n",
       "    <tr style=\"text-align: right;\">\n",
       "      <th></th>\n",
       "      <th>ImageId</th>\n",
       "      <th>defect</th>\n",
       "    </tr>\n",
       "  </thead>\n",
       "  <tbody>\n",
       "    <tr>\n",
       "      <th>398</th>\n",
       "      <td>08a8ed239.jpg</td>\n",
       "      <td>True</td>\n",
       "    </tr>\n",
       "    <tr>\n",
       "      <th>9704</th>\n",
       "      <td>c5094dee9.jpg</td>\n",
       "      <td>False</td>\n",
       "    </tr>\n",
       "    <tr>\n",
       "      <th>908</th>\n",
       "      <td>12d720737.jpg</td>\n",
       "      <td>False</td>\n",
       "    </tr>\n",
       "    <tr>\n",
       "      <th>6092</th>\n",
       "      <td>7b3566fb9.jpg</td>\n",
       "      <td>True</td>\n",
       "    </tr>\n",
       "    <tr>\n",
       "      <th>592</th>\n",
       "      <td>0c3fdad18.jpg</td>\n",
       "      <td>False</td>\n",
       "    </tr>\n",
       "  </tbody>\n",
       "</table>\n",
       "</div>"
      ],
      "text/plain": [
       "            ImageId defect\n",
       "398   08a8ed239.jpg   True\n",
       "9704  c5094dee9.jpg  False\n",
       "908   12d720737.jpg  False\n",
       "6092  7b3566fb9.jpg   True\n",
       "592   0c3fdad18.jpg  False"
      ]
     },
     "execution_count": 189,
     "metadata": {},
     "output_type": "execute_result"
    }
   ],
   "source": [
    "print('y_train.shape:', y_train.shape)\n",
    "y_train.head()"
   ]
  },
  {
   "cell_type": "code",
   "execution_count": 191,
   "metadata": {},
   "outputs": [
    {
     "name": "stdout",
     "output_type": "stream",
     "text": [
      "True     5987\n",
      "False    5324\n",
      "Name: defect, dtype: int64\n",
      "True/False Ratio: 1.124530\n"
     ]
    },
    {
     "data": {
      "text/plain": [
       "Text(0, 0.5, 'No. of images')"
      ]
     },
     "execution_count": 191,
     "metadata": {},
     "output_type": "execute_result"
    },
    {
     "data": {
      "image/png": "[encoded data removed]",
      "text/plain": [
       "<Figure size 432x288 with 1 Axes>"
      ]
     },
     "metadata": {
      "needs_background": "light"
     },
     "output_type": "display_data"
    }
   ],
   "source": [
    "print(y_train['defect'].value_counts())\n",
    "print('True/False Ratio: {:f}'.format(y_train['defect'].value_counts()[0]/y_train['defect'].value_counts()[1]))\n",
    "\n",
    "y_train['defect'].value_counts().plot(kind='bar')\n",
    "plt.title(\"No. of images with/without defect(s)\")\n",
    "plt.ylabel(\"No. of images\")"
   ]
  },
  {
   "cell_type": "code",
   "execution_count": 164,
   "metadata": {},
   "outputs": [
    {
     "name": "stdout",
     "output_type": "stream",
     "text": [
      "y_val.shape: (1257, 2)\n"
     ]
    },
    {
     "data": {
      "text/html": [
       "<div>\n",
       "<style scoped>\n",
       "    .dataframe tbody tr th:only-of-type {\n",
       "        vertical-align: middle;\n",
       "    }\n",
       "\n",
       "    .dataframe tbody tr th {\n",
       "        vertical-align: top;\n",
       "    }\n",
       "\n",
       "    .dataframe thead th {\n",
       "        text-align: right;\n",
       "    }\n",
       "</style>\n",
       "<table border=\"1\" class=\"dataframe\">\n",
       "  <thead>\n",
       "    <tr style=\"text-align: right;\">\n",
       "      <th></th>\n",
       "      <th>ImageId</th>\n",
       "      <th>defect</th>\n",
       "    </tr>\n",
       "  </thead>\n",
       "  <tbody>\n",
       "    <tr>\n",
       "      <th>7313</th>\n",
       "      <td>94947e1f9.jpg</td>\n",
       "      <td>True</td>\n",
       "    </tr>\n",
       "    <tr>\n",
       "      <th>2119</th>\n",
       "      <td>2aeb8dbd6.jpg</td>\n",
       "      <td>False</td>\n",
       "    </tr>\n",
       "    <tr>\n",
       "      <th>8214</th>\n",
       "      <td>a6ecee828.jpg</td>\n",
       "      <td>True</td>\n",
       "    </tr>\n",
       "    <tr>\n",
       "      <th>357</th>\n",
       "      <td>07edbd095.jpg</td>\n",
       "      <td>False</td>\n",
       "    </tr>\n",
       "    <tr>\n",
       "      <th>5527</th>\n",
       "      <td>6fc6a0964.jpg</td>\n",
       "      <td>True</td>\n",
       "    </tr>\n",
       "  </tbody>\n",
       "</table>\n",
       "</div>"
      ],
      "text/plain": [
       "            ImageId defect\n",
       "7313  94947e1f9.jpg   True\n",
       "2119  2aeb8dbd6.jpg  False\n",
       "8214  a6ecee828.jpg   True\n",
       "357   07edbd095.jpg  False\n",
       "5527  6fc6a0964.jpg   True"
      ]
     },
     "execution_count": 164,
     "metadata": {},
     "output_type": "execute_result"
    }
   ],
   "source": [
    "print('y_val.shape:', y_val.shape)\n",
    "y_val.head()"
   ]
  },
  {
   "cell_type": "code",
   "execution_count": 192,
   "metadata": {},
   "outputs": [
    {
     "name": "stdout",
     "output_type": "stream",
     "text": [
      "True     679\n",
      "False    578\n",
      "Name: defect, dtype: int64\n",
      "True/False Ratio: 1.174740\n"
     ]
    },
    {
     "data": {
      "text/plain": [
       "Text(0, 0.5, 'No. of images')"
      ]
     },
     "execution_count": 192,
     "metadata": {},
     "output_type": "execute_result"
    },
    {
     "data": {
      "image/png": "[encoded data removed]",
      "text/plain": [
       "<Figure size 432x288 with 1 Axes>"
      ]
     },
     "metadata": {
      "needs_background": "light"
     },
     "output_type": "display_data"
    }
   ],
   "source": [
    "print(y_val['defect'].value_counts())\n",
    "print('True/False Ratio: {:f}'.format(y_val['defect'].value_counts()[0]/y_val['defect'].value_counts()[1]))\n",
    "\n",
    "y_val['defect'].value_counts().plot(kind='bar')\n",
    "plt.title(\"No. of images with/without defect(s)\")\n",
    "plt.ylabel(\"No. of images\")"
   ]
  },
  {
   "cell_type": "markdown",
   "metadata": {},
   "source": [
    "# sample_submission"
   ]
  },
  {
   "cell_type": "code",
   "execution_count": 13,
   "metadata": {},
   "outputs": [
    {
     "name": "stdout",
     "output_type": "stream",
     "text": [
      "sample_submission.shape: (7204, 2)\n"
     ]
    },
    {
     "data": {
      "text/html": [
       "<div>\n",
       "<style scoped>\n",
       "    .dataframe tbody tr th:only-of-type {\n",
       "        vertical-align: middle;\n",
       "    }\n",
       "\n",
       "    .dataframe tbody tr th {\n",
       "        vertical-align: top;\n",
       "    }\n",
       "\n",
       "    .dataframe thead th {\n",
       "        text-align: right;\n",
       "    }\n",
       "</style>\n",
       "<table border=\"1\" class=\"dataframe\">\n",
       "  <thead>\n",
       "    <tr style=\"text-align: right;\">\n",
       "      <th></th>\n",
       "      <th>ImageId_ClassId</th>\n",
       "      <th>EncodedPixels</th>\n",
       "    </tr>\n",
       "  </thead>\n",
       "  <tbody>\n",
       "    <tr>\n",
       "      <th>0</th>\n",
       "      <td>004f40c73.jpg_1</td>\n",
       "      <td>1 1</td>\n",
       "    </tr>\n",
       "    <tr>\n",
       "      <th>1</th>\n",
       "      <td>004f40c73.jpg_2</td>\n",
       "      <td>1 1</td>\n",
       "    </tr>\n",
       "    <tr>\n",
       "      <th>2</th>\n",
       "      <td>004f40c73.jpg_3</td>\n",
       "      <td>1 1</td>\n",
       "    </tr>\n",
       "    <tr>\n",
       "      <th>3</th>\n",
       "      <td>004f40c73.jpg_4</td>\n",
       "      <td>1 1</td>\n",
       "    </tr>\n",
       "    <tr>\n",
       "      <th>4</th>\n",
       "      <td>006f39c41.jpg_1</td>\n",
       "      <td>1 1</td>\n",
       "    </tr>\n",
       "  </tbody>\n",
       "</table>\n",
       "</div>"
      ],
      "text/plain": [
       "   ImageId_ClassId EncodedPixels\n",
       "0  004f40c73.jpg_1           1 1\n",
       "1  004f40c73.jpg_2           1 1\n",
       "2  004f40c73.jpg_3           1 1\n",
       "3  004f40c73.jpg_4           1 1\n",
       "4  006f39c41.jpg_1           1 1"
      ]
     },
     "execution_count": 13,
     "metadata": {},
     "output_type": "execute_result"
    }
   ],
   "source": [
    "sample_submission = pd.read_csv(\"./input/sample_submission.csv\")\n",
    "print(\"sample_submission.shape:\", sample_submission.shape)\n",
    "sample_submission.head()"
   ]
  },
  {
   "cell_type": "markdown",
   "metadata": {},
   "source": [
    "## 1) Split into ImageId, ClassId"
   ]
  },
  {
   "cell_type": "code",
   "execution_count": 14,
   "metadata": {},
   "outputs": [],
   "source": [
    "sample_submission['ImageId'] = sample_submission['ImageId_ClassId'].str[:-2]\n",
    "sample_submission['ClassId'] = sample_submission['ImageId_ClassId'].str[-1:]\n",
    "sample_submission['defect'] = np.nan\n",
    "\n",
    "sample_submission = sample_submission[['ImageId','ClassId','defect']]"
   ]
  },
  {
   "cell_type": "code",
   "execution_count": 15,
   "metadata": {},
   "outputs": [
    {
     "name": "stdout",
     "output_type": "stream",
     "text": [
      "7204 = no. of test_images * 4\n",
      "sample_submission.shape: (7204, 3)\n"
     ]
    },
    {
     "data": {
      "text/html": [
       "<div>\n",
       "<style scoped>\n",
       "    .dataframe tbody tr th:only-of-type {\n",
       "        vertical-align: middle;\n",
       "    }\n",
       "\n",
       "    .dataframe tbody tr th {\n",
       "        vertical-align: top;\n",
       "    }\n",
       "\n",
       "    .dataframe thead th {\n",
       "        text-align: right;\n",
       "    }\n",
       "</style>\n",
       "<table border=\"1\" class=\"dataframe\">\n",
       "  <thead>\n",
       "    <tr style=\"text-align: right;\">\n",
       "      <th></th>\n",
       "      <th>ImageId</th>\n",
       "      <th>ClassId</th>\n",
       "      <th>defect</th>\n",
       "    </tr>\n",
       "  </thead>\n",
       "  <tbody>\n",
       "    <tr>\n",
       "      <th>0</th>\n",
       "      <td>004f40c73.jpg</td>\n",
       "      <td>1</td>\n",
       "      <td>NaN</td>\n",
       "    </tr>\n",
       "    <tr>\n",
       "      <th>1</th>\n",
       "      <td>004f40c73.jpg</td>\n",
       "      <td>2</td>\n",
       "      <td>NaN</td>\n",
       "    </tr>\n",
       "    <tr>\n",
       "      <th>2</th>\n",
       "      <td>004f40c73.jpg</td>\n",
       "      <td>3</td>\n",
       "      <td>NaN</td>\n",
       "    </tr>\n",
       "    <tr>\n",
       "      <th>3</th>\n",
       "      <td>004f40c73.jpg</td>\n",
       "      <td>4</td>\n",
       "      <td>NaN</td>\n",
       "    </tr>\n",
       "    <tr>\n",
       "      <th>4</th>\n",
       "      <td>006f39c41.jpg</td>\n",
       "      <td>1</td>\n",
       "      <td>NaN</td>\n",
       "    </tr>\n",
       "  </tbody>\n",
       "</table>\n",
       "</div>"
      ],
      "text/plain": [
       "         ImageId ClassId  defect\n",
       "0  004f40c73.jpg       1     NaN\n",
       "1  004f40c73.jpg       2     NaN\n",
       "2  004f40c73.jpg       3     NaN\n",
       "3  004f40c73.jpg       4     NaN\n",
       "4  006f39c41.jpg       1     NaN"
      ]
     },
     "execution_count": 15,
     "metadata": {},
     "output_type": "execute_result"
    }
   ],
   "source": [
    "print('{} = no. of test_images * 4'.format(sample_submission.shape[0]))\n",
    "print('sample_submission.shape:', sample_submission.shape)\n",
    "sample_submission.head()"
   ]
  },
  {
   "cell_type": "markdown",
   "metadata": {},
   "source": [
    "## 2) Groupby 'ImageId'"
   ]
  },
  {
   "cell_type": "code",
   "execution_count": 16,
   "metadata": {},
   "outputs": [],
   "source": [
    "sample_submission = sample_submission.groupby(by='ImageId', axis=0, as_index=False).agg({'defect':'max'})"
   ]
  },
  {
   "cell_type": "code",
   "execution_count": 17,
   "metadata": {
    "scrolled": true
   },
   "outputs": [
    {
     "name": "stdout",
     "output_type": "stream",
     "text": [
      "There are 1801 test_images in total\n",
      "sample_submission.shape: (1801, 2)\n"
     ]
    },
    {
     "data": {
      "text/html": [
       "<div>\n",
       "<style scoped>\n",
       "    .dataframe tbody tr th:only-of-type {\n",
       "        vertical-align: middle;\n",
       "    }\n",
       "\n",
       "    .dataframe tbody tr th {\n",
       "        vertical-align: top;\n",
       "    }\n",
       "\n",
       "    .dataframe thead th {\n",
       "        text-align: right;\n",
       "    }\n",
       "</style>\n",
       "<table border=\"1\" class=\"dataframe\">\n",
       "  <thead>\n",
       "    <tr style=\"text-align: right;\">\n",
       "      <th></th>\n",
       "      <th>ImageId</th>\n",
       "      <th>defect</th>\n",
       "    </tr>\n",
       "  </thead>\n",
       "  <tbody>\n",
       "    <tr>\n",
       "      <th>0</th>\n",
       "      <td>004f40c73.jpg</td>\n",
       "      <td>NaN</td>\n",
       "    </tr>\n",
       "    <tr>\n",
       "      <th>1</th>\n",
       "      <td>006f39c41.jpg</td>\n",
       "      <td>NaN</td>\n",
       "    </tr>\n",
       "    <tr>\n",
       "      <th>2</th>\n",
       "      <td>00b7fb703.jpg</td>\n",
       "      <td>NaN</td>\n",
       "    </tr>\n",
       "    <tr>\n",
       "      <th>3</th>\n",
       "      <td>00bbcd9af.jpg</td>\n",
       "      <td>NaN</td>\n",
       "    </tr>\n",
       "    <tr>\n",
       "      <th>4</th>\n",
       "      <td>0108ce457.jpg</td>\n",
       "      <td>NaN</td>\n",
       "    </tr>\n",
       "  </tbody>\n",
       "</table>\n",
       "</div>"
      ],
      "text/plain": [
       "         ImageId  defect\n",
       "0  004f40c73.jpg     NaN\n",
       "1  006f39c41.jpg     NaN\n",
       "2  00b7fb703.jpg     NaN\n",
       "3  00bbcd9af.jpg     NaN\n",
       "4  0108ce457.jpg     NaN"
      ]
     },
     "execution_count": 17,
     "metadata": {},
     "output_type": "execute_result"
    }
   ],
   "source": [
    "print('There are {} test_images in total'.format(sample_submission.shape[0]))\n",
    "print('sample_submission.shape:', sample_submission.shape)\n",
    "sample_submission.head()"
   ]
  },
  {
   "cell_type": "markdown",
   "metadata": {},
   "source": [
    "# ImageDataGenerator\n",
    "1. Data Augmentation for train_images (i.e. rotate, shear, flip...)\n",
    "2. Create flow from dataframe (Takes the dataframe and the path to a directory and generates batches of augmented/normalized data.)"
   ]
  },
  {
   "cell_type": "code",
   "execution_count": 18,
   "metadata": {},
   "outputs": [],
   "source": [
    "BATCH_SIZE = 32"
   ]
  },
  {
   "cell_type": "code",
   "execution_count": 19,
   "metadata": {},
   "outputs": [
    {
     "name": "stderr",
     "output_type": "stream",
     "text": [
      "Using TensorFlow backend.\n"
     ]
    },
    {
     "name": "stdout",
     "output_type": "stream",
     "text": [
      "Found 11311 validated image filenames belonging to 2 classes.\n",
      "Found 1257 validated image filenames belonging to 2 classes.\n",
      "Found 1801 validated image filenames.\n",
      "Wall time: 17.9 s\n"
     ]
    }
   ],
   "source": [
    "%%time\n",
    "from keras.preprocessing.image import ImageDataGenerator\n",
    "\n",
    "# Create train data generator (Data augementation: i.e. rotate, shear, flip...) \n",
    "train_datagen = ImageDataGenerator(\n",
    "        rescale=1./255,\n",
    "        \n",
    "        #fill_mode='constant',   # filling points outside the input boundaries with 0\n",
    "        #cval=0.,\n",
    "        #zoom_range=0.1,\n",
    "        #rotation_range=10,\n",
    "        #height_shift_range=0.1,\n",
    "        #width_shift_range=0.1,\n",
    "        #horizontal_flip=True,\n",
    "        #vertical_flip=True\n",
    ")\n",
    "\n",
    "# Create flow from dataframe for train set\n",
    "train_generator = train_datagen.flow_from_dataframe(\n",
    "        y_train,\n",
    "        directory = './input/train_images/',\n",
    "        x_col='ImageId', \n",
    "        y_col='defect', \n",
    "        target_size = (256,256),\n",
    "        color_mode = 'rgb',\n",
    "        batch_size = BATCH_SIZE,\n",
    "        class_mode = 'binary',\n",
    "        shuffle=True)\n",
    "\n",
    "\n",
    "# Create data generator for val & test set (rescale only)\n",
    "val_test_datagen = ImageDataGenerator(\n",
    "        rescale=1./255\n",
    ")\n",
    "\n",
    "# Create flow from dataframe for val set\n",
    "validation_generator = val_test_datagen.flow_from_dataframe(\n",
    "        y_val,\n",
    "        directory = './input/train_images/',\n",
    "        x_col='ImageId', \n",
    "        y_col='defect',\n",
    "        target_size = (256,256),\n",
    "        color_mode = 'rgb',\n",
    "        batch_size = BATCH_SIZE,\n",
    "        class_mode = 'binary',\n",
    "        shuffle=False)\n",
    "\n",
    "# Create flow from dataframe for test set\n",
    "test_generator = val_test_datagen.flow_from_dataframe(\n",
    "        sample_submission,\n",
    "        directory = './input/test_images/',\n",
    "        x_col='ImageId',\n",
    "        target_size = (256,256),\n",
    "        color_mode = 'rgb',\n",
    "        batch_size = BATCH_SIZE,\n",
    "        class_mode = None,\n",
    "        shuffle=False)"
   ]
  },
  {
   "cell_type": "markdown",
   "metadata": {},
   "source": [
    "# Model in Keras"
   ]
  },
  {
   "cell_type": "code",
   "execution_count": 20,
   "metadata": {},
   "outputs": [],
   "source": [
    "import keras\n",
    "from keras.layers import Dropout, BatchNormalization, Flatten, Dense, GlobalMaxPooling2D\n",
    "from keras.layers import UpSampling2D, Conv2D, Activation, LeakyReLU, Input, Conv2DTranspose\n",
    "from keras.layers.pooling import MaxPooling2D\n",
    "from keras.layers.merge import concatenate\n",
    "from keras.models import Model\n",
    "from keras.applications import DenseNet121, Xception, InceptionResNetV2\n",
    "from keras.callbacks import EarlyStopping, ReduceLROnPlateau, ModelCheckpoint\n",
    "from keras.models import Sequential, load_model\n",
    "from keras.optimizers import Adam\n",
    "import tensorflow as tf"
   ]
  },
  {
   "cell_type": "code",
   "execution_count": 21,
   "metadata": {},
   "outputs": [],
   "source": [
    "# # Set cpu cores = 1\n",
    "\n",
    "# from keras import backend as K\n",
    "# K.set_session(K.tf.Session(config=K.tf.ConfigProto(device_count = {'CPU' : 1, 'GPU': 1},\n",
    "#                                                    intra_op_parallelism_threads = 4,\n",
    "#                                                    inter_op_parallelism_threads = 4,\n",
    "#                                                    )))"
   ]
  },
  {
   "cell_type": "code",
   "execution_count": 22,
   "metadata": {},
   "outputs": [],
   "source": [
    "KEEP_PROB = 0.3"
   ]
  },
  {
   "cell_type": "code",
   "execution_count": 23,
   "metadata": {},
   "outputs": [],
   "source": [
    "def Create_model():\n",
    "    \n",
    "    input_shape = (256,256,3)\n",
    "    \n",
    "    inputs = Input(input_shape)\n",
    "\n",
    "    c1 = Conv2D(8, (3, 3), padding='same') (inputs)\n",
    "    c1 = BatchNormalization() (c1)\n",
    "    c1 = Activation('elu') (c1)\n",
    "    c1 = Conv2D(8, (3, 3), padding='same') (c1)\n",
    "    c1 = BatchNormalization() (c1)\n",
    "    c1 = Activation('elu') (c1)\n",
    "    p1 = MaxPooling2D((2, 2)) (c1)\n",
    "    p1 = Dropout(KEEP_PROB) (p1)\n",
    "\n",
    "    c2 = Conv2D(16, (3, 3), padding='same') (p1)\n",
    "    c2 = BatchNormalization() (c2)\n",
    "    c2 = Activation('elu') (c2)\n",
    "    c2 = Conv2D(16, (3, 3), padding='same') (c2)\n",
    "    c2 = BatchNormalization() (c2)\n",
    "    c2 = Activation('elu') (c2)\n",
    "    p2 = MaxPooling2D((2, 2)) (c2)\n",
    "    p2 = Dropout(KEEP_PROB) (p2)\n",
    "\n",
    "    c3 = Conv2D(32, (3, 3), padding='same') (p2)\n",
    "    c3 = BatchNormalization() (c3)\n",
    "    c3 = Activation('elu') (c3)\n",
    "    c3 = Conv2D(32, (3, 3), padding='same') (c3)\n",
    "    c3 = BatchNormalization() (c3)\n",
    "    c3 = Activation('elu') (c3)\n",
    "    p3 = MaxPooling2D((2, 2)) (c3)\n",
    "    p3 = Dropout(KEEP_PROB) (p3)\n",
    "\n",
    "    c4 = Conv2D(64, (3, 3), padding='same') (p3)\n",
    "    c4 = BatchNormalization() (c4)\n",
    "    c4 = Activation('elu') (c4)\n",
    "    c4 = Conv2D(64, (3, 3), padding='same') (c4)\n",
    "    c4 = BatchNormalization() (c4)\n",
    "    c4 = Activation('elu') (c4)\n",
    "    p4 = MaxPooling2D(pool_size=(2, 2)) (c4)\n",
    "    p4 = Dropout(KEEP_PROB) (p4)\n",
    "\n",
    "    c5 = Conv2D(64, (3, 3), padding='same') (p4)\n",
    "    c5 = BatchNormalization() (c5)\n",
    "    c5 = Activation('elu') (c5)\n",
    "    c5 = Conv2D(64, (3, 3), padding='same') (c5)\n",
    "    c5 = BatchNormalization() (c5)\n",
    "    c5 = Activation('elu') (c5)\n",
    "    p5 = MaxPooling2D(pool_size=(2, 2)) (c5)\n",
    "    p5 = Dropout(KEEP_PROB) (p5)\n",
    "\n",
    "    c55 = Conv2D(128, (3, 3), padding='same') (p5)\n",
    "    c55 = BatchNormalization() (c55)\n",
    "    c55 = Activation('elu') (c55)\n",
    "    c55 = Conv2D(128, (3, 3), padding='same') (c55)\n",
    "    c55 = BatchNormalization() (c55)\n",
    "    c55 = Activation('elu') (c55)\n",
    "\n",
    "#     u6 = Conv2DTranspose(64, (2, 2), strides=(2, 2), padding='same') (c55)\n",
    "#     u6 = concatenate([u6, c5])\n",
    "#     c6 = Conv2D(64, (3, 3), activation='elu', padding='same') (u6)\n",
    "#     c6 = Conv2D(64, (3, 3), activation='elu', padding='same') (c6)\n",
    "\n",
    "#     u71 = Conv2DTranspose(32, (2, 2), strides=(2, 2), padding='same') (c6)\n",
    "#     u71 = concatenate([u71, c4])\n",
    "#     c71 = Conv2D(32, (3, 3), activation='elu', padding='same') (u71)\n",
    "#     c61 = Conv2D(32, (3, 3), activation='elu', padding='same') (c71)\n",
    "\n",
    "#     u7 = Conv2DTranspose(32, (2, 2), strides=(2, 2), padding='same') (c61)\n",
    "#     u7 = concatenate([u7, c3])\n",
    "#     c7 = Conv2D(32, (3, 3), activation='elu', padding='same') (u7)\n",
    "#     c7 = Conv2D(32, (3, 3), activation='elu', padding='same') (c7)\n",
    "\n",
    "#     u8 = Conv2DTranspose(16, (2, 2), strides=(2, 2), padding='same') (c7)\n",
    "#     u8 = concatenate([u8, c2])\n",
    "#     c8 = Conv2D(16, (3, 3), activation='elu', padding='same') (u8)\n",
    "#     c8 = Conv2D(16, (3, 3), activation='elu', padding='same') (c8)\n",
    "\n",
    "#     u9 = Conv2DTranspose(8, (2, 2), strides=(2, 2), padding='same') (c8)\n",
    "#     u9 = concatenate([u9, c1], axis=3)\n",
    "#     c9 = Conv2D(8, (3, 3), activation='elu', padding='same') (u9)\n",
    "#     c9 = Conv2D(8, (3, 3), activation='elu', padding='same') (c9)\n",
    "    \n",
    "#     c9 = Conv2D(4, (1, 1), activation='sigmoid') (c9)\n",
    "    \n",
    "#     outputs = Conv2D(4, (1, 1), activation='sigmoid') (c9)\n",
    "\n",
    "    x1 = GlobalMaxPooling2D() (c55)\n",
    "    x1 = BatchNormalization() (x1)\n",
    "    x1 = Dropout(KEEP_PROB) (x1)\n",
    "    \n",
    "    outputs = Dense(1, activation = 'sigmoid') (x1)\n",
    "    \n",
    "#     x1 = GlobalAveragePooling2D() (c9)\n",
    "#     x1 = BatchNormalization() (x1)\n",
    "#     x1 = Dropout(KEEP_PROB) (x1)\n",
    "    \n",
    "#     x2 = Dense(2048, activation = 'relu') (x1)\n",
    "#     x2 = BatchNormalization() (x2)\n",
    "#     x2 = Dropout(KEEP_PROB) (x2)\n",
    "    \n",
    "#     x3 = Dense(512, activation = 'relu') (x2)\n",
    "#     x3 = BatchNormalization() (x3)\n",
    "#     x3 = Dropout(KEEP_PROB) (x3)\n",
    "    \n",
    "#     outputs = Dense(1, activation = 'sigmoid') (x3)\n",
    "\n",
    "    model = Model(inputs=[inputs], outputs=[outputs])\n",
    "    model.compile(optimizer='adam', loss='binary_crossentropy', metrics=['accuracy'])\n",
    "    \n",
    "    model.summary()\n",
    "    \n",
    "    return model"
   ]
  },
  {
   "cell_type": "code",
   "execution_count": 24,
   "metadata": {},
   "outputs": [],
   "source": [
    "# def Create_model():\n",
    "    \n",
    "#     input_shape = (256,256,3)\n",
    "    \n",
    "#     inputs = Input(input_shape)\n",
    "\n",
    "#     c1 = Conv2D(8, (3, 3), activation='elu', padding='same') (inputs)\n",
    "#     c1 = Conv2D(8, (3, 3), activation='elu', padding='same') (c1)\n",
    "#     p1 = MaxPooling2D((2, 2)) (c1)\n",
    "#     p1 = Dropout(KEEP_PROB) (p1)\n",
    "\n",
    "#     c2 = Conv2D(16, (3, 3), activation='elu', padding='same') (p1)\n",
    "#     c2 = Conv2D(16, (3, 3), activation='elu', padding='same') (c2)\n",
    "#     p2 = MaxPooling2D((2, 2)) (c2)\n",
    "#     p2 = Dropout(KEEP_PROB) (p2)\n",
    "\n",
    "#     c3 = Conv2D(32, (3, 3), activation='elu', padding='same') (p2)\n",
    "#     c3 = Conv2D(32, (3, 3), activation='elu', padding='same') (c3)\n",
    "#     p3 = MaxPooling2D((2, 2)) (c3)\n",
    "#     p3 = Dropout(KEEP_PROB) (p3)\n",
    "\n",
    "#     c4 = Conv2D(64, (3, 3), activation='elu', padding='same') (p3)\n",
    "#     c4 = Conv2D(64, (3, 3), activation='elu', padding='same') (c4)\n",
    "#     p4 = MaxPooling2D(pool_size=(2, 2)) (c4)\n",
    "#     p4 = Dropout(KEEP_PROB) (p4)\n",
    "\n",
    "#     c5 = Conv2D(64, (3, 3), activation='elu', padding='same') (p4)\n",
    "#     c5 = Conv2D(64, (3, 3), activation='elu', padding='same') (c5)\n",
    "#     p5 = MaxPooling2D(pool_size=(2, 2)) (c5)\n",
    "#     p5 = Dropout(KEEP_PROB) (p5)\n",
    "\n",
    "#     c55 = Conv2D(128, (3, 3), activation='elu', padding='same') (p5)\n",
    "#     c55 = Conv2D(128, (3, 3), activation='elu', padding='same') (c55)\n",
    "\n",
    "# #     u6 = Conv2DTranspose(64, (2, 2), strides=(2, 2), padding='same') (c55)\n",
    "# #     u6 = concatenate([u6, c5])\n",
    "# #     c6 = Conv2D(64, (3, 3), activation='elu', padding='same') (u6)\n",
    "# #     c6 = Conv2D(64, (3, 3), activation='elu', padding='same') (c6)\n",
    "\n",
    "# #     u71 = Conv2DTranspose(32, (2, 2), strides=(2, 2), padding='same') (c6)\n",
    "# #     u71 = concatenate([u71, c4])\n",
    "# #     c71 = Conv2D(32, (3, 3), activation='elu', padding='same') (u71)\n",
    "# #     c61 = Conv2D(32, (3, 3), activation='elu', padding='same') (c71)\n",
    "\n",
    "# #     u7 = Conv2DTranspose(32, (2, 2), strides=(2, 2), padding='same') (c61)\n",
    "# #     u7 = concatenate([u7, c3])\n",
    "# #     c7 = Conv2D(32, (3, 3), activation='elu', padding='same') (u7)\n",
    "# #     c7 = Conv2D(32, (3, 3), activation='elu', padding='same') (c7)\n",
    "\n",
    "# #     u8 = Conv2DTranspose(16, (2, 2), strides=(2, 2), padding='same') (c7)\n",
    "# #     u8 = concatenate([u8, c2])\n",
    "# #     c8 = Conv2D(16, (3, 3), activation='elu', padding='same') (u8)\n",
    "# #     c8 = Conv2D(16, (3, 3), activation='elu', padding='same') (c8)\n",
    "\n",
    "# #     u9 = Conv2DTranspose(8, (2, 2), strides=(2, 2), padding='same') (c8)\n",
    "# #     u9 = concatenate([u9, c1], axis=3)\n",
    "# #     c9 = Conv2D(8, (3, 3), activation='elu', padding='same') (u9)\n",
    "# #     c9 = Conv2D(8, (3, 3), activation='elu', padding='same') (c9)\n",
    "    \n",
    "# #     c9 = Conv2D(4, (1, 1), activation='sigmoid') (c9)\n",
    "    \n",
    "# #     outputs = Conv2D(4, (1, 1), activation='sigmoid') (c9)\n",
    "\n",
    "#     x1 = GlobalMaxPooling2D() (c55)\n",
    "#     x1 = BatchNormalization() (x1)\n",
    "#     x1 = Dropout(KEEP_PROB) (x1)\n",
    "    \n",
    "#     outputs = Dense(1, activation = 'sigmoid') (x1)\n",
    "    \n",
    "# #     x1 = GlobalAveragePooling2D() (c9)\n",
    "# #     x1 = BatchNormalization() (x1)\n",
    "# #     x1 = Dropout(KEEP_PROB) (x1)\n",
    "    \n",
    "# #     x2 = Dense(2048, activation = 'relu') (x1)\n",
    "# #     x2 = BatchNormalization() (x2)\n",
    "# #     x2 = Dropout(KEEP_PROB) (x2)\n",
    "    \n",
    "# #     x3 = Dense(512, activation = 'relu') (x2)\n",
    "# #     x3 = BatchNormalization() (x3)\n",
    "# #     x3 = Dropout(KEEP_PROB) (x3)\n",
    "    \n",
    "# #     outputs = Dense(1, activation = 'sigmoid') (x3)\n",
    "\n",
    "#     model = Model(inputs=[inputs], outputs=[outputs])\n",
    "#     model.compile(optimizer='adam', loss='binary_crossentropy', metrics=['accuracy'])\n",
    "    \n",
    "#     model.summary()\n",
    "    \n",
    "#     return model"
   ]
  },
  {
   "cell_type": "code",
   "execution_count": 25,
   "metadata": {},
   "outputs": [],
   "source": [
    "def Load_model():\n",
    "    keras.backend.clear_session()\n",
    "    \n",
    "    model = load_model('./model/unet_BN_DO_valacc_0.9634.h5')\n",
    "    #model.layers[0].trainable = False\n",
    "\n",
    "    model.compile(\n",
    "            loss = 'binary_crossentropy',\n",
    "            optimizer = 'Adam',\n",
    "            metrics = ['accuracy'])\n",
    "    \n",
    "    model.summary()\n",
    "    \n",
    "    return model"
   ]
  },
  {
   "cell_type": "code",
   "execution_count": 26,
   "metadata": {
    "scrolled": false
   },
   "outputs": [
    {
     "name": "stdout",
     "output_type": "stream",
     "text": [
      "WARNING:tensorflow:From D:\\Anaconda3\\envs\\tensorflow\\lib\\site-packages\\keras\\backend\\tensorflow_backend.py:95: The name tf.reset_default_graph is deprecated. Please use tf.compat.v1.reset_default_graph instead.\n",
      "\n",
      "WARNING:tensorflow:From D:\\Anaconda3\\envs\\tensorflow\\lib\\site-packages\\keras\\backend\\tensorflow_backend.py:98: The name tf.placeholder_with_default is deprecated. Please use tf.compat.v1.placeholder_with_default instead.\n",
      "\n",
      "WARNING:tensorflow:From D:\\Anaconda3\\envs\\tensorflow\\lib\\site-packages\\keras\\backend\\tensorflow_backend.py:102: The name tf.get_default_graph is deprecated. Please use tf.compat.v1.get_default_graph instead.\n",
      "\n",
      "WARNING:tensorflow:From D:\\Anaconda3\\envs\\tensorflow\\lib\\site-packages\\keras\\backend\\tensorflow_backend.py:517: The name tf.placeholder is deprecated. Please use tf.compat.v1.placeholder instead.\n",
      "\n",
      "WARNING:tensorflow:From D:\\Anaconda3\\envs\\tensorflow\\lib\\site-packages\\keras\\backend\\tensorflow_backend.py:4138: The name tf.random_uniform is deprecated. Please use tf.random.uniform instead.\n",
      "\n",
      "WARNING:tensorflow:From D:\\Anaconda3\\envs\\tensorflow\\lib\\site-packages\\keras\\backend\\tensorflow_backend.py:1834: The name tf.nn.fused_batch_norm is deprecated. Please use tf.compat.v1.nn.fused_batch_norm instead.\n",
      "\n",
      "WARNING:tensorflow:From D:\\Anaconda3\\envs\\tensorflow\\lib\\site-packages\\keras\\backend\\tensorflow_backend.py:3976: The name tf.nn.max_pool is deprecated. Please use tf.nn.max_pool2d instead.\n",
      "\n",
      "WARNING:tensorflow:From D:\\Anaconda3\\envs\\tensorflow\\lib\\site-packages\\keras\\backend\\tensorflow_backend.py:3445: calling dropout (from tensorflow.python.ops.nn_ops) with keep_prob is deprecated and will be removed in a future version.\n",
      "Instructions for updating:\n",
      "Please use `rate` instead of `keep_prob`. Rate should be set to `rate = 1 - keep_prob`.\n",
      "WARNING:tensorflow:From D:\\Anaconda3\\envs\\tensorflow\\lib\\site-packages\\keras\\optimizers.py:790: The name tf.train.Optimizer is deprecated. Please use tf.compat.v1.train.Optimizer instead.\n",
      "\n",
      "WARNING:tensorflow:From C:\\Users\\Lam Family\\AppData\\Roaming\\Python\\Python36\\site-packages\\tensorflow\\python\\ops\\nn_impl.py:180: add_dispatch_support.<locals>.wrapper (from tensorflow.python.ops.array_ops) is deprecated and will be removed in a future version.\n",
      "Instructions for updating:\n",
      "Use tf.where in 2.0, which has the same broadcast rule as np.where\n",
      "_________________________________________________________________\n",
      "Layer (type)                 Output Shape              Param #   \n",
      "=================================================================\n",
      "input_2 (InputLayer)         (None, 256, 256, 3)       0         \n",
      "_________________________________________________________________\n",
      "conv2d_13 (Conv2D)           (None, 256, 256, 8)       224       \n",
      "_________________________________________________________________\n",
      "batch_normalization_14 (Batc (None, 256, 256, 8)       32        \n",
      "_________________________________________________________________\n",
      "activation_13 (Activation)   (None, 256, 256, 8)       0         \n",
      "_________________________________________________________________\n",
      "conv2d_14 (Conv2D)           (None, 256, 256, 8)       584       \n",
      "_________________________________________________________________\n",
      "batch_normalization_15 (Batc (None, 256, 256, 8)       32        \n",
      "_________________________________________________________________\n",
      "activation_14 (Activation)   (None, 256, 256, 8)       0         \n",
      "_________________________________________________________________\n",
      "max_pooling2d_6 (MaxPooling2 (None, 128, 128, 8)       0         \n",
      "_________________________________________________________________\n",
      "dropout_7 (Dropout)          (None, 128, 128, 8)       0         \n",
      "_________________________________________________________________\n",
      "conv2d_15 (Conv2D)           (None, 128, 128, 16)      1168      \n",
      "_________________________________________________________________\n",
      "batch_normalization_16 (Batc (None, 128, 128, 16)      64        \n",
      "_________________________________________________________________\n",
      "activation_15 (Activation)   (None, 128, 128, 16)      0         \n",
      "_________________________________________________________________\n",
      "conv2d_16 (Conv2D)           (None, 128, 128, 16)      2320      \n",
      "_________________________________________________________________\n",
      "batch_normalization_17 (Batc (None, 128, 128, 16)      64        \n",
      "_________________________________________________________________\n",
      "activation_16 (Activation)   (None, 128, 128, 16)      0         \n",
      "_________________________________________________________________\n",
      "max_pooling2d_7 (MaxPooling2 (None, 64, 64, 16)        0         \n",
      "_________________________________________________________________\n",
      "dropout_8 (Dropout)          (None, 64, 64, 16)        0         \n",
      "_________________________________________________________________\n",
      "conv2d_17 (Conv2D)           (None, 64, 64, 32)        4640      \n",
      "_________________________________________________________________\n",
      "batch_normalization_18 (Batc (None, 64, 64, 32)        128       \n",
      "_________________________________________________________________\n",
      "activation_17 (Activation)   (None, 64, 64, 32)        0         \n",
      "_________________________________________________________________\n",
      "conv2d_18 (Conv2D)           (None, 64, 64, 32)        9248      \n",
      "_________________________________________________________________\n",
      "batch_normalization_19 (Batc (None, 64, 64, 32)        128       \n",
      "_________________________________________________________________\n",
      "activation_18 (Activation)   (None, 64, 64, 32)        0         \n",
      "_________________________________________________________________\n",
      "max_pooling2d_8 (MaxPooling2 (None, 32, 32, 32)        0         \n",
      "_________________________________________________________________\n",
      "dropout_9 (Dropout)          (None, 32, 32, 32)        0         \n",
      "_________________________________________________________________\n",
      "conv2d_19 (Conv2D)           (None, 32, 32, 64)        18496     \n",
      "_________________________________________________________________\n",
      "batch_normalization_20 (Batc (None, 32, 32, 64)        256       \n",
      "_________________________________________________________________\n",
      "activation_19 (Activation)   (None, 32, 32, 64)        0         \n",
      "_________________________________________________________________\n",
      "conv2d_20 (Conv2D)           (None, 32, 32, 64)        36928     \n",
      "_________________________________________________________________\n",
      "batch_normalization_21 (Batc (None, 32, 32, 64)        256       \n",
      "_________________________________________________________________\n",
      "activation_20 (Activation)   (None, 32, 32, 64)        0         \n",
      "_________________________________________________________________\n",
      "max_pooling2d_9 (MaxPooling2 (None, 16, 16, 64)        0         \n",
      "_________________________________________________________________\n",
      "dropout_10 (Dropout)         (None, 16, 16, 64)        0         \n",
      "_________________________________________________________________\n",
      "conv2d_21 (Conv2D)           (None, 16, 16, 64)        36928     \n",
      "_________________________________________________________________\n",
      "batch_normalization_22 (Batc (None, 16, 16, 64)        256       \n",
      "_________________________________________________________________\n",
      "activation_21 (Activation)   (None, 16, 16, 64)        0         \n",
      "_________________________________________________________________\n",
      "conv2d_22 (Conv2D)           (None, 16, 16, 64)        36928     \n",
      "_________________________________________________________________\n",
      "batch_normalization_23 (Batc (None, 16, 16, 64)        256       \n",
      "_________________________________________________________________\n",
      "activation_22 (Activation)   (None, 16, 16, 64)        0         \n",
      "_________________________________________________________________\n",
      "max_pooling2d_10 (MaxPooling (None, 8, 8, 64)          0         \n",
      "_________________________________________________________________\n",
      "dropout_11 (Dropout)         (None, 8, 8, 64)          0         \n",
      "_________________________________________________________________\n",
      "conv2d_23 (Conv2D)           (None, 8, 8, 128)         73856     \n",
      "_________________________________________________________________\n",
      "batch_normalization_24 (Batc (None, 8, 8, 128)         512       \n",
      "_________________________________________________________________\n",
      "activation_23 (Activation)   (None, 8, 8, 128)         0         \n",
      "_________________________________________________________________\n",
      "conv2d_24 (Conv2D)           (None, 8, 8, 128)         147584    \n",
      "_________________________________________________________________\n",
      "batch_normalization_25 (Batc (None, 8, 8, 128)         512       \n",
      "_________________________________________________________________\n",
      "activation_24 (Activation)   (None, 8, 8, 128)         0         \n",
      "_________________________________________________________________\n",
      "global_max_pooling2d_2 (Glob (None, 128)               0         \n",
      "_________________________________________________________________\n",
      "batch_normalization_26 (Batc (None, 128)               512       \n",
      "_________________________________________________________________\n",
      "dropout_12 (Dropout)         (None, 128)               0         \n",
      "_________________________________________________________________\n",
      "dense_2 (Dense)              (None, 1)                 129       \n",
      "=================================================================\n",
      "Total params: 372,041\n",
      "Trainable params: 370,537\n",
      "Non-trainable params: 1,504\n",
      "_________________________________________________________________\n",
      "Wall time: 9.02 s\n"
     ]
    }
   ],
   "source": [
    "%%time\n",
    "# Create model\n",
    "# model = Create_model()\n",
    "\n",
    "# Load model\n",
    "model = Load_model()"
   ]
  },
  {
   "cell_type": "code",
   "execution_count": 34,
   "metadata": {},
   "outputs": [],
   "source": [
    "# Define callbacks (EarlyStopping, ReduceLROnPlateau, ModelCheckpoint)\n",
    "# ModelCheckpoint: Save the (best) model weights after every epoch\n",
    "\n",
    "from keras.callbacks import EarlyStopping, ReduceLROnPlateau, ModelCheckpoint\n",
    "\n",
    "callbacks = [\n",
    "             EarlyStopping(monitor='val_loss', patience=5, min_delta=1e-4),\n",
    "             ReduceLROnPlateau(monitor='val_loss', factor=0.5, patience=2, cooldown=1, min_lr=1e-6),\n",
    "             ModelCheckpoint(filepath='./model/unet_valacc.h5', monitor='val_loss',\n",
    "                             save_best_only=True, save_weights_only=False)\n",
    "            ]"
   ]
  },
  {
   "cell_type": "code",
   "execution_count": 35,
   "metadata": {},
   "outputs": [
    {
     "name": "stdout",
     "output_type": "stream",
     "text": [
      "train_steps: 354\n",
      "validation_steps: 40\n"
     ]
    }
   ],
   "source": [
    "EPOCHS = 15\n",
    "\n",
    "total_steps = y_train.shape[0] / BATCH_SIZE                # no. of train_images / batch size\n",
    "\n",
    "train_steps = int(np.ceil(y_train.shape[0] / BATCH_SIZE))\n",
    "validation_steps = int(np.ceil(y_val.shape[0] / BATCH_SIZE))\n",
    "print('train_steps:', train_steps)                         # len(train_generator)\n",
    "print('validation_steps:', validation_steps)               # len(validation_generator)"
   ]
  },
  {
   "cell_type": "code",
   "execution_count": 36,
   "metadata": {},
   "outputs": [
    {
     "name": "stdout",
     "output_type": "stream",
     "text": [
      "Epoch 1/15\n",
      "354/354 [==============================] - 55s 156ms/step - loss: 0.0676 - acc: 0.9741 - val_loss: 0.1419 - val_acc: 0.9523\n",
      "Epoch 2/15\n",
      "354/354 [==============================] - 49s 137ms/step - loss: 0.0763 - acc: 0.9700 - val_loss: 0.1579 - val_acc: 0.9515\n",
      "Epoch 3/15\n",
      "354/354 [==============================] - 49s 140ms/step - loss: 0.0698 - acc: 0.9739 - val_loss: 0.1526 - val_acc: 0.9531\n",
      "Epoch 4/15\n",
      "354/354 [==============================] - 49s 139ms/step - loss: 0.0670 - acc: 0.9753 - val_loss: 0.1586 - val_acc: 0.9499\n",
      "Epoch 5/15\n",
      "354/354 [==============================] - 49s 139ms/step - loss: 0.0606 - acc: 0.9772 - val_loss: 0.1469 - val_acc: 0.9554\n",
      "Epoch 6/15\n",
      "354/354 [==============================] - 49s 139ms/step - loss: 0.0522 - acc: 0.9817 - val_loss: 0.1460 - val_acc: 0.9562\n",
      "Wall time: 5min 3s\n"
     ]
    }
   ],
   "source": [
    "%%time\n",
    "# Train the model\n",
    "\n",
    "history = model.fit_generator(\n",
    "                train_generator,\n",
    "                steps_per_epoch = train_steps,\n",
    "                epochs = EPOCHS,\n",
    "                validation_data = validation_generator,\n",
    "                validation_steps = validation_steps,\n",
    "                callbacks = callbacks,\n",
    "                workers=16,\n",
    "                max_queue_size=50\n",
    "                )"
   ]
  },
  {
   "cell_type": "code",
   "execution_count": 27,
   "metadata": {},
   "outputs": [],
   "source": [
    "# Save model\n",
    "model.save('./model/unet_BN_DO_noval_acc_0.9800.h5')"
   ]
  },
  {
   "cell_type": "code",
   "execution_count": 37,
   "metadata": {},
   "outputs": [
    {
     "name": "stdout",
     "output_type": "stream",
     "text": [
      "dict_keys(['val_loss', 'val_acc', 'loss', 'acc', 'lr'])\n"
     ]
    }
   ],
   "source": [
    "print(history.history.keys())"
   ]
  },
  {
   "cell_type": "markdown",
   "metadata": {},
   "source": [
    "# Model Evaluation"
   ]
  },
  {
   "cell_type": "markdown",
   "metadata": {},
   "source": [
    "## Plot Learning rate"
   ]
  },
  {
   "cell_type": "code",
   "execution_count": 38,
   "metadata": {},
   "outputs": [
    {
     "name": "stdout",
     "output_type": "stream",
     "text": [
      "learning rate: [0.0005, 0.0005, 0.0005, 0.00025, 0.00025, 0.000125]\n"
     ]
    },
    {
     "data": {
      "image/png": "[encoded data removed]",
      "text/plain": [
       "<Figure size 432x288 with 1 Axes>"
      ]
     },
     "metadata": {
      "needs_background": "light"
     },
     "output_type": "display_data"
    }
   ],
   "source": [
    "print('learning rate:', history.history['lr'])\n",
    "plt.plot(history.history['lr'])\n",
    "plt.xlabel('Epoch')\n",
    "plt.ylabel('Learning Rate')\n",
    "plt.show()"
   ]
  },
  {
   "cell_type": "markdown",
   "metadata": {},
   "source": [
    "## 1) Plot loss and accuracy (train, val)"
   ]
  },
  {
   "cell_type": "code",
   "execution_count": 39,
   "metadata": {},
   "outputs": [
    {
     "data": {
      "image/png": "[encoded data removed]",
      "text/plain": [
       "<Figure size 432x288 with 1 Axes>"
      ]
     },
     "metadata": {
      "needs_background": "light"
     },
     "output_type": "display_data"
    }
   ],
   "source": [
    "plt.plot(history.history['acc'])\n",
    "plt.plot(history.history['val_acc'])\n",
    "plt.xlabel('Epoch')\n",
    "plt.legend(['train', 'val'], loc='upper left')\n",
    "plt.title('Model accuracy')\n",
    "plt.ylabel('accuracy')\n",
    "plt.show()"
   ]
  },
  {
   "cell_type": "code",
   "execution_count": 40,
   "metadata": {},
   "outputs": [
    {
     "data": {
      "image/png": "[encoded data removed]",
      "text/plain": [
       "<Figure size 432x288 with 1 Axes>"
      ]
     },
     "metadata": {
      "needs_background": "light"
     },
     "output_type": "display_data"
    }
   ],
   "source": [
    "plt.plot(history.history['loss'])\n",
    "plt.plot(history.history['val_loss'])\n",
    "plt.title('Model loss')\n",
    "plt.ylabel('loss')\n",
    "plt.xlabel('epoch')\n",
    "plt.legend(['train', 'val'], loc='upper left')\n",
    "plt.show()"
   ]
  },
  {
   "cell_type": "markdown",
   "metadata": {},
   "source": [
    "## 2) Loss and accuracy (val)"
   ]
  },
  {
   "cell_type": "code",
   "execution_count": 41,
   "metadata": {},
   "outputs": [
    {
     "name": "stdout",
     "output_type": "stream",
     "text": [
      "loss: 0.14599419436724997\n",
      "metric (accuracy):  0.9562450278440732\n",
      "Wall time: 9.75 s\n"
     ]
    }
   ],
   "source": [
    "%%time\n",
    "\n",
    "validation_generator.reset()\n",
    "# score = model.evaluate(x_val, y_val)\n",
    "score = model.evaluate_generator(validation_generator, steps = validation_steps)\n",
    "print(\"loss:\", score[0])\n",
    "print(\"metric (accuracy): \", score[1])"
   ]
  },
  {
   "cell_type": "markdown",
   "metadata": {},
   "source": [
    "## 3) ROC AUC (val)"
   ]
  },
  {
   "cell_type": "code",
   "execution_count": 91,
   "metadata": {},
   "outputs": [
    {
     "data": {
      "text/html": [
       "<div>\n",
       "<style scoped>\n",
       "    .dataframe tbody tr th:only-of-type {\n",
       "        vertical-align: middle;\n",
       "    }\n",
       "\n",
       "    .dataframe tbody tr th {\n",
       "        vertical-align: top;\n",
       "    }\n",
       "\n",
       "    .dataframe thead th {\n",
       "        text-align: right;\n",
       "    }\n",
       "</style>\n",
       "<table border=\"1\" class=\"dataframe\">\n",
       "  <thead>\n",
       "    <tr style=\"text-align: right;\">\n",
       "      <th></th>\n",
       "      <th>ImageId</th>\n",
       "      <th>defect</th>\n",
       "    </tr>\n",
       "  </thead>\n",
       "  <tbody>\n",
       "    <tr>\n",
       "      <th>7313</th>\n",
       "      <td>94947e1f9.jpg</td>\n",
       "      <td>True</td>\n",
       "    </tr>\n",
       "    <tr>\n",
       "      <th>2119</th>\n",
       "      <td>2aeb8dbd6.jpg</td>\n",
       "      <td>False</td>\n",
       "    </tr>\n",
       "    <tr>\n",
       "      <th>8214</th>\n",
       "      <td>a6ecee828.jpg</td>\n",
       "      <td>True</td>\n",
       "    </tr>\n",
       "    <tr>\n",
       "      <th>357</th>\n",
       "      <td>07edbd095.jpg</td>\n",
       "      <td>False</td>\n",
       "    </tr>\n",
       "    <tr>\n",
       "      <th>5527</th>\n",
       "      <td>6fc6a0964.jpg</td>\n",
       "      <td>True</td>\n",
       "    </tr>\n",
       "  </tbody>\n",
       "</table>\n",
       "</div>"
      ],
      "text/plain": [
       "            ImageId defect\n",
       "7313  94947e1f9.jpg   True\n",
       "2119  2aeb8dbd6.jpg  False\n",
       "8214  a6ecee828.jpg   True\n",
       "357   07edbd095.jpg  False\n",
       "5527  6fc6a0964.jpg   True"
      ]
     },
     "execution_count": 91,
     "metadata": {},
     "output_type": "execute_result"
    }
   ],
   "source": [
    "df_val = y_val\n",
    "df_val.head()"
   ]
  },
  {
   "cell_type": "code",
   "execution_count": 92,
   "metadata": {},
   "outputs": [
    {
     "data": {
      "text/plain": [
       "[1, 0, 1, 0, 1]"
      ]
     },
     "execution_count": 92,
     "metadata": {},
     "output_type": "execute_result"
    }
   ],
   "source": [
    "validation_generator.classes[:5]"
   ]
  },
  {
   "cell_type": "code",
   "execution_count": 93,
   "metadata": {},
   "outputs": [
    {
     "data": {
      "text/plain": [
       "['94947e1f9.jpg',\n",
       " '2aeb8dbd6.jpg',\n",
       " 'a6ecee828.jpg',\n",
       " '07edbd095.jpg',\n",
       " '6fc6a0964.jpg']"
      ]
     },
     "execution_count": 93,
     "metadata": {},
     "output_type": "execute_result"
    }
   ],
   "source": [
    "validation_generator.filenames[:5]"
   ]
  },
  {
   "cell_type": "code",
   "execution_count": 94,
   "metadata": {},
   "outputs": [
    {
     "name": "stdout",
     "output_type": "stream",
     "text": [
      "Wall time: 9.86 s\n"
     ]
    }
   ],
   "source": [
    "%%time\n",
    "\n",
    "validation_generator.reset()\n",
    "# y_val_pred = model.predict_classes(x_val)\n",
    "y_val_pred_prob = model.predict_generator(validation_generator, steps = validation_steps)"
   ]
  },
  {
   "cell_type": "code",
   "execution_count": 95,
   "metadata": {},
   "outputs": [
    {
     "name": "stdout",
     "output_type": "stream",
     "text": [
      "y_val_pred_prob.shape: (1257, 1)\n"
     ]
    },
    {
     "data": {
      "text/plain": [
       "array([[9.9999881e-01],\n",
       "       [6.8731010e-02],\n",
       "       [9.9988562e-01],\n",
       "       ...,\n",
       "       [5.2541494e-05],\n",
       "       [9.9999619e-01],\n",
       "       [9.7736520e-01]], dtype=float32)"
      ]
     },
     "execution_count": 95,
     "metadata": {},
     "output_type": "execute_result"
    }
   ],
   "source": [
    "print('y_val_pred_prob.shape:', y_val_pred_prob.shape)\n",
    "y_val_pred_prob"
   ]
  },
  {
   "cell_type": "code",
   "execution_count": 96,
   "metadata": {},
   "outputs": [
    {
     "data": {
      "text/plain": [
       "array([[ True],\n",
       "       [False],\n",
       "       [ True],\n",
       "       ...,\n",
       "       [False],\n",
       "       [ True],\n",
       "       [ True]])"
      ]
     },
     "execution_count": 96,
     "metadata": {},
     "output_type": "execute_result"
    }
   ],
   "source": [
    "y_val_pred = y_val_pred_prob > 0.5\n",
    "y_val_pred"
   ]
  },
  {
   "cell_type": "code",
   "execution_count": 97,
   "metadata": {},
   "outputs": [
    {
     "name": "stdout",
     "output_type": "stream",
     "text": [
      "y_val.shape: (1257,)\n"
     ]
    },
    {
     "data": {
      "text/plain": [
       "array([1, 0, 1, ..., 0, 1, 1])"
      ]
     },
     "execution_count": 97,
     "metadata": {},
     "output_type": "execute_result"
    }
   ],
   "source": [
    "y_val = np.array(validation_generator.classes)\n",
    "print('y_val.shape:', y_val.shape)\n",
    "y_val"
   ]
  },
  {
   "cell_type": "code",
   "execution_count": 98,
   "metadata": {},
   "outputs": [
    {
     "name": "stdout",
     "output_type": "stream",
     "text": [
      "ROC AUC (val): 0.9549956428902671\n"
     ]
    }
   ],
   "source": [
    "from sklearn.metrics import roc_auc_score\n",
    "\n",
    "print('ROC AUC (val): {0}'.format(roc_auc_score(y_val, y_val_pred)))"
   ]
  },
  {
   "cell_type": "markdown",
   "metadata": {},
   "source": [
    "## 4) Error Distribution"
   ]
  },
  {
   "cell_type": "code",
   "execution_count": 122,
   "metadata": {},
   "outputs": [
    {
     "name": "stdout",
     "output_type": "stream",
     "text": [
      "Unique Values :  [ True False]\n",
      "Occurrence Count :  [694 563]\n"
     ]
    }
   ],
   "source": [
    "uniqueValues, occurCount = np.unique(y_val_pred, return_counts=True)\n",
    "\n",
    "uniqueValues[0], uniqueValues[1] = uniqueValues[1], uniqueValues[0]     #reorder\n",
    "occurCount[0], occurCount[1] = occurCount[1], occurCount[0]\n",
    "\n",
    "print(\"Unique Values : \" , uniqueValues)\n",
    "print(\"Occurrence Count : \", occurCount)"
   ]
  },
  {
   "cell_type": "code",
   "execution_count": 147,
   "metadata": {},
   "outputs": [
    {
     "name": "stdout",
     "output_type": "stream",
     "text": [
      "True/False Ratio: 1.232682\n"
     ]
    },
    {
     "data": {
      "image/png": "[encoded data removed]",
      "text/plain": [
       "<Figure size 432x288 with 1 Axes>"
      ]
     },
     "metadata": {
      "needs_background": "light"
     },
     "output_type": "display_data"
    }
   ],
   "source": [
    "plt.bar(x = (str(uniqueValues[0]), str(uniqueValues[1])), height = occurCount)\n",
    "plt.title(\"No. of images with/without defect(s)\")\n",
    "plt.ylabel(\"No. of images\")\n",
    "print('True/False Ratio: {:f}'.format(occurCount[0]/occurCount[1]))"
   ]
  },
  {
   "cell_type": "markdown",
   "metadata": {},
   "source": [
    "## 5) Plot confusion matrix (val)"
   ]
  },
  {
   "cell_type": "code",
   "execution_count": 50,
   "metadata": {},
   "outputs": [],
   "source": [
    "from sklearn.metrics import confusion_matrix\n",
    "\n",
    "def plot_confusion_matrix(y_true, y_pred, class_names, vmax=None, normed=True, title='Confusion matrix'):\n",
    "    matrix = confusion_matrix(y_true,y_pred)\n",
    "    print('confusion_matrix:\\n', matrix)\n",
    "    \n",
    "    if normed:\n",
    "        matrix = matrix.astype('float') / matrix.sum(axis=1)[:, np.newaxis]\n",
    "    fig = sns.heatmap(matrix, vmax=vmax, annot=True, square=True,\n",
    "                cmap=plt.cm.Blues_r, cbar=False, linecolor='black', linewidths=1,\n",
    "                xticklabels=class_names, yticklabels=class_names)\n",
    "    \n",
    "    plt.xlabel(\"Predicted labels\")\n",
    "    plt.ylabel(\"True labels\")\n",
    "    plt.title(title)\n",
    "    plt.show(fig)"
   ]
  },
  {
   "cell_type": "code",
   "execution_count": 51,
   "metadata": {},
   "outputs": [
    {
     "name": "stdout",
     "output_type": "stream",
     "text": [
      "confusion_matrix:\n",
      " [[543  35]\n",
      " [ 20 659]]\n"
     ]
    },
    {
     "data": {
      "image/png": "[encoded data removed]",
      "text/plain": [
       "<Figure size 432x288 with 1 Axes>"
      ]
     },
     "metadata": {
      "needs_background": "light"
     },
     "output_type": "display_data"
    }
   ],
   "source": [
    "plot_confusion_matrix(y_val, y_val_pred,\n",
    "                      class_names=['Positive', 'Negative'],\n",
    "                      title='Confusion matrix (val data)')"
   ]
  },
  {
   "cell_type": "markdown",
   "metadata": {},
   "source": [
    "## 6) Plot errors"
   ]
  },
  {
   "cell_type": "code",
   "execution_count": 52,
   "metadata": {},
   "outputs": [
    {
     "data": {
      "text/plain": [
       "<matplotlib.image.AxesImage at 0x5ec5d30>"
      ]
     },
     "execution_count": 52,
     "metadata": {},
     "output_type": "execute_result"
    },
    {
     "data": {
      "image/png": "[encoded data removed]",
      "text/plain": [
       "<Figure size 432x288 with 1 Axes>"
      ]
     },
     "metadata": {
      "needs_background": "light"
     },
     "output_type": "display_data"
    }
   ],
   "source": [
    "# image from validation_generator\n",
    "validation_generator[38][0][31].shape   #1st[]: [0:39] no. of batch    2nd[]: [0/1] x/y    3nd[]: [0:32] no. of image in a batch\n",
    "plt.imshow(validation_generator[38][0][31])"
   ]
  },
  {
   "cell_type": "code",
   "execution_count": 53,
   "metadata": {},
   "outputs": [
    {
     "data": {
      "text/plain": [
       "(9, 256, 256, 3)"
      ]
     },
     "execution_count": 53,
     "metadata": {},
     "output_type": "execute_result"
    }
   ],
   "source": [
    "# last batch (40th): 9 images\n",
    "validation_generator[39][0].shape"
   ]
  },
  {
   "cell_type": "code",
   "execution_count": 54,
   "metadata": {},
   "outputs": [
    {
     "data": {
      "text/plain": [
       "(32, 256, 256, 3)"
      ]
     },
     "execution_count": 54,
     "metadata": {},
     "output_type": "execute_result"
    }
   ],
   "source": [
    "# 1 batch = 32 images\n",
    "validation_generator[0][0][:].shape"
   ]
  },
  {
   "cell_type": "code",
   "execution_count": 55,
   "metadata": {},
   "outputs": [
    {
     "name": "stdout",
     "output_type": "stream",
     "text": [
      "x_val.shape: (1257, 256, 256, 3)\n",
      "Wall time: 10 s\n"
     ]
    }
   ],
   "source": [
    "%%time\n",
    "x_val = np.concatenate([validation_generator[batch][0][:] for batch in range(len(validation_generator))])   # from 0 to 39\n",
    "print('x_val.shape:', x_val.shape)"
   ]
  },
  {
   "cell_type": "code",
   "execution_count": 56,
   "metadata": {},
   "outputs": [
    {
     "name": "stdout",
     "output_type": "stream",
     "text": [
      "Total no. of error in val set: 55\n",
      "First 6 error index: [14 25 49 56 61 72]\n"
     ]
    },
    {
     "data": {
      "image/png": "[encoded data removed]",
      "text/plain": [
       "<Figure size 864x720 with 6 Axes>"
      ]
     },
     "metadata": {
      "needs_background": "light"
     },
     "output_type": "display_data"
    }
   ],
   "source": [
    "errors = (np.squeeze(y_val_pred) - y_val != 0) # array of bools with true when there is an error or false when the image is cor\n",
    "\n",
    "index = np.squeeze(np.where(errors==True))\n",
    "print('Total no. of error in val set:', len(index))\n",
    "print('First 6 error index:', index[:6])\n",
    "\n",
    "y_val_pred_er = y_val_pred[errors]\n",
    "y_val_er = y_val[errors]\n",
    "x_val_er = x_val[errors]\n",
    "\n",
    "def display_errors():\n",
    "    \"\"\" This function shows 6 images with their predicted and real labels\"\"\"\n",
    "    nrows = 2\n",
    "    ncols = 3\n",
    "    \n",
    "    fig, ax = plt.subplots(nrows, ncols, sharex=True, sharey=True, figsize=(12,10))\n",
    "    for row in range(nrows):\n",
    "        for col in range(ncols):\n",
    "            i = row * ncols + col\n",
    "            \n",
    "            ax[row,col].imshow(x_val_er[i], )\n",
    "            ax[row,col].set_title(\"Predicted label :{}\\nTrue label :{}\".format(y_val_pred_er[i], y_val_er[i]))\n",
    "\n",
    "# Show the 6 errors\n",
    "display_errors()"
   ]
  },
  {
   "cell_type": "markdown",
   "metadata": {},
   "source": [
    "# Prediction"
   ]
  },
  {
   "cell_type": "code",
   "execution_count": 57,
   "metadata": {},
   "outputs": [
    {
     "name": "stdout",
     "output_type": "stream",
     "text": [
      "test_steps: 57\n"
     ]
    }
   ],
   "source": [
    "test_steps = int(np.ceil(sample_submission.shape[0] / BATCH_SIZE))           # no. of test_images / batch size\n",
    "print('test_steps:', test_steps)                                             # len(test_generator)"
   ]
  },
  {
   "cell_type": "code",
   "execution_count": 67,
   "metadata": {},
   "outputs": [
    {
     "name": "stdout",
     "output_type": "stream",
     "text": [
      "Wall time: 12.9 s\n"
     ]
    }
   ],
   "source": [
    "%%time\n",
    "\n",
    "test_generator.reset()\n",
    "y_pred_prob = model.predict_generator(test_generator, steps = test_steps)"
   ]
  },
  {
   "cell_type": "code",
   "execution_count": 68,
   "metadata": {},
   "outputs": [
    {
     "name": "stdout",
     "output_type": "stream",
     "text": [
      "y_pred_prob.shape: (1801, 1)\n"
     ]
    },
    {
     "data": {
      "text/plain": [
       "array([[0.9328516 ],\n",
       "       [0.95307547],\n",
       "       [0.04810381],\n",
       "       ...,\n",
       "       [0.99952525],\n",
       "       [0.00178191],\n",
       "       [0.9999062 ]], dtype=float32)"
      ]
     },
     "execution_count": 68,
     "metadata": {},
     "output_type": "execute_result"
    }
   ],
   "source": [
    "print('y_pred_prob.shape:', y_pred_prob.shape)\n",
    "y_pred_prob"
   ]
  },
  {
   "cell_type": "code",
   "execution_count": 69,
   "metadata": {},
   "outputs": [
    {
     "data": {
      "text/plain": [
       "array([[ True],\n",
       "       [ True],\n",
       "       [False],\n",
       "       ...,\n",
       "       [ True],\n",
       "       [False],\n",
       "       [ True]])"
      ]
     },
     "execution_count": 69,
     "metadata": {},
     "output_type": "execute_result"
    }
   ],
   "source": [
    "y_pred = y_pred_prob > 0.5\n",
    "y_pred"
   ]
  },
  {
   "cell_type": "markdown",
   "metadata": {},
   "source": [
    "# Sample_submission\n",
    "    sample_submission['defect'] = y_pred"
   ]
  },
  {
   "cell_type": "code",
   "execution_count": 61,
   "metadata": {},
   "outputs": [
    {
     "name": "stdout",
     "output_type": "stream",
     "text": [
      "sample_submission.shape: (1801, 2)\n"
     ]
    },
    {
     "data": {
      "text/html": [
       "<div>\n",
       "<style scoped>\n",
       "    .dataframe tbody tr th:only-of-type {\n",
       "        vertical-align: middle;\n",
       "    }\n",
       "\n",
       "    .dataframe tbody tr th {\n",
       "        vertical-align: top;\n",
       "    }\n",
       "\n",
       "    .dataframe thead th {\n",
       "        text-align: right;\n",
       "    }\n",
       "</style>\n",
       "<table border=\"1\" class=\"dataframe\">\n",
       "  <thead>\n",
       "    <tr style=\"text-align: right;\">\n",
       "      <th></th>\n",
       "      <th>ImageId</th>\n",
       "      <th>defect</th>\n",
       "    </tr>\n",
       "  </thead>\n",
       "  <tbody>\n",
       "    <tr>\n",
       "      <th>0</th>\n",
       "      <td>004f40c73.jpg</td>\n",
       "      <td>NaN</td>\n",
       "    </tr>\n",
       "    <tr>\n",
       "      <th>1</th>\n",
       "      <td>006f39c41.jpg</td>\n",
       "      <td>NaN</td>\n",
       "    </tr>\n",
       "    <tr>\n",
       "      <th>2</th>\n",
       "      <td>00b7fb703.jpg</td>\n",
       "      <td>NaN</td>\n",
       "    </tr>\n",
       "    <tr>\n",
       "      <th>3</th>\n",
       "      <td>00bbcd9af.jpg</td>\n",
       "      <td>NaN</td>\n",
       "    </tr>\n",
       "    <tr>\n",
       "      <th>4</th>\n",
       "      <td>0108ce457.jpg</td>\n",
       "      <td>NaN</td>\n",
       "    </tr>\n",
       "  </tbody>\n",
       "</table>\n",
       "</div>"
      ],
      "text/plain": [
       "         ImageId  defect\n",
       "0  004f40c73.jpg     NaN\n",
       "1  006f39c41.jpg     NaN\n",
       "2  00b7fb703.jpg     NaN\n",
       "3  00bbcd9af.jpg     NaN\n",
       "4  0108ce457.jpg     NaN"
      ]
     },
     "execution_count": 61,
     "metadata": {},
     "output_type": "execute_result"
    }
   ],
   "source": [
    "print('sample_submission.shape:', sample_submission.shape)\n",
    "sample_submission.head()"
   ]
  },
  {
   "cell_type": "code",
   "execution_count": 62,
   "metadata": {},
   "outputs": [],
   "source": [
    "sample_submission['defect'] = y_pred"
   ]
  },
  {
   "cell_type": "code",
   "execution_count": 63,
   "metadata": {},
   "outputs": [
    {
     "name": "stdout",
     "output_type": "stream",
     "text": [
      "sample_submission.shape: (1801, 2)\n"
     ]
    },
    {
     "data": {
      "text/html": [
       "<div>\n",
       "<style scoped>\n",
       "    .dataframe tbody tr th:only-of-type {\n",
       "        vertical-align: middle;\n",
       "    }\n",
       "\n",
       "    .dataframe tbody tr th {\n",
       "        vertical-align: top;\n",
       "    }\n",
       "\n",
       "    .dataframe thead th {\n",
       "        text-align: right;\n",
       "    }\n",
       "</style>\n",
       "<table border=\"1\" class=\"dataframe\">\n",
       "  <thead>\n",
       "    <tr style=\"text-align: right;\">\n",
       "      <th></th>\n",
       "      <th>ImageId</th>\n",
       "      <th>defect</th>\n",
       "    </tr>\n",
       "  </thead>\n",
       "  <tbody>\n",
       "    <tr>\n",
       "      <th>0</th>\n",
       "      <td>004f40c73.jpg</td>\n",
       "      <td>True</td>\n",
       "    </tr>\n",
       "    <tr>\n",
       "      <th>1</th>\n",
       "      <td>006f39c41.jpg</td>\n",
       "      <td>True</td>\n",
       "    </tr>\n",
       "    <tr>\n",
       "      <th>2</th>\n",
       "      <td>00b7fb703.jpg</td>\n",
       "      <td>False</td>\n",
       "    </tr>\n",
       "    <tr>\n",
       "      <th>3</th>\n",
       "      <td>00bbcd9af.jpg</td>\n",
       "      <td>True</td>\n",
       "    </tr>\n",
       "    <tr>\n",
       "      <th>4</th>\n",
       "      <td>0108ce457.jpg</td>\n",
       "      <td>False</td>\n",
       "    </tr>\n",
       "  </tbody>\n",
       "</table>\n",
       "</div>"
      ],
      "text/plain": [
       "         ImageId  defect\n",
       "0  004f40c73.jpg    True\n",
       "1  006f39c41.jpg    True\n",
       "2  00b7fb703.jpg   False\n",
       "3  00bbcd9af.jpg    True\n",
       "4  0108ce457.jpg   False"
      ]
     },
     "execution_count": 63,
     "metadata": {},
     "output_type": "execute_result"
    }
   ],
   "source": [
    "print('sample_submission.shape:', sample_submission.shape)\n",
    "sample_submission.head()"
   ]
  },
  {
   "cell_type": "code",
   "execution_count": 64,
   "metadata": {},
   "outputs": [
    {
     "data": {
      "text/plain": [
       "ImageId    0\n",
       "defect     0\n",
       "dtype: int64"
      ]
     },
     "execution_count": 64,
     "metadata": {},
     "output_type": "execute_result"
    }
   ],
   "source": [
    "sample_submission.isnull().sum()"
   ]
  },
  {
   "cell_type": "code",
   "execution_count": 72,
   "metadata": {},
   "outputs": [
    {
     "name": "stdout",
     "output_type": "stream",
     "text": [
      "True     1224\n",
      "False     577\n",
      "Name: defect, dtype: int64\n"
     ]
    },
    {
     "data": {
      "text/plain": [
       "Text(0, 0.5, 'No. of images')"
      ]
     },
     "execution_count": 72,
     "metadata": {},
     "output_type": "execute_result"
    },
    {
     "data": {
      "image/png": "[encoded data removed]",
      "text/plain": [
       "<Figure size 432x288 with 1 Axes>"
      ]
     },
     "metadata": {
      "needs_background": "light"
     },
     "output_type": "display_data"
    }
   ],
   "source": [
    "print(sample_submission['defect'].value_counts())\n",
    "\n",
    "sample_submission['defect'].value_counts().plot(kind='bar')\n",
    "plt.title(\"No. of images with/without defect(s) in valset (Prediction)\")\n",
    "plt.ylabel(\"No. of images\")"
   ]
  },
  {
   "cell_type": "code",
   "execution_count": 65,
   "metadata": {},
   "outputs": [],
   "source": [
    "sample_submission.to_csv('./output/submission_step1_noval.csv', index=False)"
   ]
  },
  {
   "cell_type": "markdown",
   "metadata": {},
   "source": [
    "# Plot Model png"
   ]
  },
  {
   "cell_type": "code",
   "execution_count": 66,
   "metadata": {},
   "outputs": [
    {
     "data": {
      "image/svg+xml": [
       "<svg height=\"3695pt\" viewBox=\"0.00 0.00 295.00 3695.00\" width=\"295pt\" xmlns=\"http://www.w3.org/2000/svg\" xmlns:xlink=\"http://www.w3.org/1999/xlink\">\n",
       "<g class=\"graph\" id=\"graph0\" transform=\"scale(1 1) rotate(0) translate(4 3691)\">\n",
       "<title>G</title>\n",
       "<polygon fill=\"white\" points=\"-4,4 -4,-3691 291,-3691 291,4 -4,4\" stroke=\"none\"/>\n",
       "<!-- 471283360 -->\n",
       "<g class=\"node\" id=\"node1\"><title>471283360</title>\n",
       "<polygon fill=\"none\" points=\"80.5,-3650.5 80.5,-3686.5 206.5,-3686.5 206.5,-3650.5 80.5,-3650.5\" stroke=\"black\"/>\n",
       "<text font-family=\"Times New Roman,serif\" font-size=\"14.00\" text-anchor=\"middle\" x=\"143.5\" y=\"-3664.8\">input_2: InputLayer</text>\n",
       "</g>\n",
       "<!-- 471283472 -->\n",
       "<g class=\"node\" id=\"node2\"><title>471283472</title>\n",
       "<polygon fill=\"none\" points=\"76.5,-3577.5 76.5,-3613.5 210.5,-3613.5 210.5,-3577.5 76.5,-3577.5\" stroke=\"black\"/>\n",
       "<text font-family=\"Times New Roman,serif\" font-size=\"14.00\" text-anchor=\"middle\" x=\"143.5\" y=\"-3591.8\">conv2d_13: Conv2D</text>\n",
       "</g>\n",
       "<!-- 471283360&#45;&gt;471283472 -->\n",
       "<g class=\"edge\" id=\"edge1\"><title>471283360-&gt;471283472</title>\n",
       "<path d=\"M143.5,-3650.31C143.5,-3642.29 143.5,-3632.55 143.5,-3623.57\" fill=\"none\" stroke=\"black\"/>\n",
       "<polygon fill=\"black\" points=\"147,-3623.53 143.5,-3613.53 140,-3623.53 147,-3623.53\" stroke=\"black\"/>\n",
       "</g>\n",
       "<!-- 471283640 -->\n",
       "<g class=\"node\" id=\"node3\"><title>471283640</title>\n",
       "<polygon fill=\"none\" points=\"10.5,-3504.5 10.5,-3540.5 276.5,-3540.5 276.5,-3504.5 10.5,-3504.5\" stroke=\"black\"/>\n",
       "<text font-family=\"Times New Roman,serif\" font-size=\"14.00\" text-anchor=\"middle\" x=\"143.5\" y=\"-3518.8\">batch_normalization_14: BatchNormalization</text>\n",
       "</g>\n",
       "<!-- 471283472&#45;&gt;471283640 -->\n",
       "<g class=\"edge\" id=\"edge2\"><title>471283472-&gt;471283640</title>\n",
       "<path d=\"M143.5,-3577.31C143.5,-3569.29 143.5,-3559.55 143.5,-3550.57\" fill=\"none\" stroke=\"black\"/>\n",
       "<polygon fill=\"black\" points=\"147,-3550.53 143.5,-3540.53 140,-3550.53 147,-3550.53\" stroke=\"black\"/>\n",
       "</g>\n",
       "<!-- 471283864 -->\n",
       "<g class=\"node\" id=\"node4\"><title>471283864</title>\n",
       "<polygon fill=\"none\" points=\"66,-3431.5 66,-3467.5 221,-3467.5 221,-3431.5 66,-3431.5\" stroke=\"black\"/>\n",
       "<text font-family=\"Times New Roman,serif\" font-size=\"14.00\" text-anchor=\"middle\" x=\"143.5\" y=\"-3445.8\">activation_13: Activation</text>\n",
       "</g>\n",
       "<!-- 471283640&#45;&gt;471283864 -->\n",
       "<g class=\"edge\" id=\"edge3\"><title>471283640-&gt;471283864</title>\n",
       "<path d=\"M143.5,-3504.31C143.5,-3496.29 143.5,-3486.55 143.5,-3477.57\" fill=\"none\" stroke=\"black\"/>\n",
       "<polygon fill=\"black\" points=\"147,-3477.53 143.5,-3467.53 140,-3477.53 147,-3477.53\" stroke=\"black\"/>\n",
       "</g>\n",
       "<!-- 471284536 -->\n",
       "<g class=\"node\" id=\"node5\"><title>471284536</title>\n",
       "<polygon fill=\"none\" points=\"76.5,-3358.5 76.5,-3394.5 210.5,-3394.5 210.5,-3358.5 76.5,-3358.5\" stroke=\"black\"/>\n",
       "<text font-family=\"Times New Roman,serif\" font-size=\"14.00\" text-anchor=\"middle\" x=\"143.5\" y=\"-3372.8\">conv2d_14: Conv2D</text>\n",
       "</g>\n",
       "<!-- 471283864&#45;&gt;471284536 -->\n",
       "<g class=\"edge\" id=\"edge4\"><title>471283864-&gt;471284536</title>\n",
       "<path d=\"M143.5,-3431.31C143.5,-3423.29 143.5,-3413.55 143.5,-3404.57\" fill=\"none\" stroke=\"black\"/>\n",
       "<polygon fill=\"black\" points=\"147,-3404.53 143.5,-3394.53 140,-3404.53 147,-3404.53\" stroke=\"black\"/>\n",
       "</g>\n",
       "<!-- 471284312 -->\n",
       "<g class=\"node\" id=\"node6\"><title>471284312</title>\n",
       "<polygon fill=\"none\" points=\"10.5,-3285.5 10.5,-3321.5 276.5,-3321.5 276.5,-3285.5 10.5,-3285.5\" stroke=\"black\"/>\n",
       "<text font-family=\"Times New Roman,serif\" font-size=\"14.00\" text-anchor=\"middle\" x=\"143.5\" y=\"-3299.8\">batch_normalization_15: BatchNormalization</text>\n",
       "</g>\n",
       "<!-- 471284536&#45;&gt;471284312 -->\n",
       "<g class=\"edge\" id=\"edge5\"><title>471284536-&gt;471284312</title>\n",
       "<path d=\"M143.5,-3358.31C143.5,-3350.29 143.5,-3340.55 143.5,-3331.57\" fill=\"none\" stroke=\"black\"/>\n",
       "<polygon fill=\"black\" points=\"147,-3331.53 143.5,-3321.53 140,-3331.53 147,-3331.53\" stroke=\"black\"/>\n",
       "</g>\n",
       "<!-- 471284928 -->\n",
       "<g class=\"node\" id=\"node7\"><title>471284928</title>\n",
       "<polygon fill=\"none\" points=\"66,-3212.5 66,-3248.5 221,-3248.5 221,-3212.5 66,-3212.5\" stroke=\"black\"/>\n",
       "<text font-family=\"Times New Roman,serif\" font-size=\"14.00\" text-anchor=\"middle\" x=\"143.5\" y=\"-3226.8\">activation_14: Activation</text>\n",
       "</g>\n",
       "<!-- 471284312&#45;&gt;471284928 -->\n",
       "<g class=\"edge\" id=\"edge6\"><title>471284312-&gt;471284928</title>\n",
       "<path d=\"M143.5,-3285.31C143.5,-3277.29 143.5,-3267.55 143.5,-3258.57\" fill=\"none\" stroke=\"black\"/>\n",
       "<polygon fill=\"black\" points=\"147,-3258.53 143.5,-3248.53 140,-3258.53 147,-3258.53\" stroke=\"black\"/>\n",
       "</g>\n",
       "<!-- 471285208 -->\n",
       "<g class=\"node\" id=\"node8\"><title>471285208</title>\n",
       "<polygon fill=\"none\" points=\"39,-3139.5 39,-3175.5 248,-3175.5 248,-3139.5 39,-3139.5\" stroke=\"black\"/>\n",
       "<text font-family=\"Times New Roman,serif\" font-size=\"14.00\" text-anchor=\"middle\" x=\"143.5\" y=\"-3153.8\">max_pooling2d_6: MaxPooling2D</text>\n",
       "</g>\n",
       "<!-- 471284928&#45;&gt;471285208 -->\n",
       "<g class=\"edge\" id=\"edge7\"><title>471284928-&gt;471285208</title>\n",
       "<path d=\"M143.5,-3212.31C143.5,-3204.29 143.5,-3194.55 143.5,-3185.57\" fill=\"none\" stroke=\"black\"/>\n",
       "<polygon fill=\"black\" points=\"147,-3185.53 143.5,-3175.53 140,-3185.53 147,-3185.53\" stroke=\"black\"/>\n",
       "</g>\n",
       "<!-- 471285264 -->\n",
       "<g class=\"node\" id=\"node9\"><title>471285264</title>\n",
       "<polygon fill=\"none\" points=\"78.5,-3066.5 78.5,-3102.5 208.5,-3102.5 208.5,-3066.5 78.5,-3066.5\" stroke=\"black\"/>\n",
       "<text font-family=\"Times New Roman,serif\" font-size=\"14.00\" text-anchor=\"middle\" x=\"143.5\" y=\"-3080.8\">dropout_7: Dropout</text>\n",
       "</g>\n",
       "<!-- 471285208&#45;&gt;471285264 -->\n",
       "<g class=\"edge\" id=\"edge8\"><title>471285208-&gt;471285264</title>\n",
       "<path d=\"M143.5,-3139.31C143.5,-3131.29 143.5,-3121.55 143.5,-3112.57\" fill=\"none\" stroke=\"black\"/>\n",
       "<polygon fill=\"black\" points=\"147,-3112.53 143.5,-3102.53 140,-3112.53 147,-3112.53\" stroke=\"black\"/>\n",
       "</g>\n",
       "<!-- 471285432 -->\n",
       "<g class=\"node\" id=\"node10\"><title>471285432</title>\n",
       "<polygon fill=\"none\" points=\"76.5,-2993.5 76.5,-3029.5 210.5,-3029.5 210.5,-2993.5 76.5,-2993.5\" stroke=\"black\"/>\n",
       "<text font-family=\"Times New Roman,serif\" font-size=\"14.00\" text-anchor=\"middle\" x=\"143.5\" y=\"-3007.8\">conv2d_15: Conv2D</text>\n",
       "</g>\n",
       "<!-- 471285264&#45;&gt;471285432 -->\n",
       "<g class=\"edge\" id=\"edge9\"><title>471285264-&gt;471285432</title>\n",
       "<path d=\"M143.5,-3066.31C143.5,-3058.29 143.5,-3048.55 143.5,-3039.57\" fill=\"none\" stroke=\"black\"/>\n",
       "<polygon fill=\"black\" points=\"147,-3039.53 143.5,-3029.53 140,-3039.53 147,-3039.53\" stroke=\"black\"/>\n",
       "</g>\n",
       "<!-- 471343288 -->\n",
       "<g class=\"node\" id=\"node11\"><title>471343288</title>\n",
       "<polygon fill=\"none\" points=\"10.5,-2920.5 10.5,-2956.5 276.5,-2956.5 276.5,-2920.5 10.5,-2920.5\" stroke=\"black\"/>\n",
       "<text font-family=\"Times New Roman,serif\" font-size=\"14.00\" text-anchor=\"middle\" x=\"143.5\" y=\"-2934.8\">batch_normalization_16: BatchNormalization</text>\n",
       "</g>\n",
       "<!-- 471285432&#45;&gt;471343288 -->\n",
       "<g class=\"edge\" id=\"edge10\"><title>471285432-&gt;471343288</title>\n",
       "<path d=\"M143.5,-2993.31C143.5,-2985.29 143.5,-2975.55 143.5,-2966.57\" fill=\"none\" stroke=\"black\"/>\n",
       "<polygon fill=\"black\" points=\"147,-2966.53 143.5,-2956.53 140,-2966.53 147,-2966.53\" stroke=\"black\"/>\n",
       "</g>\n",
       "<!-- 471343568 -->\n",
       "<g class=\"node\" id=\"node12\"><title>471343568</title>\n",
       "<polygon fill=\"none\" points=\"66,-2847.5 66,-2883.5 221,-2883.5 221,-2847.5 66,-2847.5\" stroke=\"black\"/>\n",
       "<text font-family=\"Times New Roman,serif\" font-size=\"14.00\" text-anchor=\"middle\" x=\"143.5\" y=\"-2861.8\">activation_15: Activation</text>\n",
       "</g>\n",
       "<!-- 471343288&#45;&gt;471343568 -->\n",
       "<g class=\"edge\" id=\"edge11\"><title>471343288-&gt;471343568</title>\n",
       "<path d=\"M143.5,-2920.31C143.5,-2912.29 143.5,-2902.55 143.5,-2893.57\" fill=\"none\" stroke=\"black\"/>\n",
       "<polygon fill=\"black\" points=\"147,-2893.53 143.5,-2883.53 140,-2893.53 147,-2893.53\" stroke=\"black\"/>\n",
       "</g>\n",
       "<!-- 471343624 -->\n",
       "<g class=\"node\" id=\"node13\"><title>471343624</title>\n",
       "<polygon fill=\"none\" points=\"76.5,-2774.5 76.5,-2810.5 210.5,-2810.5 210.5,-2774.5 76.5,-2774.5\" stroke=\"black\"/>\n",
       "<text font-family=\"Times New Roman,serif\" font-size=\"14.00\" text-anchor=\"middle\" x=\"143.5\" y=\"-2788.8\">conv2d_16: Conv2D</text>\n",
       "</g>\n",
       "<!-- 471343568&#45;&gt;471343624 -->\n",
       "<g class=\"edge\" id=\"edge12\"><title>471343568-&gt;471343624</title>\n",
       "<path d=\"M143.5,-2847.31C143.5,-2839.29 143.5,-2829.55 143.5,-2820.57\" fill=\"none\" stroke=\"black\"/>\n",
       "<polygon fill=\"black\" points=\"147,-2820.53 143.5,-2810.53 140,-2820.53 147,-2820.53\" stroke=\"black\"/>\n",
       "</g>\n",
       "<!-- 471344016 -->\n",
       "<g class=\"node\" id=\"node14\"><title>471344016</title>\n",
       "<polygon fill=\"none\" points=\"10.5,-2701.5 10.5,-2737.5 276.5,-2737.5 276.5,-2701.5 10.5,-2701.5\" stroke=\"black\"/>\n",
       "<text font-family=\"Times New Roman,serif\" font-size=\"14.00\" text-anchor=\"middle\" x=\"143.5\" y=\"-2715.8\">batch_normalization_17: BatchNormalization</text>\n",
       "</g>\n",
       "<!-- 471343624&#45;&gt;471344016 -->\n",
       "<g class=\"edge\" id=\"edge13\"><title>471343624-&gt;471344016</title>\n",
       "<path d=\"M143.5,-2774.31C143.5,-2766.29 143.5,-2756.55 143.5,-2747.57\" fill=\"none\" stroke=\"black\"/>\n",
       "<polygon fill=\"black\" points=\"147,-2747.53 143.5,-2737.53 140,-2747.53 147,-2747.53\" stroke=\"black\"/>\n",
       "</g>\n",
       "<!-- 471344296 -->\n",
       "<g class=\"node\" id=\"node15\"><title>471344296</title>\n",
       "<polygon fill=\"none\" points=\"66,-2628.5 66,-2664.5 221,-2664.5 221,-2628.5 66,-2628.5\" stroke=\"black\"/>\n",
       "<text font-family=\"Times New Roman,serif\" font-size=\"14.00\" text-anchor=\"middle\" x=\"143.5\" y=\"-2642.8\">activation_16: Activation</text>\n",
       "</g>\n",
       "<!-- 471344016&#45;&gt;471344296 -->\n",
       "<g class=\"edge\" id=\"edge14\"><title>471344016-&gt;471344296</title>\n",
       "<path d=\"M143.5,-2701.31C143.5,-2693.29 143.5,-2683.55 143.5,-2674.57\" fill=\"none\" stroke=\"black\"/>\n",
       "<polygon fill=\"black\" points=\"147,-2674.53 143.5,-2664.53 140,-2674.53 147,-2674.53\" stroke=\"black\"/>\n",
       "</g>\n",
       "<!-- 471344352 -->\n",
       "<g class=\"node\" id=\"node16\"><title>471344352</title>\n",
       "<polygon fill=\"none\" points=\"39,-2555.5 39,-2591.5 248,-2591.5 248,-2555.5 39,-2555.5\" stroke=\"black\"/>\n",
       "<text font-family=\"Times New Roman,serif\" font-size=\"14.00\" text-anchor=\"middle\" x=\"143.5\" y=\"-2569.8\">max_pooling2d_7: MaxPooling2D</text>\n",
       "</g>\n",
       "<!-- 471344296&#45;&gt;471344352 -->\n",
       "<g class=\"edge\" id=\"edge15\"><title>471344296-&gt;471344352</title>\n",
       "<path d=\"M143.5,-2628.31C143.5,-2620.29 143.5,-2610.55 143.5,-2601.57\" fill=\"none\" stroke=\"black\"/>\n",
       "<polygon fill=\"black\" points=\"147,-2601.53 143.5,-2591.53 140,-2601.53 147,-2601.53\" stroke=\"black\"/>\n",
       "</g>\n",
       "<!-- 471344520 -->\n",
       "<g class=\"node\" id=\"node17\"><title>471344520</title>\n",
       "<polygon fill=\"none\" points=\"78.5,-2482.5 78.5,-2518.5 208.5,-2518.5 208.5,-2482.5 78.5,-2482.5\" stroke=\"black\"/>\n",
       "<text font-family=\"Times New Roman,serif\" font-size=\"14.00\" text-anchor=\"middle\" x=\"143.5\" y=\"-2496.8\">dropout_8: Dropout</text>\n",
       "</g>\n",
       "<!-- 471344352&#45;&gt;471344520 -->\n",
       "<g class=\"edge\" id=\"edge16\"><title>471344352-&gt;471344520</title>\n",
       "<path d=\"M143.5,-2555.31C143.5,-2547.29 143.5,-2537.55 143.5,-2528.57\" fill=\"none\" stroke=\"black\"/>\n",
       "<polygon fill=\"black\" points=\"147,-2528.53 143.5,-2518.53 140,-2528.53 147,-2528.53\" stroke=\"black\"/>\n",
       "</g>\n",
       "<!-- 471344576 -->\n",
       "<g class=\"node\" id=\"node18\"><title>471344576</title>\n",
       "<polygon fill=\"none\" points=\"76.5,-2409.5 76.5,-2445.5 210.5,-2445.5 210.5,-2409.5 76.5,-2409.5\" stroke=\"black\"/>\n",
       "<text font-family=\"Times New Roman,serif\" font-size=\"14.00\" text-anchor=\"middle\" x=\"143.5\" y=\"-2423.8\">conv2d_17: Conv2D</text>\n",
       "</g>\n",
       "<!-- 471344520&#45;&gt;471344576 -->\n",
       "<g class=\"edge\" id=\"edge17\"><title>471344520-&gt;471344576</title>\n",
       "<path d=\"M143.5,-2482.31C143.5,-2474.29 143.5,-2464.55 143.5,-2455.57\" fill=\"none\" stroke=\"black\"/>\n",
       "<polygon fill=\"black\" points=\"147,-2455.53 143.5,-2445.53 140,-2455.53 147,-2455.53\" stroke=\"black\"/>\n",
       "</g>\n",
       "<!-- 471344968 -->\n",
       "<g class=\"node\" id=\"node19\"><title>471344968</title>\n",
       "<polygon fill=\"none\" points=\"10.5,-2336.5 10.5,-2372.5 276.5,-2372.5 276.5,-2336.5 10.5,-2336.5\" stroke=\"black\"/>\n",
       "<text font-family=\"Times New Roman,serif\" font-size=\"14.00\" text-anchor=\"middle\" x=\"143.5\" y=\"-2350.8\">batch_normalization_18: BatchNormalization</text>\n",
       "</g>\n",
       "<!-- 471344576&#45;&gt;471344968 -->\n",
       "<g class=\"edge\" id=\"edge18\"><title>471344576-&gt;471344968</title>\n",
       "<path d=\"M143.5,-2409.31C143.5,-2401.29 143.5,-2391.55 143.5,-2382.57\" fill=\"none\" stroke=\"black\"/>\n",
       "<polygon fill=\"black\" points=\"147,-2382.53 143.5,-2372.53 140,-2382.53 147,-2382.53\" stroke=\"black\"/>\n",
       "</g>\n",
       "<!-- 471345248 -->\n",
       "<g class=\"node\" id=\"node20\"><title>471345248</title>\n",
       "<polygon fill=\"none\" points=\"66,-2263.5 66,-2299.5 221,-2299.5 221,-2263.5 66,-2263.5\" stroke=\"black\"/>\n",
       "<text font-family=\"Times New Roman,serif\" font-size=\"14.00\" text-anchor=\"middle\" x=\"143.5\" y=\"-2277.8\">activation_17: Activation</text>\n",
       "</g>\n",
       "<!-- 471344968&#45;&gt;471345248 -->\n",
       "<g class=\"edge\" id=\"edge19\"><title>471344968-&gt;471345248</title>\n",
       "<path d=\"M143.5,-2336.31C143.5,-2328.29 143.5,-2318.55 143.5,-2309.57\" fill=\"none\" stroke=\"black\"/>\n",
       "<polygon fill=\"black\" points=\"147,-2309.53 143.5,-2299.53 140,-2309.53 147,-2309.53\" stroke=\"black\"/>\n",
       "</g>\n",
       "<!-- 471345304 -->\n",
       "<g class=\"node\" id=\"node21\"><title>471345304</title>\n",
       "<polygon fill=\"none\" points=\"76.5,-2190.5 76.5,-2226.5 210.5,-2226.5 210.5,-2190.5 76.5,-2190.5\" stroke=\"black\"/>\n",
       "<text font-family=\"Times New Roman,serif\" font-size=\"14.00\" text-anchor=\"middle\" x=\"143.5\" y=\"-2204.8\">conv2d_18: Conv2D</text>\n",
       "</g>\n",
       "<!-- 471345248&#45;&gt;471345304 -->\n",
       "<g class=\"edge\" id=\"edge20\"><title>471345248-&gt;471345304</title>\n",
       "<path d=\"M143.5,-2263.31C143.5,-2255.29 143.5,-2245.55 143.5,-2236.57\" fill=\"none\" stroke=\"black\"/>\n",
       "<polygon fill=\"black\" points=\"147,-2236.53 143.5,-2226.53 140,-2236.53 147,-2236.53\" stroke=\"black\"/>\n",
       "</g>\n",
       "<!-- 471345696 -->\n",
       "<g class=\"node\" id=\"node22\"><title>471345696</title>\n",
       "<polygon fill=\"none\" points=\"10.5,-2117.5 10.5,-2153.5 276.5,-2153.5 276.5,-2117.5 10.5,-2117.5\" stroke=\"black\"/>\n",
       "<text font-family=\"Times New Roman,serif\" font-size=\"14.00\" text-anchor=\"middle\" x=\"143.5\" y=\"-2131.8\">batch_normalization_19: BatchNormalization</text>\n",
       "</g>\n",
       "<!-- 471345304&#45;&gt;471345696 -->\n",
       "<g class=\"edge\" id=\"edge21\"><title>471345304-&gt;471345696</title>\n",
       "<path d=\"M143.5,-2190.31C143.5,-2182.29 143.5,-2172.55 143.5,-2163.57\" fill=\"none\" stroke=\"black\"/>\n",
       "<polygon fill=\"black\" points=\"147,-2163.53 143.5,-2153.53 140,-2163.53 147,-2163.53\" stroke=\"black\"/>\n",
       "</g>\n",
       "<!-- 471345976 -->\n",
       "<g class=\"node\" id=\"node23\"><title>471345976</title>\n",
       "<polygon fill=\"none\" points=\"66,-2044.5 66,-2080.5 221,-2080.5 221,-2044.5 66,-2044.5\" stroke=\"black\"/>\n",
       "<text font-family=\"Times New Roman,serif\" font-size=\"14.00\" text-anchor=\"middle\" x=\"143.5\" y=\"-2058.8\">activation_18: Activation</text>\n",
       "</g>\n",
       "<!-- 471345696&#45;&gt;471345976 -->\n",
       "<g class=\"edge\" id=\"edge22\"><title>471345696-&gt;471345976</title>\n",
       "<path d=\"M143.5,-2117.31C143.5,-2109.29 143.5,-2099.55 143.5,-2090.57\" fill=\"none\" stroke=\"black\"/>\n",
       "<polygon fill=\"black\" points=\"147,-2090.53 143.5,-2080.53 140,-2090.53 147,-2090.53\" stroke=\"black\"/>\n",
       "</g>\n",
       "<!-- 471346032 -->\n",
       "<g class=\"node\" id=\"node24\"><title>471346032</title>\n",
       "<polygon fill=\"none\" points=\"39,-1971.5 39,-2007.5 248,-2007.5 248,-1971.5 39,-1971.5\" stroke=\"black\"/>\n",
       "<text font-family=\"Times New Roman,serif\" font-size=\"14.00\" text-anchor=\"middle\" x=\"143.5\" y=\"-1985.8\">max_pooling2d_8: MaxPooling2D</text>\n",
       "</g>\n",
       "<!-- 471345976&#45;&gt;471346032 -->\n",
       "<g class=\"edge\" id=\"edge23\"><title>471345976-&gt;471346032</title>\n",
       "<path d=\"M143.5,-2044.31C143.5,-2036.29 143.5,-2026.55 143.5,-2017.57\" fill=\"none\" stroke=\"black\"/>\n",
       "<polygon fill=\"black\" points=\"147,-2017.53 143.5,-2007.53 140,-2017.53 147,-2017.53\" stroke=\"black\"/>\n",
       "</g>\n",
       "<!-- 471346200 -->\n",
       "<g class=\"node\" id=\"node25\"><title>471346200</title>\n",
       "<polygon fill=\"none\" points=\"78.5,-1898.5 78.5,-1934.5 208.5,-1934.5 208.5,-1898.5 78.5,-1898.5\" stroke=\"black\"/>\n",
       "<text font-family=\"Times New Roman,serif\" font-size=\"14.00\" text-anchor=\"middle\" x=\"143.5\" y=\"-1912.8\">dropout_9: Dropout</text>\n",
       "</g>\n",
       "<!-- 471346032&#45;&gt;471346200 -->\n",
       "<g class=\"edge\" id=\"edge24\"><title>471346032-&gt;471346200</title>\n",
       "<path d=\"M143.5,-1971.31C143.5,-1963.29 143.5,-1953.55 143.5,-1944.57\" fill=\"none\" stroke=\"black\"/>\n",
       "<polygon fill=\"black\" points=\"147,-1944.53 143.5,-1934.53 140,-1944.53 147,-1944.53\" stroke=\"black\"/>\n",
       "</g>\n",
       "<!-- 471346256 -->\n",
       "<g class=\"node\" id=\"node26\"><title>471346256</title>\n",
       "<polygon fill=\"none\" points=\"76.5,-1825.5 76.5,-1861.5 210.5,-1861.5 210.5,-1825.5 76.5,-1825.5\" stroke=\"black\"/>\n",
       "<text font-family=\"Times New Roman,serif\" font-size=\"14.00\" text-anchor=\"middle\" x=\"143.5\" y=\"-1839.8\">conv2d_19: Conv2D</text>\n",
       "</g>\n",
       "<!-- 471346200&#45;&gt;471346256 -->\n",
       "<g class=\"edge\" id=\"edge25\"><title>471346200-&gt;471346256</title>\n",
       "<path d=\"M143.5,-1898.31C143.5,-1890.29 143.5,-1880.55 143.5,-1871.57\" fill=\"none\" stroke=\"black\"/>\n",
       "<polygon fill=\"black\" points=\"147,-1871.53 143.5,-1861.53 140,-1871.53 147,-1871.53\" stroke=\"black\"/>\n",
       "</g>\n",
       "<!-- 471346648 -->\n",
       "<g class=\"node\" id=\"node27\"><title>471346648</title>\n",
       "<polygon fill=\"none\" points=\"10.5,-1752.5 10.5,-1788.5 276.5,-1788.5 276.5,-1752.5 10.5,-1752.5\" stroke=\"black\"/>\n",
       "<text font-family=\"Times New Roman,serif\" font-size=\"14.00\" text-anchor=\"middle\" x=\"143.5\" y=\"-1766.8\">batch_normalization_20: BatchNormalization</text>\n",
       "</g>\n",
       "<!-- 471346256&#45;&gt;471346648 -->\n",
       "<g class=\"edge\" id=\"edge26\"><title>471346256-&gt;471346648</title>\n",
       "<path d=\"M143.5,-1825.31C143.5,-1817.29 143.5,-1807.55 143.5,-1798.57\" fill=\"none\" stroke=\"black\"/>\n",
       "<polygon fill=\"black\" points=\"147,-1798.53 143.5,-1788.53 140,-1798.53 147,-1798.53\" stroke=\"black\"/>\n",
       "</g>\n",
       "<!-- 471346928 -->\n",
       "<g class=\"node\" id=\"node28\"><title>471346928</title>\n",
       "<polygon fill=\"none\" points=\"66,-1679.5 66,-1715.5 221,-1715.5 221,-1679.5 66,-1679.5\" stroke=\"black\"/>\n",
       "<text font-family=\"Times New Roman,serif\" font-size=\"14.00\" text-anchor=\"middle\" x=\"143.5\" y=\"-1693.8\">activation_19: Activation</text>\n",
       "</g>\n",
       "<!-- 471346648&#45;&gt;471346928 -->\n",
       "<g class=\"edge\" id=\"edge27\"><title>471346648-&gt;471346928</title>\n",
       "<path d=\"M143.5,-1752.31C143.5,-1744.29 143.5,-1734.55 143.5,-1725.57\" fill=\"none\" stroke=\"black\"/>\n",
       "<polygon fill=\"black\" points=\"147,-1725.53 143.5,-1715.53 140,-1725.53 147,-1725.53\" stroke=\"black\"/>\n",
       "</g>\n",
       "<!-- 471346984 -->\n",
       "<g class=\"node\" id=\"node29\"><title>471346984</title>\n",
       "<polygon fill=\"none\" points=\"76.5,-1606.5 76.5,-1642.5 210.5,-1642.5 210.5,-1606.5 76.5,-1606.5\" stroke=\"black\"/>\n",
       "<text font-family=\"Times New Roman,serif\" font-size=\"14.00\" text-anchor=\"middle\" x=\"143.5\" y=\"-1620.8\">conv2d_20: Conv2D</text>\n",
       "</g>\n",
       "<!-- 471346928&#45;&gt;471346984 -->\n",
       "<g class=\"edge\" id=\"edge28\"><title>471346928-&gt;471346984</title>\n",
       "<path d=\"M143.5,-1679.31C143.5,-1671.29 143.5,-1661.55 143.5,-1652.57\" fill=\"none\" stroke=\"black\"/>\n",
       "<polygon fill=\"black\" points=\"147,-1652.53 143.5,-1642.53 140,-1652.53 147,-1652.53\" stroke=\"black\"/>\n",
       "</g>\n",
       "<!-- 471392496 -->\n",
       "<g class=\"node\" id=\"node30\"><title>471392496</title>\n",
       "<polygon fill=\"none\" points=\"10.5,-1533.5 10.5,-1569.5 276.5,-1569.5 276.5,-1533.5 10.5,-1533.5\" stroke=\"black\"/>\n",
       "<text font-family=\"Times New Roman,serif\" font-size=\"14.00\" text-anchor=\"middle\" x=\"143.5\" y=\"-1547.8\">batch_normalization_21: BatchNormalization</text>\n",
       "</g>\n",
       "<!-- 471346984&#45;&gt;471392496 -->\n",
       "<g class=\"edge\" id=\"edge29\"><title>471346984-&gt;471392496</title>\n",
       "<path d=\"M143.5,-1606.31C143.5,-1598.29 143.5,-1588.55 143.5,-1579.57\" fill=\"none\" stroke=\"black\"/>\n",
       "<polygon fill=\"black\" points=\"147,-1579.53 143.5,-1569.53 140,-1579.53 147,-1579.53\" stroke=\"black\"/>\n",
       "</g>\n",
       "<!-- 471392776 -->\n",
       "<g class=\"node\" id=\"node31\"><title>471392776</title>\n",
       "<polygon fill=\"none\" points=\"66,-1460.5 66,-1496.5 221,-1496.5 221,-1460.5 66,-1460.5\" stroke=\"black\"/>\n",
       "<text font-family=\"Times New Roman,serif\" font-size=\"14.00\" text-anchor=\"middle\" x=\"143.5\" y=\"-1474.8\">activation_20: Activation</text>\n",
       "</g>\n",
       "<!-- 471392496&#45;&gt;471392776 -->\n",
       "<g class=\"edge\" id=\"edge30\"><title>471392496-&gt;471392776</title>\n",
       "<path d=\"M143.5,-1533.31C143.5,-1525.29 143.5,-1515.55 143.5,-1506.57\" fill=\"none\" stroke=\"black\"/>\n",
       "<polygon fill=\"black\" points=\"147,-1506.53 143.5,-1496.53 140,-1506.53 147,-1506.53\" stroke=\"black\"/>\n",
       "</g>\n",
       "<!-- 471392832 -->\n",
       "<g class=\"node\" id=\"node32\"><title>471392832</title>\n",
       "<polygon fill=\"none\" points=\"39,-1387.5 39,-1423.5 248,-1423.5 248,-1387.5 39,-1387.5\" stroke=\"black\"/>\n",
       "<text font-family=\"Times New Roman,serif\" font-size=\"14.00\" text-anchor=\"middle\" x=\"143.5\" y=\"-1401.8\">max_pooling2d_9: MaxPooling2D</text>\n",
       "</g>\n",
       "<!-- 471392776&#45;&gt;471392832 -->\n",
       "<g class=\"edge\" id=\"edge31\"><title>471392776-&gt;471392832</title>\n",
       "<path d=\"M143.5,-1460.31C143.5,-1452.29 143.5,-1442.55 143.5,-1433.57\" fill=\"none\" stroke=\"black\"/>\n",
       "<polygon fill=\"black\" points=\"147,-1433.53 143.5,-1423.53 140,-1433.53 147,-1433.53\" stroke=\"black\"/>\n",
       "</g>\n",
       "<!-- 471393000 -->\n",
       "<g class=\"node\" id=\"node33\"><title>471393000</title>\n",
       "<polygon fill=\"none\" points=\"75,-1314.5 75,-1350.5 212,-1350.5 212,-1314.5 75,-1314.5\" stroke=\"black\"/>\n",
       "<text font-family=\"Times New Roman,serif\" font-size=\"14.00\" text-anchor=\"middle\" x=\"143.5\" y=\"-1328.8\">dropout_10: Dropout</text>\n",
       "</g>\n",
       "<!-- 471392832&#45;&gt;471393000 -->\n",
       "<g class=\"edge\" id=\"edge32\"><title>471392832-&gt;471393000</title>\n",
       "<path d=\"M143.5,-1387.31C143.5,-1379.29 143.5,-1369.55 143.5,-1360.57\" fill=\"none\" stroke=\"black\"/>\n",
       "<polygon fill=\"black\" points=\"147,-1360.53 143.5,-1350.53 140,-1360.53 147,-1360.53\" stroke=\"black\"/>\n",
       "</g>\n",
       "<!-- 471393056 -->\n",
       "<g class=\"node\" id=\"node34\"><title>471393056</title>\n",
       "<polygon fill=\"none\" points=\"76.5,-1241.5 76.5,-1277.5 210.5,-1277.5 210.5,-1241.5 76.5,-1241.5\" stroke=\"black\"/>\n",
       "<text font-family=\"Times New Roman,serif\" font-size=\"14.00\" text-anchor=\"middle\" x=\"143.5\" y=\"-1255.8\">conv2d_21: Conv2D</text>\n",
       "</g>\n",
       "<!-- 471393000&#45;&gt;471393056 -->\n",
       "<g class=\"edge\" id=\"edge33\"><title>471393000-&gt;471393056</title>\n",
       "<path d=\"M143.5,-1314.31C143.5,-1306.29 143.5,-1296.55 143.5,-1287.57\" fill=\"none\" stroke=\"black\"/>\n",
       "<polygon fill=\"black\" points=\"147,-1287.53 143.5,-1277.53 140,-1287.53 147,-1287.53\" stroke=\"black\"/>\n",
       "</g>\n",
       "<!-- 471393448 -->\n",
       "<g class=\"node\" id=\"node35\"><title>471393448</title>\n",
       "<polygon fill=\"none\" points=\"10.5,-1168.5 10.5,-1204.5 276.5,-1204.5 276.5,-1168.5 10.5,-1168.5\" stroke=\"black\"/>\n",
       "<text font-family=\"Times New Roman,serif\" font-size=\"14.00\" text-anchor=\"middle\" x=\"143.5\" y=\"-1182.8\">batch_normalization_22: BatchNormalization</text>\n",
       "</g>\n",
       "<!-- 471393056&#45;&gt;471393448 -->\n",
       "<g class=\"edge\" id=\"edge34\"><title>471393056-&gt;471393448</title>\n",
       "<path d=\"M143.5,-1241.31C143.5,-1233.29 143.5,-1223.55 143.5,-1214.57\" fill=\"none\" stroke=\"black\"/>\n",
       "<polygon fill=\"black\" points=\"147,-1214.53 143.5,-1204.53 140,-1214.53 147,-1214.53\" stroke=\"black\"/>\n",
       "</g>\n",
       "<!-- 471393728 -->\n",
       "<g class=\"node\" id=\"node36\"><title>471393728</title>\n",
       "<polygon fill=\"none\" points=\"66,-1095.5 66,-1131.5 221,-1131.5 221,-1095.5 66,-1095.5\" stroke=\"black\"/>\n",
       "<text font-family=\"Times New Roman,serif\" font-size=\"14.00\" text-anchor=\"middle\" x=\"143.5\" y=\"-1109.8\">activation_21: Activation</text>\n",
       "</g>\n",
       "<!-- 471393448&#45;&gt;471393728 -->\n",
       "<g class=\"edge\" id=\"edge35\"><title>471393448-&gt;471393728</title>\n",
       "<path d=\"M143.5,-1168.31C143.5,-1160.29 143.5,-1150.55 143.5,-1141.57\" fill=\"none\" stroke=\"black\"/>\n",
       "<polygon fill=\"black\" points=\"147,-1141.53 143.5,-1131.53 140,-1141.53 147,-1141.53\" stroke=\"black\"/>\n",
       "</g>\n",
       "<!-- 471393784 -->\n",
       "<g class=\"node\" id=\"node37\"><title>471393784</title>\n",
       "<polygon fill=\"none\" points=\"76.5,-1022.5 76.5,-1058.5 210.5,-1058.5 210.5,-1022.5 76.5,-1022.5\" stroke=\"black\"/>\n",
       "<text font-family=\"Times New Roman,serif\" font-size=\"14.00\" text-anchor=\"middle\" x=\"143.5\" y=\"-1036.8\">conv2d_22: Conv2D</text>\n",
       "</g>\n",
       "<!-- 471393728&#45;&gt;471393784 -->\n",
       "<g class=\"edge\" id=\"edge36\"><title>471393728-&gt;471393784</title>\n",
       "<path d=\"M143.5,-1095.31C143.5,-1087.29 143.5,-1077.55 143.5,-1068.57\" fill=\"none\" stroke=\"black\"/>\n",
       "<polygon fill=\"black\" points=\"147,-1068.53 143.5,-1058.53 140,-1068.53 147,-1068.53\" stroke=\"black\"/>\n",
       "</g>\n",
       "<!-- 471394176 -->\n",
       "<g class=\"node\" id=\"node38\"><title>471394176</title>\n",
       "<polygon fill=\"none\" points=\"10.5,-949.5 10.5,-985.5 276.5,-985.5 276.5,-949.5 10.5,-949.5\" stroke=\"black\"/>\n",
       "<text font-family=\"Times New Roman,serif\" font-size=\"14.00\" text-anchor=\"middle\" x=\"143.5\" y=\"-963.8\">batch_normalization_23: BatchNormalization</text>\n",
       "</g>\n",
       "<!-- 471393784&#45;&gt;471394176 -->\n",
       "<g class=\"edge\" id=\"edge37\"><title>471393784-&gt;471394176</title>\n",
       "<path d=\"M143.5,-1022.31C143.5,-1014.29 143.5,-1004.55 143.5,-995.569\" fill=\"none\" stroke=\"black\"/>\n",
       "<polygon fill=\"black\" points=\"147,-995.529 143.5,-985.529 140,-995.529 147,-995.529\" stroke=\"black\"/>\n",
       "</g>\n",
       "<!-- 471394456 -->\n",
       "<g class=\"node\" id=\"node39\"><title>471394456</title>\n",
       "<polygon fill=\"none\" points=\"66,-876.5 66,-912.5 221,-912.5 221,-876.5 66,-876.5\" stroke=\"black\"/>\n",
       "<text font-family=\"Times New Roman,serif\" font-size=\"14.00\" text-anchor=\"middle\" x=\"143.5\" y=\"-890.8\">activation_22: Activation</text>\n",
       "</g>\n",
       "<!-- 471394176&#45;&gt;471394456 -->\n",
       "<g class=\"edge\" id=\"edge38\"><title>471394176-&gt;471394456</title>\n",
       "<path d=\"M143.5,-949.313C143.5,-941.289 143.5,-931.547 143.5,-922.569\" fill=\"none\" stroke=\"black\"/>\n",
       "<polygon fill=\"black\" points=\"147,-922.529 143.5,-912.529 140,-922.529 147,-922.529\" stroke=\"black\"/>\n",
       "</g>\n",
       "<!-- 471394512 -->\n",
       "<g class=\"node\" id=\"node40\"><title>471394512</title>\n",
       "<polygon fill=\"none\" points=\"36,-803.5 36,-839.5 251,-839.5 251,-803.5 36,-803.5\" stroke=\"black\"/>\n",
       "<text font-family=\"Times New Roman,serif\" font-size=\"14.00\" text-anchor=\"middle\" x=\"143.5\" y=\"-817.8\">max_pooling2d_10: MaxPooling2D</text>\n",
       "</g>\n",
       "<!-- 471394456&#45;&gt;471394512 -->\n",
       "<g class=\"edge\" id=\"edge39\"><title>471394456-&gt;471394512</title>\n",
       "<path d=\"M143.5,-876.313C143.5,-868.289 143.5,-858.547 143.5,-849.569\" fill=\"none\" stroke=\"black\"/>\n",
       "<polygon fill=\"black\" points=\"147,-849.529 143.5,-839.529 140,-849.529 147,-849.529\" stroke=\"black\"/>\n",
       "</g>\n",
       "<!-- 471394680 -->\n",
       "<g class=\"node\" id=\"node41\"><title>471394680</title>\n",
       "<polygon fill=\"none\" points=\"75,-730.5 75,-766.5 212,-766.5 212,-730.5 75,-730.5\" stroke=\"black\"/>\n",
       "<text font-family=\"Times New Roman,serif\" font-size=\"14.00\" text-anchor=\"middle\" x=\"143.5\" y=\"-744.8\">dropout_11: Dropout</text>\n",
       "</g>\n",
       "<!-- 471394512&#45;&gt;471394680 -->\n",
       "<g class=\"edge\" id=\"edge40\"><title>471394512-&gt;471394680</title>\n",
       "<path d=\"M143.5,-803.313C143.5,-795.289 143.5,-785.547 143.5,-776.569\" fill=\"none\" stroke=\"black\"/>\n",
       "<polygon fill=\"black\" points=\"147,-776.529 143.5,-766.529 140,-776.529 147,-776.529\" stroke=\"black\"/>\n",
       "</g>\n",
       "<!-- 471394736 -->\n",
       "<g class=\"node\" id=\"node42\"><title>471394736</title>\n",
       "<polygon fill=\"none\" points=\"76.5,-657.5 76.5,-693.5 210.5,-693.5 210.5,-657.5 76.5,-657.5\" stroke=\"black\"/>\n",
       "<text font-family=\"Times New Roman,serif\" font-size=\"14.00\" text-anchor=\"middle\" x=\"143.5\" y=\"-671.8\">conv2d_23: Conv2D</text>\n",
       "</g>\n",
       "<!-- 471394680&#45;&gt;471394736 -->\n",
       "<g class=\"edge\" id=\"edge41\"><title>471394680-&gt;471394736</title>\n",
       "<path d=\"M143.5,-730.313C143.5,-722.289 143.5,-712.547 143.5,-703.569\" fill=\"none\" stroke=\"black\"/>\n",
       "<polygon fill=\"black\" points=\"147,-703.529 143.5,-693.529 140,-703.529 147,-703.529\" stroke=\"black\"/>\n",
       "</g>\n",
       "<!-- 471395128 -->\n",
       "<g class=\"node\" id=\"node43\"><title>471395128</title>\n",
       "<polygon fill=\"none\" points=\"10.5,-584.5 10.5,-620.5 276.5,-620.5 276.5,-584.5 10.5,-584.5\" stroke=\"black\"/>\n",
       "<text font-family=\"Times New Roman,serif\" font-size=\"14.00\" text-anchor=\"middle\" x=\"143.5\" y=\"-598.8\">batch_normalization_24: BatchNormalization</text>\n",
       "</g>\n",
       "<!-- 471394736&#45;&gt;471395128 -->\n",
       "<g class=\"edge\" id=\"edge42\"><title>471394736-&gt;471395128</title>\n",
       "<path d=\"M143.5,-657.313C143.5,-649.289 143.5,-639.547 143.5,-630.569\" fill=\"none\" stroke=\"black\"/>\n",
       "<polygon fill=\"black\" points=\"147,-630.529 143.5,-620.529 140,-630.529 147,-630.529\" stroke=\"black\"/>\n",
       "</g>\n",
       "<!-- 471395408 -->\n",
       "<g class=\"node\" id=\"node44\"><title>471395408</title>\n",
       "<polygon fill=\"none\" points=\"66,-511.5 66,-547.5 221,-547.5 221,-511.5 66,-511.5\" stroke=\"black\"/>\n",
       "<text font-family=\"Times New Roman,serif\" font-size=\"14.00\" text-anchor=\"middle\" x=\"143.5\" y=\"-525.8\">activation_23: Activation</text>\n",
       "</g>\n",
       "<!-- 471395128&#45;&gt;471395408 -->\n",
       "<g class=\"edge\" id=\"edge43\"><title>471395128-&gt;471395408</title>\n",
       "<path d=\"M143.5,-584.313C143.5,-576.289 143.5,-566.547 143.5,-557.569\" fill=\"none\" stroke=\"black\"/>\n",
       "<polygon fill=\"black\" points=\"147,-557.529 143.5,-547.529 140,-557.529 147,-557.529\" stroke=\"black\"/>\n",
       "</g>\n",
       "<!-- 471395464 -->\n",
       "<g class=\"node\" id=\"node45\"><title>471395464</title>\n",
       "<polygon fill=\"none\" points=\"76.5,-438.5 76.5,-474.5 210.5,-474.5 210.5,-438.5 76.5,-438.5\" stroke=\"black\"/>\n",
       "<text font-family=\"Times New Roman,serif\" font-size=\"14.00\" text-anchor=\"middle\" x=\"143.5\" y=\"-452.8\">conv2d_24: Conv2D</text>\n",
       "</g>\n",
       "<!-- 471395408&#45;&gt;471395464 -->\n",
       "<g class=\"edge\" id=\"edge44\"><title>471395408-&gt;471395464</title>\n",
       "<path d=\"M143.5,-511.313C143.5,-503.289 143.5,-493.547 143.5,-484.569\" fill=\"none\" stroke=\"black\"/>\n",
       "<polygon fill=\"black\" points=\"147,-484.529 143.5,-474.529 140,-484.529 147,-484.529\" stroke=\"black\"/>\n",
       "</g>\n",
       "<!-- 471395856 -->\n",
       "<g class=\"node\" id=\"node46\"><title>471395856</title>\n",
       "<polygon fill=\"none\" points=\"10.5,-365.5 10.5,-401.5 276.5,-401.5 276.5,-365.5 10.5,-365.5\" stroke=\"black\"/>\n",
       "<text font-family=\"Times New Roman,serif\" font-size=\"14.00\" text-anchor=\"middle\" x=\"143.5\" y=\"-379.8\">batch_normalization_25: BatchNormalization</text>\n",
       "</g>\n",
       "<!-- 471395464&#45;&gt;471395856 -->\n",
       "<g class=\"edge\" id=\"edge45\"><title>471395464-&gt;471395856</title>\n",
       "<path d=\"M143.5,-438.313C143.5,-430.289 143.5,-420.547 143.5,-411.569\" fill=\"none\" stroke=\"black\"/>\n",
       "<polygon fill=\"black\" points=\"147,-411.529 143.5,-401.529 140,-411.529 147,-411.529\" stroke=\"black\"/>\n",
       "</g>\n",
       "<!-- 471396136 -->\n",
       "<g class=\"node\" id=\"node47\"><title>471396136</title>\n",
       "<polygon fill=\"none\" points=\"66,-292.5 66,-328.5 221,-328.5 221,-292.5 66,-292.5\" stroke=\"black\"/>\n",
       "<text font-family=\"Times New Roman,serif\" font-size=\"14.00\" text-anchor=\"middle\" x=\"143.5\" y=\"-306.8\">activation_24: Activation</text>\n",
       "</g>\n",
       "<!-- 471395856&#45;&gt;471396136 -->\n",
       "<g class=\"edge\" id=\"edge46\"><title>471395856-&gt;471396136</title>\n",
       "<path d=\"M143.5,-365.313C143.5,-357.289 143.5,-347.547 143.5,-338.569\" fill=\"none\" stroke=\"black\"/>\n",
       "<polygon fill=\"black\" points=\"147,-338.529 143.5,-328.529 140,-338.529 147,-338.529\" stroke=\"black\"/>\n",
       "</g>\n",
       "<!-- 471396192 -->\n",
       "<g class=\"node\" id=\"node48\"><title>471396192</title>\n",
       "<polygon fill=\"none\" points=\"0,-219.5 0,-255.5 287,-255.5 287,-219.5 0,-219.5\" stroke=\"black\"/>\n",
       "<text font-family=\"Times New Roman,serif\" font-size=\"14.00\" text-anchor=\"middle\" x=\"143.5\" y=\"-233.8\">global_max_pooling2d_2: GlobalMaxPooling2D</text>\n",
       "</g>\n",
       "<!-- 471396136&#45;&gt;471396192 -->\n",
       "<g class=\"edge\" id=\"edge47\"><title>471396136-&gt;471396192</title>\n",
       "<path d=\"M143.5,-292.313C143.5,-284.289 143.5,-274.547 143.5,-265.569\" fill=\"none\" stroke=\"black\"/>\n",
       "<polygon fill=\"black\" points=\"147,-265.529 143.5,-255.529 140,-265.529 147,-265.529\" stroke=\"black\"/>\n",
       "</g>\n",
       "<!-- 471285488 -->\n",
       "<g class=\"node\" id=\"node49\"><title>471285488</title>\n",
       "<polygon fill=\"none\" points=\"10.5,-146.5 10.5,-182.5 276.5,-182.5 276.5,-146.5 10.5,-146.5\" stroke=\"black\"/>\n",
       "<text font-family=\"Times New Roman,serif\" font-size=\"14.00\" text-anchor=\"middle\" x=\"143.5\" y=\"-160.8\">batch_normalization_26: BatchNormalization</text>\n",
       "</g>\n",
       "<!-- 471396192&#45;&gt;471285488 -->\n",
       "<g class=\"edge\" id=\"edge48\"><title>471396192-&gt;471285488</title>\n",
       "<path d=\"M143.5,-219.313C143.5,-211.289 143.5,-201.547 143.5,-192.569\" fill=\"none\" stroke=\"black\"/>\n",
       "<polygon fill=\"black\" points=\"147,-192.529 143.5,-182.529 140,-192.529 147,-192.529\" stroke=\"black\"/>\n",
       "</g>\n",
       "<!-- 471441704 -->\n",
       "<g class=\"node\" id=\"node50\"><title>471441704</title>\n",
       "<polygon fill=\"none\" points=\"75,-73.5 75,-109.5 212,-109.5 212,-73.5 75,-73.5\" stroke=\"black\"/>\n",
       "<text font-family=\"Times New Roman,serif\" font-size=\"14.00\" text-anchor=\"middle\" x=\"143.5\" y=\"-87.8\">dropout_12: Dropout</text>\n",
       "</g>\n",
       "<!-- 471285488&#45;&gt;471441704 -->\n",
       "<g class=\"edge\" id=\"edge49\"><title>471285488-&gt;471441704</title>\n",
       "<path d=\"M143.5,-146.313C143.5,-138.289 143.5,-128.547 143.5,-119.569\" fill=\"none\" stroke=\"black\"/>\n",
       "<polygon fill=\"black\" points=\"147,-119.529 143.5,-109.529 140,-119.529 147,-119.529\" stroke=\"black\"/>\n",
       "</g>\n",
       "<!-- 471441760 -->\n",
       "<g class=\"node\" id=\"node51\"><title>471441760</title>\n",
       "<polygon fill=\"none\" points=\"91.5,-0.5 91.5,-36.5 195.5,-36.5 195.5,-0.5 91.5,-0.5\" stroke=\"black\"/>\n",
       "<text font-family=\"Times New Roman,serif\" font-size=\"14.00\" text-anchor=\"middle\" x=\"143.5\" y=\"-14.8\">dense_2: Dense</text>\n",
       "</g>\n",
       "<!-- 471441704&#45;&gt;471441760 -->\n",
       "<g class=\"edge\" id=\"edge50\"><title>471441704-&gt;471441760</title>\n",
       "<path d=\"M143.5,-73.3129C143.5,-65.2895 143.5,-55.5475 143.5,-46.5691\" fill=\"none\" stroke=\"black\"/>\n",
       "<polygon fill=\"black\" points=\"147,-46.5288 143.5,-36.5288 140,-46.5289 147,-46.5288\" stroke=\"black\"/>\n",
       "</g>\n",
       "</g>\n",
       "</svg>"
      ],
      "text/plain": [
       "<IPython.core.display.SVG object>"
      ]
     },
     "execution_count": 66,
     "metadata": {},
     "output_type": "execute_result"
    }
   ],
   "source": [
    "from keras.utils import plot_model\n",
    "from IPython.display import SVG\n",
    "from keras.utils.vis_utils import model_to_dot\n",
    "\n",
    "plot_model(model, to_file='./output/model.png')\n",
    "SVG(model_to_dot(model).create(prog='dot', format='svg'))"
   ]
  },
  {
   "cell_type": "code",
   "execution_count": null,
   "metadata": {},
   "outputs": [],
   "source": []
  }
 ],
 "metadata": {
  "kernelspec": {
   "display_name": "Python 3",
   "language": "python",
   "name": "python3"
  },
  "language_info": {
   "codemirror_mode": {
    "name": "ipython",
    "version": 3
   },
   "file_extension": ".py",
   "mimetype": "text/x-python",
   "name": "python",
   "nbconvert_exporter": "python",
   "pygments_lexer": "ipython3",
   "version": "3.6.8"
  }
 },
 "nbformat": 4,
 "nbformat_minor": 2
}
